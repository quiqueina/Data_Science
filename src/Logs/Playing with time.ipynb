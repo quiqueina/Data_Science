{
 "cells": [
  {
   "cell_type": "markdown",
   "metadata": {},
   "source": [
    "# Playing with Timestamp values"
   ]
  },
  {
   "cell_type": "code",
   "execution_count": 2,
   "metadata": {},
   "outputs": [],
   "source": [
    "# Imports\n",
    "import pandas as pd\n",
    "import plotly_express as px\n",
    "import datetime\n",
    "from datetime import datetime"
   ]
  },
  {
   "cell_type": "code",
   "execution_count": 17,
   "metadata": {},
   "outputs": [
    {
     "data": {
      "text/html": [
       "<div>\n",
       "<style scoped>\n",
       "    .dataframe tbody tr th:only-of-type {\n",
       "        vertical-align: middle;\n",
       "    }\n",
       "\n",
       "    .dataframe tbody tr th {\n",
       "        vertical-align: top;\n",
       "    }\n",
       "\n",
       "    .dataframe thead th {\n",
       "        text-align: right;\n",
       "    }\n",
       "</style>\n",
       "<table border=\"1\" class=\"dataframe\">\n",
       "  <thead>\n",
       "    <tr style=\"text-align: right;\">\n",
       "      <th></th>\n",
       "      <th>Unnamed: 0</th>\n",
       "      <th>RECOGNIZER_DT</th>\n",
       "      <th>INPUT</th>\n",
       "      <th>OUTPUT</th>\n",
       "      <th>INTENT</th>\n",
       "      <th>ENTITIES</th>\n",
       "      <th>AURA_ID_GLOBAL</th>\n",
       "    </tr>\n",
       "  </thead>\n",
       "  <tbody>\n",
       "    <tr>\n",
       "      <th>0</th>\n",
       "      <td>111968</td>\n",
       "      <td>2019-02-23T16:38:28.109Z</td>\n",
       "      <td>PON CANAL SEIS</td>\n",
       "      <td>{\"score\":0.999956131,\"intent\":\"tef.int.es_ES.m...</td>\n",
       "      <td>tv.display</td>\n",
       "      <td>SEIS</td>\n",
       "      <td>346f960a-5acd-578f-0fff-73baf5ade36a</td>\n",
       "    </tr>\n",
       "    <tr>\n",
       "      <th>1</th>\n",
       "      <td>512096</td>\n",
       "      <td>2019-01-06T15:17:28.487Z</td>\n",
       "      <td>Atlético Sevilla</td>\n",
       "      <td>{\"score\":0.8643018,\"intent\":\"tef.int.es_ES.mp....</td>\n",
       "      <td>tv.search</td>\n",
       "      <td>Atlético Sevilla</td>\n",
       "      <td>a536239e-1c16-da42-602e-991ae8a98413</td>\n",
       "    </tr>\n",
       "    <tr>\n",
       "      <th>2</th>\n",
       "      <td>1036316</td>\n",
       "      <td>2018-12-31T20:42:27.590Z</td>\n",
       "      <td>QUÉ HORA ES</td>\n",
       "      <td>{\"score\":0.999996662,\"intent\":\"tef.int.es_ES.m...</td>\n",
       "      <td>tv.question_time_loc</td>\n",
       "      <td>NaN</td>\n",
       "      <td>85b63007-1f10-2f74-1f5b-5c0c5a286ba0</td>\n",
       "    </tr>\n",
       "    <tr>\n",
       "      <th>3</th>\n",
       "      <td>134656</td>\n",
       "      <td>2019-02-01T11:55:52.083Z</td>\n",
       "      <td>ENCIENDE LA TELE</td>\n",
       "      <td>{\"score\":1,\"intent\":\"tef.int.es_ES.mh.tv.on\",\"...</td>\n",
       "      <td>tv.on</td>\n",
       "      <td>NaN</td>\n",
       "      <td>294b74be-5b87-f2a5-68d5-32661330804a</td>\n",
       "    </tr>\n",
       "    <tr>\n",
       "      <th>4</th>\n",
       "      <td>752619</td>\n",
       "      <td>2018-12-14T21:08:42.561Z</td>\n",
       "      <td>Terror</td>\n",
       "      <td>{\"score\":0.9688243,\"intent\":\"tef.int.es_ES.mp....</td>\n",
       "      <td>tv.search</td>\n",
       "      <td>Terror</td>\n",
       "      <td>584b4a20-2256-16da-e8a6-63ad578129a3</td>\n",
       "    </tr>\n",
       "    <tr>\n",
       "      <th>...</th>\n",
       "      <td>...</td>\n",
       "      <td>...</td>\n",
       "      <td>...</td>\n",
       "      <td>...</td>\n",
       "      <td>...</td>\n",
       "      <td>...</td>\n",
       "      <td>...</td>\n",
       "    </tr>\n",
       "    <tr>\n",
       "      <th>3995</th>\n",
       "      <td>1042083</td>\n",
       "      <td>2019-03-01T14:56:16.339Z</td>\n",
       "      <td>CANCELAR</td>\n",
       "      <td>{\"score\":0,\"intent\":null,\"entities\":[]}</td>\n",
       "      <td>NaN</td>\n",
       "      <td>NaN</td>\n",
       "      <td>8505982c-7973-b992-7a6d-c2f259a4118b</td>\n",
       "    </tr>\n",
       "    <tr>\n",
       "      <th>3996</th>\n",
       "      <td>1120254</td>\n",
       "      <td>2019-03-10T08:47:40.687Z</td>\n",
       "      <td>LLAMA A MAMÁ</td>\n",
       "      <td>{\"score\":1,\"intent\":\"tef.int.es_ES.mh.communic...</td>\n",
       "      <td>communications.call_by_name</td>\n",
       "      <td>MAMÁ</td>\n",
       "      <td>c925ba42-d19f-e692-93ba-c1615119b72a</td>\n",
       "    </tr>\n",
       "    <tr>\n",
       "      <th>3997</th>\n",
       "      <td>974150</td>\n",
       "      <td>2018-12-27T20:09:38.985Z</td>\n",
       "      <td>PON LA EUROLIGA</td>\n",
       "      <td>{\"score\":0.999048948,\"intent\":\"tef.int.es_ES.m...</td>\n",
       "      <td>tv.display</td>\n",
       "      <td>EUROLIGA</td>\n",
       "      <td>f5030743-7616-ca06-f91e-7a17912a0bd2</td>\n",
       "    </tr>\n",
       "    <tr>\n",
       "      <th>3998</th>\n",
       "      <td>573949</td>\n",
       "      <td>2019-01-17T19:49:26.602Z</td>\n",
       "      <td>REAL SOCIEDAD BETIS OK</td>\n",
       "      <td>{\"score\":0.836122,\"intent\":\"tef.int.es_ES.mh.t...</td>\n",
       "      <td>tv.search</td>\n",
       "      <td>SOCIEDAD,BETIS</td>\n",
       "      <td>03450533-b118-0f52-ca7e-83d58fe95f24</td>\n",
       "    </tr>\n",
       "    <tr>\n",
       "      <th>3999</th>\n",
       "      <td>1255998</td>\n",
       "      <td>2019-03-25T19:16:18.332Z</td>\n",
       "      <td>ENCIENDE LA TELE</td>\n",
       "      <td>{\"score\":1,\"intent\":\"tef.int.es_ES.mh.tv.on\",\"...</td>\n",
       "      <td>tv.on</td>\n",
       "      <td>NaN</td>\n",
       "      <td>a47a39d8-f343-7cd3-be03-d6b93d36f174</td>\n",
       "    </tr>\n",
       "  </tbody>\n",
       "</table>\n",
       "<p>4000 rows × 7 columns</p>\n",
       "</div>"
      ],
      "text/plain": [
       "      Unnamed: 0             RECOGNIZER_DT                   INPUT  \\\n",
       "0         111968  2019-02-23T16:38:28.109Z          PON CANAL SEIS   \n",
       "1         512096  2019-01-06T15:17:28.487Z        Atlético Sevilla   \n",
       "2        1036316  2018-12-31T20:42:27.590Z             QUÉ HORA ES   \n",
       "3         134656  2019-02-01T11:55:52.083Z        ENCIENDE LA TELE   \n",
       "4         752619  2018-12-14T21:08:42.561Z                  Terror   \n",
       "...          ...                       ...                     ...   \n",
       "3995     1042083  2019-03-01T14:56:16.339Z                CANCELAR   \n",
       "3996     1120254  2019-03-10T08:47:40.687Z            LLAMA A MAMÁ   \n",
       "3997      974150  2018-12-27T20:09:38.985Z         PON LA EUROLIGA   \n",
       "3998      573949  2019-01-17T19:49:26.602Z  REAL SOCIEDAD BETIS OK   \n",
       "3999     1255998  2019-03-25T19:16:18.332Z        ENCIENDE LA TELE   \n",
       "\n",
       "                                                 OUTPUT  \\\n",
       "0     {\"score\":0.999956131,\"intent\":\"tef.int.es_ES.m...   \n",
       "1     {\"score\":0.8643018,\"intent\":\"tef.int.es_ES.mp....   \n",
       "2     {\"score\":0.999996662,\"intent\":\"tef.int.es_ES.m...   \n",
       "3     {\"score\":1,\"intent\":\"tef.int.es_ES.mh.tv.on\",\"...   \n",
       "4     {\"score\":0.9688243,\"intent\":\"tef.int.es_ES.mp....   \n",
       "...                                                 ...   \n",
       "3995            {\"score\":0,\"intent\":null,\"entities\":[]}   \n",
       "3996  {\"score\":1,\"intent\":\"tef.int.es_ES.mh.communic...   \n",
       "3997  {\"score\":0.999048948,\"intent\":\"tef.int.es_ES.m...   \n",
       "3998  {\"score\":0.836122,\"intent\":\"tef.int.es_ES.mh.t...   \n",
       "3999  {\"score\":1,\"intent\":\"tef.int.es_ES.mh.tv.on\",\"...   \n",
       "\n",
       "                           INTENT          ENTITIES  \\\n",
       "0                      tv.display              SEIS   \n",
       "1                       tv.search  Atlético Sevilla   \n",
       "2            tv.question_time_loc               NaN   \n",
       "3                           tv.on               NaN   \n",
       "4                       tv.search            Terror   \n",
       "...                           ...               ...   \n",
       "3995                          NaN               NaN   \n",
       "3996  communications.call_by_name              MAMÁ   \n",
       "3997                   tv.display          EUROLIGA   \n",
       "3998                    tv.search    SOCIEDAD,BETIS   \n",
       "3999                        tv.on               NaN   \n",
       "\n",
       "                            AURA_ID_GLOBAL  \n",
       "0     346f960a-5acd-578f-0fff-73baf5ade36a  \n",
       "1     a536239e-1c16-da42-602e-991ae8a98413  \n",
       "2     85b63007-1f10-2f74-1f5b-5c0c5a286ba0  \n",
       "3     294b74be-5b87-f2a5-68d5-32661330804a  \n",
       "4     584b4a20-2256-16da-e8a6-63ad578129a3  \n",
       "...                                    ...  \n",
       "3995  8505982c-7973-b992-7a6d-c2f259a4118b  \n",
       "3996  c925ba42-d19f-e692-93ba-c1615119b72a  \n",
       "3997  f5030743-7616-ca06-f91e-7a17912a0bd2  \n",
       "3998  03450533-b118-0f52-ca7e-83d58fe95f24  \n",
       "3999  a47a39d8-f343-7cd3-be03-d6b93d36f174  \n",
       "\n",
       "[4000 rows x 7 columns]"
      ]
     },
     "execution_count": 17,
     "metadata": {},
     "output_type": "execute_result"
    }
   ],
   "source": [
    "df = pd.read_csv(\"/home/kike/Documentos/repos/Data_Science/Data/df_shorted.csv\")\n",
    "df = df.drop([\"CHANNEL_CD\",\"idx\",\"RECOGNIZER_ID\", \"CORR_ID\",\"STATUS_CD\",\"REASON\",\"VERSION_ID\",\"DURATION_NU\",\"AURA_ID\",\"SCORE_NU\",\"num_file\"],axis=1)\n",
    "df"
   ]
  },
  {
   "cell_type": "code",
   "execution_count": 18,
   "metadata": {},
   "outputs": [],
   "source": [
    "df['DATE'] = pd.to_datetime(df['RECOGNIZER_DT']).dt.date"
   ]
  },
  {
   "cell_type": "code",
   "execution_count": 19,
   "metadata": {},
   "outputs": [],
   "source": [
    "df['HOUR'] = pd.to_datetime(df['RECOGNIZER_DT']).dt.hour\n",
    "#df['HOUR'] = datetime.strftime(df[\"HOUR\"], \"%d %b %Y  %H:%M:%S\")"
   ]
  },
  {
   "cell_type": "code",
   "execution_count": 20,
   "metadata": {},
   "outputs": [
    {
     "data": {
      "text/plain": [
       "Index(['Unnamed: 0', 'RECOGNIZER_DT', 'INPUT', 'OUTPUT', 'INTENT', 'ENTITIES',\n",
       "       'AURA_ID_GLOBAL', 'DATE', 'HOUR'],\n",
       "      dtype='object')"
      ]
     },
     "execution_count": 20,
     "metadata": {},
     "output_type": "execute_result"
    }
   ],
   "source": [
    "df.columns"
   ]
  },
  {
   "cell_type": "code",
   "execution_count": 21,
   "metadata": {},
   "outputs": [
    {
     "data": {
      "text/plain": [
       "Unnamed: 0                                                   111968\n",
       "RECOGNIZER_DT                              2019-02-23T16:38:28.109Z\n",
       "INPUT                                                PON CANAL SEIS\n",
       "OUTPUT            {\"score\":0.999956131,\"intent\":\"tef.int.es_ES.m...\n",
       "INTENT                                                   tv.display\n",
       "ENTITIES                                                       SEIS\n",
       "AURA_ID_GLOBAL                 346f960a-5acd-578f-0fff-73baf5ade36a\n",
       "DATE                                                     2019-02-23\n",
       "HOUR                                                             16\n",
       "Name: 0, dtype: object"
      ]
     },
     "execution_count": 21,
     "metadata": {},
     "output_type": "execute_result"
    }
   ],
   "source": [
    "df.loc[0]"
   ]
  },
  {
   "cell_type": "code",
   "execution_count": null,
   "metadata": {},
   "outputs": [],
   "source": []
  }
 ],
 "metadata": {
  "kernelspec": {
   "display_name": "Kikenv",
   "language": "python",
   "name": "kikenv"
  },
  "language_info": {
   "codemirror_mode": {
    "name": "ipython",
    "version": 3
   },
   "file_extension": ".py",
   "mimetype": "text/x-python",
   "name": "python",
   "nbconvert_exporter": "python",
   "pygments_lexer": "ipython3",
   "version": "3.6.9"
  }
 },
 "nbformat": 4,
 "nbformat_minor": 2
}
