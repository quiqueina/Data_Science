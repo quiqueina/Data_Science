{
 "cells": [
  {
   "cell_type": "markdown",
   "metadata": {},
   "source": [
    "# Creating Clean CSV\n",
    "\n",
    "explore the biorxiv subset of the papers. Since it is stored in JSON format, the structure is likely too complex to directly perform analysis. Thus, I not only explore the structure of those files, but I also provide the following helper functions for you to easily format inner dictionaries from each file:\n",
    "\n",
    "format_name(author)\n",
    "format_affiliation(affiliation)\n",
    "format_authors(authors, with_affiliation=False)\n",
    "format_body(body_text)\n",
    "format_bib(bibs)"
   ]
  },
  {
   "cell_type": "code",
   "execution_count": 1,
   "metadata": {},
   "outputs": [],
   "source": [
    "import os\n",
    "import json\n",
    "from pprint import pprint\n",
    "from copy import deepcopy\n",
    "import ipywidgets\n",
    "import numpy as np \n",
    "import pandas as pd\n",
    "from tqdm.notebook import tqdm"
   ]
  },
  {
   "cell_type": "code",
   "execution_count": 2,
   "metadata": {},
   "outputs": [],
   "source": [
    "def format_name(author):\n",
    "    middle_name = \" \".join(author['middle'])\n",
    "    \n",
    "    if author['middle']:\n",
    "        return \" \".join([author['first'], middle_name, author['last']])\n",
    "    else:\n",
    "        return \" \".join([author['first'], author['last']])\n",
    "\n",
    "\n",
    "def format_affiliation(affiliation):\n",
    "    text = []\n",
    "    location = affiliation.get('location')\n",
    "    if location:\n",
    "        text.extend(list(affiliation['location'].values()))\n",
    "    \n",
    "    institution = affiliation.get('institution')\n",
    "    if institution:\n",
    "        text = [institution] + text\n",
    "    return \", \".join(text)\n",
    "\n",
    "def format_authors(authors, with_affiliation=False):\n",
    "    name_ls = []\n",
    "    \n",
    "    for author in authors:\n",
    "        name = format_name(author)\n",
    "        if with_affiliation:\n",
    "            affiliation = format_affiliation(author['affiliation'])\n",
    "            if affiliation:\n",
    "                name_ls.append(f\"{name} ({affiliation})\")\n",
    "            else:\n",
    "                name_ls.append(name)\n",
    "        else:\n",
    "            name_ls.append(name)\n",
    "    \n",
    "    return \", \".join(name_ls)\n",
    "\n",
    "def format_body(body_text):\n",
    "    texts = [(di['section'], di['text']) for di in body_text]\n",
    "    texts_di = {di['section']: \"\" for di in body_text}\n",
    "    \n",
    "    for section, text in texts:\n",
    "        texts_di[section] += text\n",
    "\n",
    "    body = \"\"\n",
    "\n",
    "    for section, text in texts_di.items():\n",
    "        body += section\n",
    "        body += \"\\n\\n\"\n",
    "        body += text\n",
    "        body += \"\\n\\n\"\n",
    "    \n",
    "    return body\n",
    "\n",
    "def format_bib(bibs):\n",
    "    if type(bibs) == dict:\n",
    "        bibs = list(bibs.values())\n",
    "    bibs = deepcopy(bibs)\n",
    "    formatted = []\n",
    "    \n",
    "    for bib in bibs:\n",
    "        bib['authors'] = format_authors(\n",
    "            bib['authors'], \n",
    "            with_affiliation=False\n",
    "        )\n",
    "        formatted_ls = [str(bib[k]) for k in ['title', 'authors', 'venue', 'year']]\n",
    "        formatted.append(\", \".join(formatted_ls))\n",
    "\n",
    "    return \"; \".join(formatted)"
   ]
  },
  {
   "cell_type": "code",
   "execution_count": 3,
   "metadata": {},
   "outputs": [],
   "source": [
    "def load_files(dirname):\n",
    "    filenames = os.listdir(dirname)\n",
    "    raw_files = []\n",
    "\n",
    "    for filename in tqdm(filenames):\n",
    "        filename = dirname + filename\n",
    "        file = json.load(open(filename, 'rb'))\n",
    "        raw_files.append(file)\n",
    "    \n",
    "    return raw_files\n",
    "\n",
    "def generate_clean_df(all_files):\n",
    "    cleaned_files = []\n",
    "    \n",
    "    for file in tqdm(all_files):\n",
    "        features = [\n",
    "            file['paper_id'],\n",
    "            file['metadata']['title'],\n",
    "            format_authors(file['metadata']['authors']),\n",
    "            format_authors(file['metadata']['authors'],  with_affiliation=True),\n",
    "            format_body(file['abstract']),\n",
    "            format_body(file['body_text']),\n",
    "            format_bib(file['bib_entries']),\n",
    "            file['metadata']['authors'],\n",
    "            file['bib_entries']\n",
    "        ]\n",
    "\n",
    "        cleaned_files.append(features)\n",
    "\n",
    "    col_names = ['paper_id', 'title', 'authors',\n",
    "                 'affiliations', 'abstract', 'text', \n",
    "                 'bibliography','raw_authors','raw_bibliography']\n",
    "\n",
    "    clean_df = pd.DataFrame(cleaned_files, columns=col_names)\n",
    "    clean_df.head()\n",
    "    \n",
    "    return clean_df\n"
   ]
  },
  {
   "cell_type": "markdown",
   "metadata": {},
   "source": [
    "# Biorxiv Exploration\n",
    "\n",
    "We will also use this opportunity to load all of the json files into a list of nested dictionaries (each dict is an article)."
   ]
  },
  {
   "cell_type": "code",
   "execution_count": 4,
   "metadata": {},
   "outputs": [
    {
     "name": "stdout",
     "output_type": "stream",
     "text": [
      "Number of articles retrieved from biorxiv: 885\n"
     ]
    }
   ],
   "source": [
    "biorxiv_dir = '/home/kike/Documentos/data/CORONAVIRUS/CORD-19-research-challenge/biorxiv_medrxiv/biorxiv_medrxiv/'\n",
    "filenames = os.listdir(biorxiv_dir)\n",
    "print(\"Number of articles retrieved from biorxiv:\", len(filenames))"
   ]
  },
  {
   "cell_type": "code",
   "execution_count": 5,
   "metadata": {},
   "outputs": [],
   "source": [
    "all_files = []\n",
    "\n",
    "for filename in filenames:\n",
    "    filename = biorxiv_dir + filename\n",
    "    file = json.load(open(filename, 'rb'))\n",
    "    all_files.append(file)"
   ]
  },
  {
   "cell_type": "code",
   "execution_count": 6,
   "metadata": {},
   "outputs": [
    {
     "name": "stdout",
     "output_type": "stream",
     "text": [
      "Dictionary keys: dict_keys(['paper_id', 'metadata', 'abstract', 'body_text', 'bib_entries', 'ref_entries', 'back_matter'])\n"
     ]
    }
   ],
   "source": [
    "file = all_files[1]\n",
    "print(\"Dictionary keys:\", file.keys())\n"
   ]
  },
  {
   "cell_type": "code",
   "execution_count": 7,
   "metadata": {},
   "outputs": [
    {
     "name": "stdout",
     "output_type": "stream",
     "text": [
      "[{'cite_spans': [],\n",
      "  'ref_spans': [],\n",
      "  'section': 'Abstract',\n",
      "  'text': 'Odor memories are exceptionally robust and essential for animal '\n",
      "          'survival. The olfactory (piriform) cortex has long been '\n",
      "          'hypothesized to encode odor memories, yet the cellular substrates '\n",
      "          'for olfactory learning and memory remain unknown. Here, using '\n",
      "          'intersectional, cFos-based genetic manipulations (\"Fos-tagging\"), '\n",
      "          'we show that olfactory fear conditioning activates sparse and '\n",
      "          'distributed ensembles of neurons in mouse piriform cortex. We '\n",
      "          'demonstrate that chemogenetic silencing of these Fostagged piriform '\n",
      "          'ensembles selectively interferes with odor fear memory retrieval, '\n",
      "          'but does not compromise basic odor detection and discrimination. '\n",
      "          'Furthermore, chemogenetic reactivation of piriform neurons that '\n",
      "          'were Fos-tagged during olfactory fear conditioning causes a '\n",
      "          'decrease in exploratory behavior, mimicking odor-evoked fear memory '\n",
      "          'recall. Together, our experiments identify odor-specific ensembles '\n",
      "          'of piriform neurons as necessary and sufficient for odor fear '\n",
      "          'memory recall. author/funder. All rights reserved. No reuse allowed '\n",
      "          'without permission.'}]\n"
     ]
    }
   ],
   "source": [
    "pprint(file['abstract'])\n"
   ]
  },
  {
   "cell_type": "code",
   "execution_count": 8,
   "metadata": {},
   "outputs": [
    {
     "name": "stdout",
     "output_type": "stream",
     "text": [
      "body_text type: <class 'list'>\n",
      "body_text length: 92\n",
      "body_text keys: dict_keys(['text', 'cite_spans', 'ref_spans', 'section'])\n"
     ]
    }
   ],
   "source": [
    "print(\"body_text type:\", type(file['body_text']))\n",
    "print(\"body_text length:\", len(file['body_text']))\n",
    "print(\"body_text keys:\", file['body_text'][0].keys())"
   ]
  },
  {
   "cell_type": "code",
   "execution_count": 9,
   "metadata": {},
   "outputs": [
    {
     "name": "stdout",
     "output_type": "stream",
     "text": [
      "body_text content:\n",
      "[{'cite_spans': [{...}],\n",
      "  'ref_spans': [],\n",
      "  'section': 'Introduction',\n",
      "  'text': 'Odor perception, and emotional and behavioral responses to odors '\n",
      "          'strongly depend on experience, and learned odor-context '\n",
      "          'associations often last for the lifetime of an animal (Mouly and '\n",
      "          'Sullivan, 2010) . The cellular and neural circuit mechanisms '\n",
      "          'underlying olfactory learning and memory, however, remain poorly '\n",
      "          'understood.'},\n",
      " {'cite_spans': [{...}, {...}, {...}, {...}, {...}, {...}],\n",
      "  'ref_spans': [],\n",
      "  'section': 'Introduction',\n",
      "  'text': 'Recent studies on episodic and contextual learning in hippocampal '\n",
      "          'neural networks have suggested that memories are encoded in the '\n",
      "          'activity of distributed ensembles of neurons, often referred to as '\n",
      "          \"a 'memory trace' (Mayford and Reijmers, 2015; Poo et al., 2016; \"\n",
      "          'Tonegawa et al., 2015) . The neurons constituting such a memory '\n",
      "          'trace are thought to encode information about the environmental '\n",
      "          'context and associated emotions of past experiences, and their '\n",
      "          'activity is necessary and sufficient for memory retrieval (Liu et '\n",
      "          'al., 2012; Reijmers et al., 2007; Tanaka et al., 2014) .'}]\n"
     ]
    }
   ],
   "source": [
    "print(\"body_text content:\")\n",
    "pprint(file['body_text'][:2], depth=3)"
   ]
  },
  {
   "cell_type": "code",
   "execution_count": 10,
   "metadata": {},
   "outputs": [
    {
     "name": "stdout",
     "output_type": "stream",
     "text": [
      "['Introduction',\n",
      " 'Fos-tagging and functional manipulation of piriform neurons',\n",
      " 'Fos-tagged neurons displayed diverse morphologies and electrophysiological '\n",
      " 'properties and included both excitatory and inhibitory neurons '\n",
      " '(Supplementary',\n",
      " 'Fos-tagged piriform ensembles are necessary for odor fear memory recall',\n",
      " 'Silencing Fos-tagged piriform ensembles does not alter odor detection and '\n",
      " 'discrimination',\n",
      " 'Fos-tagged piriform ensembles are odor-specific',\n",
      " 'Reactivation of Fos-tagged piriform ensembles is sufficient to retrieve an '\n",
      " 'odor fear memory',\n",
      " 'Discussion',\n",
      " 'Limitations of Fos-tagging for the study of olfactory memory traces',\n",
      " 'Memory traces in hippocampus and piriform cortex',\n",
      " 'Mice',\n",
      " 'Constructs and viruses',\n",
      " 'Stereotaxic injection',\n",
      " 'Electrophysiology',\n",
      " 'Behavioral apparatus',\n",
      " 'Behavioral procedures',\n",
      " 'Drugs',\n",
      " 'Data analysis',\n",
      " 'Statistics',\n",
      " 'Stereotaxic injection Habituation',\n",
      " 'CS+']\n"
     ]
    }
   ],
   "source": [
    "texts = [(di['section'], di['text']) for di in file['body_text']]\n",
    "texts_di = {di['section']: \"\" for di in file['body_text']}\n",
    "for section, text in texts:\n",
    "    texts_di[section] += text\n",
    "\n",
    "pprint(list(texts_di.keys()))"
   ]
  },
  {
   "cell_type": "code",
   "execution_count": 11,
   "metadata": {},
   "outputs": [
    {
     "name": "stdout",
     "output_type": "stream",
     "text": [
      "Introduction\n",
      "\n",
      "Odor perception, and emotional and behavioral responses to odors strongly depend on experience, and learned odor-context associations often last for the lifetime of an animal (Mouly and Sullivan, 2010) . The cellular and neural circuit mechanisms underlying olfactory learning and memory, however, remain poorly understood.Recent studies on episodic and contextual learning in hippocampal neural networks have suggested that memories are encoded in the activity of distributed ensembles of neurons, often referred to as a 'memory trace' (Mayford and Reijmers, 2015; Poo et al., 2016; Tonegawa et al., 2015) . The neurons constituting such a memory trace are thought to encode information about the environmental context and associated emotions of past experiences, and their activity is necessary and sufficient for memory retrieval (Liu et al., 2012; Reijmers et al., 2007; Tanaka et al., 2014) .Here, we investigate the organization of odor memory traces in the olfactory (piriform) cortex of mice. The piriform cortex, a trilaminar paleocortical structure, is the largest cortical area receiving direct afferent inputs from the olfactory bulb, which, in turn, receives topographically organized inputs from olfactory sensory neurons in the nose. Individual piriform neurons respond to combinatorial inputs from multiple Piriform cortex has long been hypothesized to support auto-associative network functions that can retrieve previously learned information from partial or degraded sensory inputs (Haberly, 2001; Wilson and Sullivan, 2011) . Piriform pyramidal cells form a large recurrent network, which is reciprocally connected with adjacent highorder associative areas including the prefrontal, entorhinal and perirhinal cortex and the amygdala (Johnson et al., 2000; Sadrian and Wilson, 2015) . Storage of information is made possible by NMDA-dependent, associative plasticity of connections (Johenning et al., 2009; Kanter and Haberly, 1990; Quinlan et al., 2004) .Furthermore, changes in piriform network activity (Chapuis and Wilson, 2011; Chen et al., 2011; Li et al., 2008; Sevelinges et al., 2004) and stabilization of piriform odor representations (Shakhawat et al., 2015) have been observed after associative olfactory learning. Finally, excitotoxic lesions of the posterior piriform cortex in rats perturb odor fear memories (Sacco and Sacchetti, 2010) , and optogenetic stimulation of artificial piriform ensembles is sufficient to drive learned behaviors (Choi et al., 2011) . Taken together, these studies have led to the hypothesis that piriform neural ensembles encode olfactory memory traces.To test this hypothesis, we have developed an intersectional genetic strategy in mice to target piriform neurons that are activated by olfactory experience. We employed\n",
      "\n",
      "Fos-tagging and functional manipulation of piriform neurons\n",
      "\n",
      "To selectively label and manipulate piriform neurons that were activated during odor exposure, we used cFos-tTA transgenic mice (Reijmers e\n"
     ]
    }
   ],
   "source": [
    "body = \"\"\n",
    "\n",
    "for section, text in texts_di.items():\n",
    "    body += section\n",
    "    body += \"\\n\\n\"\n",
    "    body += text\n",
    "    body += \"\\n\\n\"\n",
    "\n",
    "print(body[:3000])"
   ]
  },
  {
   "cell_type": "code",
   "execution_count": 12,
   "metadata": {},
   "outputs": [
    {
     "name": "stdout",
     "output_type": "stream",
     "text": [
      "Introduction\n",
      "\n",
      "Odor perception, and emotional and behavioral responses to odors strongly depend on experience, and learned odor-context associations often last for the lifetime of an animal (Mouly and Sullivan, 2010) . The cellular and neural circuit mechanisms underlying olfactory learning and memory, however, remain poorly understood.Recent studies on episodic and contextual learning in hippocampal neural networks have suggested that memories are encoded in the activity of distributed ensembles of neurons, often referred to as a 'memory trace' (Mayford and Reijmers, 2015; Poo et al., 2016; Tonegawa et al., 2015) . The neurons constituting such a memory trace are thought to encode information about the environmental context and associated emotions of past experiences, and their activity is necessary and sufficient for memory retrieval (Liu et al., 2012; Reijmers et al., 2007; Tanaka et al., 2014) .Here, we investigate the organization of odor memory traces in the olfactory (piriform) cortex of mice. The piriform cortex, a trilaminar paleocortical structure, is the largest cortical area receiving direct afferent inputs from the olfactory bulb, which, in turn, receives topographically organized inputs from olfactory sensory neurons in the nose. Individual piriform neurons respond to combinatorial inputs from multiple Piriform cortex has long been hypothesized to support auto-associative network functions that can retrieve previously learned information from partial or degraded sensory inputs (Haberly, 2001; Wilson and Sullivan, 2011) . Piriform pyramidal cells form a large recurrent network, which is reciprocally connected with adjacent highorder associative areas including the prefrontal, entorhinal and perirhinal cortex and the amygdala (Johnson et al., 2000; Sadrian and Wilson, 2015) . Storage of information is made possible by NMDA-dependent, associative plasticity of connections (Johenning et al., 2009; Kanter and Haberly, 1990; Quinlan et al., 2004) .Furthermore, changes in piriform network activity (Chapuis and Wilson, 2011; Chen et al., 2011; Li et al., 2008; Sevelinges et al., 2004) and stabilization of piriform odor representations (Shakhawat et al., 2015) have been observed after associative olfactory learning. Finally, excitotoxic lesions of the posterior piriform cortex in rats perturb odor fear memories (Sacco and Sacchetti, 2010) , and optogenetic stimulation of artificial piriform ensembles is sufficient to drive learned behaviors (Choi et al., 2011) . Taken together, these studies have led to the hypothesis that piriform neural ensembles encode olfactory memory traces.To test this hypothesis, we have developed an intersectional genetic strategy in mice to target piriform neurons that are activated by olfactory experience. We employed\n",
      "\n",
      "Fos-tagging and functional manipulation of piriform neurons\n",
      "\n",
      "To selectively label and manipulate piriform neurons that were activated during odor exposure, we used cFos-tTA transgenic mice (Reijmers e\n"
     ]
    }
   ],
   "source": [
    "body = \"\"\n",
    "\n",
    "for section, text in texts_di.items():\n",
    "    body += section\n",
    "    body += \"\\n\\n\"\n",
    "    body += text\n",
    "    body += \"\\n\\n\"\n",
    "\n",
    "print(body[:3000])"
   ]
  },
  {
   "cell_type": "code",
   "execution_count": 13,
   "metadata": {},
   "outputs": [
    {
     "name": "stdout",
     "output_type": "stream",
     "text": [
      "Introduction\n",
      "\n",
      "Odor perception, and emotional and behavioral responses to odors strongly depend on experience, and learned odor-context associations often last for the lifetime of an animal (Mouly and Sullivan, 2010) . The cellular and neural circuit mechanisms underlying olfactory learning and memory, however, remain poorly understood.Recent studies on episodic and contextual learning in hippocampal neural networks have suggested that memories are encoded in the activity of distributed ensembles of neurons, often referred to as a 'memory trace' (Mayford and Reijmers, 2015; Poo et al., 2016; Tonegawa et al., 2015) . The neurons constituting such a memory trace are thought to encode information about the environmental context and associated emotions of past experiences, and their activity is necessary and sufficient for memory retrieval (Liu et al., 2012; Reijmers et al., 2007; Tanaka et al., 2014) .Here, we investigate the organization of odor memory traces in the olfactory (piriform) cortex of mice. The piriform cortex, a trilaminar paleocortical structure, is the largest cortical area receiving direct afferent inputs from the olfactory bulb, which, in turn, receives topographically organized inputs from olfactory sensory neurons in the nose. Individual piriform neurons respond to combinatorial inputs from multiple Piriform cortex has long been hypothesized to support auto-associative network functions that can retrieve previously learned information from partial or degraded sensory inputs (Haberly, 2001; Wilson and Sullivan, 2011) . Piriform pyramidal cells form a large recurrent network, which is reciprocally connected with adjacent highorder associative areas including the prefrontal, entorhinal and perirhinal cortex and the amygdala (Johnson et al., 2000; Sadrian and Wilson, 2015) . Storage of information is made possible by NMDA-dependent, associative plasticity of connections (Johenning et al., 2009; Kanter and Haberly, 1990; Quinlan et al., 2004) .Furthermore, changes in piriform network activity (Chapuis and Wilson, 2011; Chen et al., 2011; Li et al., 2008; Sevelinges et al., 2004) and stabilization of piriform odor representations (Shakhawat et al., 2015) have been observed after associative olfactory learning. Finally, excitotoxic lesions of the posterior piriform cortex in rats perturb odor fear memories (Sacco and Sacchetti, 2010) , and optogenetic stimulation of artificial piriform ensembles is sufficient to drive learned behaviors (Choi et al., 2011) . Taken together, these studies have led to the hypothesis that piriform neural ensembles encode olfactory memory traces.To test this hypothesis, we have developed an intersectional genetic strategy in mice to target piriform neurons that are activated by olfactory experience. We employed\n",
      "\n",
      "Fos-tagging and functional manipulation of piriform neurons\n",
      "\n",
      "To selectively label and manipulate piriform neurons that were activated during odor exposure, we used cFos-tTA transgenic mice (Reijmers e\n"
     ]
    }
   ],
   "source": [
    "print(format_body(file['body_text'])[:3000])"
   ]
  },
  {
   "cell_type": "code",
   "execution_count": 14,
   "metadata": {},
   "outputs": [
    {
     "name": "stdout",
     "output_type": "stream",
     "text": [
      "dict_keys(['title', 'authors'])\n"
     ]
    }
   ],
   "source": [
    "print(all_files[0]['metadata'].keys())\n"
   ]
  },
  {
   "cell_type": "code",
   "execution_count": 15,
   "metadata": {},
   "outputs": [
    {
     "name": "stdout",
     "output_type": "stream",
     "text": [
      "Epidemic doubling time of the COVID-19 epidemic by Chinese province 1\n"
     ]
    }
   ],
   "source": [
    "print(all_files[0]['metadata']['title'])\n"
   ]
  },
  {
   "cell_type": "code",
   "execution_count": 16,
   "metadata": {},
   "outputs": [
    {
     "name": "stdout",
     "output_type": "stream",
     "text": [
      "[{'affiliation': {},\n",
      "  'email': '',\n",
      "  'first': 'Kamalich',\n",
      "  'last': 'Muniz-Rodriguez',\n",
      "  'middle': [],\n",
      "  'suffix': ''},\n",
      " {'affiliation': {},\n",
      "  'email': 'gchowell@gsu.edug.10chowellwesterpants@gmail.comc.-h.cheung',\n",
      "  'first': 'Gerardo',\n",
      "  'last': 'Chowell',\n",
      "  'middle': [],\n",
      "  'suffix': ''},\n",
      " {'affiliation': {},\n",
      "  'email': '',\n",
      "  'first': 'Chi-Hin',\n",
      "  'last': 'Cheung',\n",
      "  'middle': [],\n",
      "  'suffix': ''}]\n"
     ]
    }
   ],
   "source": [
    "authors = all_files[0]['metadata']['authors']\n",
    "pprint(authors[:3])"
   ]
  },
  {
   "cell_type": "code",
   "execution_count": 17,
   "metadata": {},
   "outputs": [
    {
     "name": "stdout",
     "output_type": "stream",
     "text": [
      "Name: Kamalich Muniz-Rodriguez\n",
      "Affiliation: \n",
      "\n",
      "Name: Gerardo Chowell\n",
      "Affiliation: \n",
      "\n",
      "Name: Chi-Hin Cheung\n",
      "Affiliation: \n",
      "\n",
      "Name: Dongyu Jia\n",
      "Affiliation: \n",
      "\n",
      "Name: ; \n",
      "Affiliation: \n",
      "\n",
      "Name: Po-Ying Lai\n",
      "Affiliation: \n",
      "\n",
      "Name: Yiseul Lee\n",
      "Affiliation: \n",
      "\n",
      "Name: Manyun Liu\n",
      "Affiliation: \n",
      "\n",
      "Name: Sylvia K Ofori\n",
      "Affiliation: \n",
      "\n",
      "Name: Kimberlyn M Roosa\n",
      "Affiliation: \n",
      "\n",
      "Name: Mph ; Lone Simonsen\n",
      "Affiliation: \n",
      "\n",
      "Name: Cecile Viboud\n",
      "Affiliation: \n",
      "\n",
      "Name: ; Isaac\n",
      "Affiliation: \n",
      "\n",
      "Name: Chun-Hai Fung\n",
      "Affiliation: \n",
      "\n"
     ]
    }
   ],
   "source": [
    "for author in authors:\n",
    "    print(\"Name:\", format_name(author))\n",
    "    print(\"Affiliation:\", format_affiliation(author['affiliation']))\n",
    "    print()"
   ]
  },
  {
   "cell_type": "code",
   "execution_count": 18,
   "metadata": {},
   "outputs": [
    {
     "name": "stdout",
     "output_type": "stream",
     "text": [
      "{'authors': [{'affiliation': {},\n",
      "              'email': '',\n",
      "              'first': 'Justina',\n",
      "              'last': 'Jankauskaitė',\n",
      "              'middle': [],\n",
      "              'suffix': ''},\n",
      "             {'affiliation': {},\n",
      "              'email': '',\n",
      "              'first': 'Brian',\n",
      "              'last': 'Jiménez-García',\n",
      "              'middle': [],\n",
      "              'suffix': ''},\n",
      "             {'affiliation': {},\n",
      "              'email': '',\n",
      "              'first': 'Justas',\n",
      "              'last': 'Dapkūnas',\n",
      "              'middle': [],\n",
      "              'suffix': ''},\n",
      "             {'affiliation': {},\n",
      "              'email': '',\n",
      "              'first': 'Juan',\n",
      "              'last': 'Fernández-Recio',\n",
      "              'middle': [],\n",
      "              'suffix': ''},\n",
      "             {'affiliation': {},\n",
      "              'email': '',\n",
      "              'first': 'Iain',\n",
      "              'last': 'Moal',\n",
      "              'middle': ['H'],\n",
      "              'suffix': ''}],\n",
      " 'title': 'SKEMPI 2.0: An updated benchmark of changes in protein-protein '\n",
      "          'binding energy, kinetics and thermodynamics upon mutation'}\n"
     ]
    }
   ],
   "source": [
    "pprint(all_files[4]['metadata'], depth=4)\n"
   ]
  },
  {
   "cell_type": "code",
   "execution_count": 19,
   "metadata": {},
   "outputs": [
    {
     "name": "stdout",
     "output_type": "stream",
     "text": [
      "Formatting without affiliation:\n",
      "Justina Jankauskaitė, Brian Jiménez-García, Justas Dapkūnas, Juan Fernández-Recio, Iain H Moal\n",
      "\n",
      "Formatting with affiliation:\n",
      "Justina Jankauskaitė, Brian Jiménez-García, Justas Dapkūnas, Juan Fernández-Recio, Iain H Moal\n"
     ]
    }
   ],
   "source": [
    "authors = all_files[4]['metadata']['authors']\n",
    "print(\"Formatting without affiliation:\")\n",
    "print(format_authors(authors, with_affiliation=False))\n",
    "print(\"\\nFormatting with affiliation:\")\n",
    "print(format_authors(authors, with_affiliation=True))"
   ]
  },
  {
   "cell_type": "markdown",
   "metadata": {},
   "source": [
    "# Biorxiv: Bibliography"
   ]
  },
  {
   "cell_type": "code",
   "execution_count": 20,
   "metadata": {},
   "outputs": [
    {
     "name": "stdout",
     "output_type": "stream",
     "text": [
      "[{'authors': [{'first': 'G',\n",
      "               'last': 'Alexander',\n",
      "               'middle': [...],\n",
      "               'suffix': ''},\n",
      "              {'first': 'S', 'last': 'Rogan', 'middle': [...], 'suffix': ''},\n",
      "              {'first': 'A', 'last': 'Abbas', 'middle': [...], 'suffix': ''},\n",
      "              {'first': 'B',\n",
      "               'last': 'Armbruster',\n",
      "               'middle': [...],\n",
      "               'suffix': ''},\n",
      "              {'first': 'Y', 'last': 'Pei', 'middle': [], 'suffix': ''},\n",
      "              {'first': 'J', 'last': 'Allen', 'middle': [...], 'suffix': ''},\n",
      "              {'first': 'R', 'last': 'Nonneman', 'middle': [...], 'suffix': ''},\n",
      "              {'first': 'J', 'last': 'Hartmann', 'middle': [], 'suffix': ''},\n",
      "              {'first': 'S', 'last': 'Moy', 'middle': [...], 'suffix': ''},\n",
      "              {'first': 'M',\n",
      "               'last': 'Nicolelis',\n",
      "               'middle': [...],\n",
      "               'suffix': ''}],\n",
      "  'issn': '',\n",
      "  'other_ids': {},\n",
      "  'pages': '27--39',\n",
      "  'ref_id': 'b0',\n",
      "  'title': 'Remote Control of Neuronal Activity in Transgenic Mice Expressing '\n",
      "           'Evolved G Protein-Coupled Receptors',\n",
      "  'venue': 'Neuron',\n",
      "  'volume': '63',\n",
      "  'year': 2009},\n",
      " {'authors': [{'first': 'A', 'last': 'Apicella', 'middle': [], 'suffix': ''},\n",
      "              {'first': 'Q', 'last': 'Yuan', 'middle': [], 'suffix': ''},\n",
      "              {'first': 'M', 'last': 'Scanziani', 'middle': [], 'suffix': ''},\n",
      "              {'first': 'J',\n",
      "               'last': 'Isaacson',\n",
      "               'middle': [...],\n",
      "               'suffix': ''}],\n",
      "  'issn': '',\n",
      "  'other_ids': {},\n",
      "  'pages': '14255--14260',\n",
      "  'ref_id': 'b1',\n",
      "  'title': 'Pyramidal cells in piriform cortex receive convergent input from '\n",
      "           'distinct olfactory bulb glomeruli',\n",
      "  'venue': 'J Neurosci',\n",
      "  'volume': '30',\n",
      "  'year': 2010}]\n"
     ]
    }
   ],
   "source": [
    "bibs = list(file['bib_entries'].values())\n",
    "pprint(bibs[:2], depth=4)"
   ]
  },
  {
   "cell_type": "code",
   "execution_count": 21,
   "metadata": {},
   "outputs": [
    {
     "data": {
      "text/plain": [
       "'A Apicella, Q Yuan, M Scanziani, J S Isaacson'"
      ]
     },
     "execution_count": 21,
     "metadata": {},
     "output_type": "execute_result"
    }
   ],
   "source": [
    "format_authors(bibs[1]['authors'], with_affiliation=False)\n"
   ]
  },
  {
   "cell_type": "markdown",
   "metadata": {},
   "source": [
    "The following function let you format the bibliography all at once. It only extracts the title, authors, venue, year, and separate each entry of the bibliography with a ;.\n",
    "\n"
   ]
  },
  {
   "cell_type": "code",
   "execution_count": 22,
   "metadata": {},
   "outputs": [
    {
     "name": "stdout",
     "output_type": "stream",
     "text": [
      "Remote Control of Neuronal Activity in Transgenic Mice Expressing Evolved G Protein-Coupled Receptors, G M Alexander, S C Rogan, A I Abbas, B N Armbruster, Y Pei, J A Allen, R J Nonneman, J Hartmann, S S Moy, M A Nicolelis, Neuron, 2009; Pyramidal cells in piriform cortex receive convergent input from distinct olfactory bulb glomeruli, A Apicella, Q Yuan, M Scanziani, J S Isaacson, J Neurosci, 2010; An Interglomerular Circuit Gates Glomerular Output and Implements Gain Control in the Mouse Olfactory Bulb, A Banerjee, F Marbach, F Anselmi, M S Koh, M B Davis, P Garcia Da Silva, K Delevich, H K Oyibo, P Gupta, B Li, Neuron, 2015; The Corticohippocampal Circuit, Synaptic Plasticity, and Memory, J Basu, S A Siegelbaum, Cold Spring Harb. Perspect. Biol, 2015; Complementary codes for odor identity and intensity in olfactory cortex, K A Bolding, K M Franks, , 2017\n"
     ]
    }
   ],
   "source": [
    "bib_formatted = format_bib(bibs[:5])\n",
    "print(bib_formatted)"
   ]
  },
  {
   "cell_type": "markdown",
   "metadata": {},
   "source": [
    "# Biorxiv: Generate CSV\n",
    "\n",
    "In this section, I show you how to manually generate the CSV files. As you can see, it's now super simple because of the format_ helper functions. In the next sections, I show you have to generate them in 3 lines using the load_files and generate_clean_dr helper functions."
   ]
  },
  {
   "cell_type": "code",
   "execution_count": 23,
   "metadata": {},
   "outputs": [
    {
     "data": {
      "application/vnd.jupyter.widget-view+json": {
       "model_id": "7da5cecebb594746b708c9a3c5189ff1",
       "version_major": 2,
       "version_minor": 0
      },
      "text/plain": [
       "HBox(children=(FloatProgress(value=0.0, max=885.0), HTML(value='')))"
      ]
     },
     "metadata": {},
     "output_type": "display_data"
    },
    {
     "name": "stdout",
     "output_type": "stream",
     "text": [
      "\n"
     ]
    }
   ],
   "source": [
    "cleaned_files = []\n",
    "\n",
    "for file in tqdm(all_files):\n",
    "    features = [\n",
    "        file['paper_id'],\n",
    "        file['metadata']['title'],\n",
    "        format_authors(file['metadata']['authors']),\n",
    "        format_authors(file['metadata']['authors'], \n",
    "                       with_affiliation=True),\n",
    "        format_body(file['abstract']),\n",
    "        format_body(file['body_text']),\n",
    "        format_bib(file['bib_entries']),\n",
    "        file['metadata']['authors'],\n",
    "        file['bib_entries']\n",
    "    ]\n",
    "    \n",
    "    cleaned_files.append(features)"
   ]
  },
  {
   "cell_type": "code",
   "execution_count": 24,
   "metadata": {},
   "outputs": [
    {
     "data": {
      "text/html": [
       "<div>\n",
       "<style scoped>\n",
       "    .dataframe tbody tr th:only-of-type {\n",
       "        vertical-align: middle;\n",
       "    }\n",
       "\n",
       "    .dataframe tbody tr th {\n",
       "        vertical-align: top;\n",
       "    }\n",
       "\n",
       "    .dataframe thead th {\n",
       "        text-align: right;\n",
       "    }\n",
       "</style>\n",
       "<table border=\"1\" class=\"dataframe\">\n",
       "  <thead>\n",
       "    <tr style=\"text-align: right;\">\n",
       "      <th></th>\n",
       "      <th>paper_id</th>\n",
       "      <th>title</th>\n",
       "      <th>authors</th>\n",
       "      <th>affiliations</th>\n",
       "      <th>abstract</th>\n",
       "      <th>text</th>\n",
       "      <th>bibliography</th>\n",
       "      <th>raw_authors</th>\n",
       "      <th>raw_bibliography</th>\n",
       "    </tr>\n",
       "  </thead>\n",
       "  <tbody>\n",
       "    <tr>\n",
       "      <th>0</th>\n",
       "      <td>5f6a410a4ba086b296100a8a5a10df59eb337c90</td>\n",
       "      <td>Epidemic doubling time of the COVID-19 epidemi...</td>\n",
       "      <td>Kamalich Muniz-Rodriguez, Gerardo Chowell, Chi...</td>\n",
       "      <td>Kamalich Muniz-Rodriguez, Gerardo Chowell, Chi...</td>\n",
       "      <td></td>\n",
       "      <td>To the editor: 27\\n\\nOur ability to estimate t...</td>\n",
       "      <td>Infectious diseases of humans, R M Anderson, R...</td>\n",
       "      <td>[{'first': 'Kamalich', 'middle': [], 'last': '...</td>\n",
       "      <td>{'BIBREF0': {'ref_id': 'b0', 'title': 'Infecti...</td>\n",
       "    </tr>\n",
       "    <tr>\n",
       "      <th>1</th>\n",
       "      <td>4eb8b7fd0032816e4a29d65b06939266d6446624</td>\n",
       "      <td>Encoding of odor fear memories in the mouse ol...</td>\n",
       "      <td>Claire Meissner-Bernard, Yulia Dembitskaya, La...</td>\n",
       "      <td>Claire Meissner-Bernard (CNRS, Paris, France),...</td>\n",
       "      <td>Abstract\\n\\nOdor memories are exceptionally ro...</td>\n",
       "      <td>Introduction\\n\\nOdor perception, and emotional...</td>\n",
       "      <td>Remote Control of Neuronal Activity in Transge...</td>\n",
       "      <td>[{'first': 'Claire', 'middle': [], 'last': 'Me...</td>\n",
       "      <td>{'BIBREF0': {'ref_id': 'b0', 'title': 'Remote ...</td>\n",
       "    </tr>\n",
       "    <tr>\n",
       "      <th>2</th>\n",
       "      <td>fd847a97e6fce134345b25ae9240c4ebb680cca5</td>\n",
       "      <td>Clinical Characteristics on 25 Discharged Pati...</td>\n",
       "      <td>Jing Yuan, Shanglong Kou, Yanhua Liang, Jianfe...</td>\n",
       "      <td>Jing Yuan (Shenzhen Third People's Hospital, 5...</td>\n",
       "      <td>Abstract\\n\\nHere we report the clinical featur...</td>\n",
       "      <td>Introduction\\n\\nSince Dec 8 th 2019, many case...</td>\n",
       "      <td>Clinical Characteristics of 138 Hospitalized P...</td>\n",
       "      <td>[{'first': 'Jing', 'middle': [], 'last': 'Yuan...</td>\n",
       "      <td>{'BIBREF0': {'ref_id': 'b0', 'title': 'Clinica...</td>\n",
       "    </tr>\n",
       "    <tr>\n",
       "      <th>3</th>\n",
       "      <td>8c900409a679dc1f16ef13c73500cbb53605b683</td>\n",
       "      <td>Lung epithelial cells have virus-specific and ...</td>\n",
       "      <td>James T Vanleuven, Benjamin J Ridenhour, Craig...</td>\n",
       "      <td>James T Vanleuven (University of Idaho, Moscow...</td>\n",
       "      <td>Abstract\\n\\nThe severity and outcome of respir...</td>\n",
       "      <td>31\\n\\nMurine models of respiratory viral infec...</td>\n",
       "      <td>Mouse models of rhinovirus-induced disease and...</td>\n",
       "      <td>[{'first': 'James', 'middle': ['T'], 'last': '...</td>\n",
       "      <td>{'BIBREF3': {'ref_id': 'b3', 'title': 'Mouse m...</td>\n",
       "    </tr>\n",
       "    <tr>\n",
       "      <th>4</th>\n",
       "      <td>0acc1f9a1c333a9a6b2dbba4a252d7576f024783</td>\n",
       "      <td>SKEMPI 2.0: An updated benchmark of changes in...</td>\n",
       "      <td>Justina Jankauskaitė, Brian Jiménez-García, Ju...</td>\n",
       "      <td>Justina Jankauskaitė, Brian Jiménez-García, Ju...</td>\n",
       "      <td>Abstract\\n\\nMotivation: Understanding the rela...</td>\n",
       "      <td>I. INTRODUCTION\\n\\nProtein-protein interaction...</td>\n",
       "      <td>Characterizing changes in the rate of protein-...</td>\n",
       "      <td>[{'first': 'Justina', 'middle': [], 'last': 'J...</td>\n",
       "      <td>{'BIBREF0': {'ref_id': 'b0', 'title': 'Charact...</td>\n",
       "    </tr>\n",
       "  </tbody>\n",
       "</table>\n",
       "</div>"
      ],
      "text/plain": [
       "                                   paper_id  \\\n",
       "0  5f6a410a4ba086b296100a8a5a10df59eb337c90   \n",
       "1  4eb8b7fd0032816e4a29d65b06939266d6446624   \n",
       "2  fd847a97e6fce134345b25ae9240c4ebb680cca5   \n",
       "3  8c900409a679dc1f16ef13c73500cbb53605b683   \n",
       "4  0acc1f9a1c333a9a6b2dbba4a252d7576f024783   \n",
       "\n",
       "                                               title  \\\n",
       "0  Epidemic doubling time of the COVID-19 epidemi...   \n",
       "1  Encoding of odor fear memories in the mouse ol...   \n",
       "2  Clinical Characteristics on 25 Discharged Pati...   \n",
       "3  Lung epithelial cells have virus-specific and ...   \n",
       "4  SKEMPI 2.0: An updated benchmark of changes in...   \n",
       "\n",
       "                                             authors  \\\n",
       "0  Kamalich Muniz-Rodriguez, Gerardo Chowell, Chi...   \n",
       "1  Claire Meissner-Bernard, Yulia Dembitskaya, La...   \n",
       "2  Jing Yuan, Shanglong Kou, Yanhua Liang, Jianfe...   \n",
       "3  James T Vanleuven, Benjamin J Ridenhour, Craig...   \n",
       "4  Justina Jankauskaitė, Brian Jiménez-García, Ju...   \n",
       "\n",
       "                                        affiliations  \\\n",
       "0  Kamalich Muniz-Rodriguez, Gerardo Chowell, Chi...   \n",
       "1  Claire Meissner-Bernard (CNRS, Paris, France),...   \n",
       "2  Jing Yuan (Shenzhen Third People's Hospital, 5...   \n",
       "3  James T Vanleuven (University of Idaho, Moscow...   \n",
       "4  Justina Jankauskaitė, Brian Jiménez-García, Ju...   \n",
       "\n",
       "                                            abstract  \\\n",
       "0                                                      \n",
       "1  Abstract\\n\\nOdor memories are exceptionally ro...   \n",
       "2  Abstract\\n\\nHere we report the clinical featur...   \n",
       "3  Abstract\\n\\nThe severity and outcome of respir...   \n",
       "4  Abstract\\n\\nMotivation: Understanding the rela...   \n",
       "\n",
       "                                                text  \\\n",
       "0  To the editor: 27\\n\\nOur ability to estimate t...   \n",
       "1  Introduction\\n\\nOdor perception, and emotional...   \n",
       "2  Introduction\\n\\nSince Dec 8 th 2019, many case...   \n",
       "3  31\\n\\nMurine models of respiratory viral infec...   \n",
       "4  I. INTRODUCTION\\n\\nProtein-protein interaction...   \n",
       "\n",
       "                                        bibliography  \\\n",
       "0  Infectious diseases of humans, R M Anderson, R...   \n",
       "1  Remote Control of Neuronal Activity in Transge...   \n",
       "2  Clinical Characteristics of 138 Hospitalized P...   \n",
       "3  Mouse models of rhinovirus-induced disease and...   \n",
       "4  Characterizing changes in the rate of protein-...   \n",
       "\n",
       "                                         raw_authors  \\\n",
       "0  [{'first': 'Kamalich', 'middle': [], 'last': '...   \n",
       "1  [{'first': 'Claire', 'middle': [], 'last': 'Me...   \n",
       "2  [{'first': 'Jing', 'middle': [], 'last': 'Yuan...   \n",
       "3  [{'first': 'James', 'middle': ['T'], 'last': '...   \n",
       "4  [{'first': 'Justina', 'middle': [], 'last': 'J...   \n",
       "\n",
       "                                    raw_bibliography  \n",
       "0  {'BIBREF0': {'ref_id': 'b0', 'title': 'Infecti...  \n",
       "1  {'BIBREF0': {'ref_id': 'b0', 'title': 'Remote ...  \n",
       "2  {'BIBREF0': {'ref_id': 'b0', 'title': 'Clinica...  \n",
       "3  {'BIBREF3': {'ref_id': 'b3', 'title': 'Mouse m...  \n",
       "4  {'BIBREF0': {'ref_id': 'b0', 'title': 'Charact...  "
      ]
     },
     "execution_count": 24,
     "metadata": {},
     "output_type": "execute_result"
    }
   ],
   "source": [
    "col_names = [\n",
    "    'paper_id', \n",
    "    'title', \n",
    "    'authors',\n",
    "    'affiliations', \n",
    "    'abstract', \n",
    "    'text', \n",
    "    'bibliography',\n",
    "    'raw_authors',\n",
    "    'raw_bibliography'\n",
    "]\n",
    "\n",
    "clean_df = pd.DataFrame(cleaned_files, columns=col_names)\n",
    "clean_df.head()"
   ]
  },
  {
   "cell_type": "code",
   "execution_count": 25,
   "metadata": {},
   "outputs": [],
   "source": [
    "path = r'/home/kike/Documentos/data/CORONAVIRUS/CORD-19-research-challenge/clean_csv/'\n"
   ]
  },
  {
   "cell_type": "code",
   "execution_count": 26,
   "metadata": {},
   "outputs": [],
   "source": [
    "clean_df.to_csv(path + 'biorxiv_clean.csv', index=False)\n"
   ]
  },
  {
   "cell_type": "markdown",
   "metadata": {},
   "source": [
    "# Generate CSV: Custom PMC, Commercial, Non-commercial licenses"
   ]
  },
  {
   "cell_type": "code",
   "execution_count": 27,
   "metadata": {},
   "outputs": [
    {
     "data": {
      "application/vnd.jupyter.widget-view+json": {
       "model_id": "e68d3d8fd4a94078963b99a075d0fec3",
       "version_major": 2,
       "version_minor": 0
      },
      "text/plain": [
       "HBox(children=(FloatProgress(value=0.0, max=16959.0), HTML(value='')))"
      ]
     },
     "metadata": {},
     "output_type": "display_data"
    },
    {
     "name": "stdout",
     "output_type": "stream",
     "text": [
      "\n"
     ]
    },
    {
     "data": {
      "application/vnd.jupyter.widget-view+json": {
       "model_id": "392d36b566fe44b9bc382606c655d56c",
       "version_major": 2,
       "version_minor": 0
      },
      "text/plain": [
       "HBox(children=(FloatProgress(value=0.0, max=16959.0), HTML(value='')))"
      ]
     },
     "metadata": {},
     "output_type": "display_data"
    },
    {
     "name": "stdout",
     "output_type": "stream",
     "text": [
      "\n"
     ]
    },
    {
     "data": {
      "text/html": [
       "<div>\n",
       "<style scoped>\n",
       "    .dataframe tbody tr th:only-of-type {\n",
       "        vertical-align: middle;\n",
       "    }\n",
       "\n",
       "    .dataframe tbody tr th {\n",
       "        vertical-align: top;\n",
       "    }\n",
       "\n",
       "    .dataframe thead th {\n",
       "        text-align: right;\n",
       "    }\n",
       "</style>\n",
       "<table border=\"1\" class=\"dataframe\">\n",
       "  <thead>\n",
       "    <tr style=\"text-align: right;\">\n",
       "      <th></th>\n",
       "      <th>paper_id</th>\n",
       "      <th>title</th>\n",
       "      <th>authors</th>\n",
       "      <th>affiliations</th>\n",
       "      <th>abstract</th>\n",
       "      <th>text</th>\n",
       "      <th>bibliography</th>\n",
       "      <th>raw_authors</th>\n",
       "      <th>raw_bibliography</th>\n",
       "    </tr>\n",
       "  </thead>\n",
       "  <tbody>\n",
       "    <tr>\n",
       "      <th>0</th>\n",
       "      <td>587236e2df1d792802bcae5d78d7e9db5766bb4b</td>\n",
       "      <td>Multiple Sclerosis: Basic Concepts and Hypothesis</td>\n",
       "      <td>Moses Rodriguez</td>\n",
       "      <td>Moses Rodriguez</td>\n",
       "      <td>Abstract\\n\\nMultiple sclerosis, an inflammator...</td>\n",
       "      <td>\\n\\nIndividual reprints of this article are no...</td>\n",
       "      <td>The neuropathology of multiple sclerosis, Jw ;...</td>\n",
       "      <td>[{'first': 'Moses', 'middle': [], 'last': 'Rod...</td>\n",
       "      <td>{'BIBREF0': {'ref_id': 'b0', 'title': 'The neu...</td>\n",
       "    </tr>\n",
       "    <tr>\n",
       "      <th>1</th>\n",
       "      <td>466db44b1f77af3237d04ac0313bd03c2b2e94bc</td>\n",
       "      <td></td>\n",
       "      <td></td>\n",
       "      <td></td>\n",
       "      <td></td>\n",
       "      <td>\\n\\nA rctic populations have historically endu...</td>\n",
       "      <td>Indigenous health in the Arctic: an overview o...</td>\n",
       "      <td>[]</td>\n",
       "      <td>{'BIBREF0': {'ref_id': 'b0', 'title': 'Indigen...</td>\n",
       "    </tr>\n",
       "    <tr>\n",
       "      <th>2</th>\n",
       "      <td>cac6ae818cd3f9622a6bf132381d5b22f1c667d7</td>\n",
       "      <td>Hapiosamates A and B: New Steroidal Sulfamate ...</td>\n",
       "      <td>Asfia Qnreshi, D John Faullmer</td>\n",
       "      <td>Asfia Qnreshi (University of California at San...</td>\n",
       "      <td>Abstract\\n\\nAktract: Two sponges from the Phih...</td>\n",
       "      <td>T H T \"OH N o sa\\n\\nThe presence of the snifam...</td>\n",
       "      <td>H-14), 1.41 (m, 1 H, H-24), 1.37 (m, 2 H, H-l)...</td>\n",
       "      <td>[{'first': 'Asfia', 'middle': [], 'last': 'Qnr...</td>\n",
       "      <td>{'BIBREF1': {'ref_id': 'b1', 'title': 'H-14), ...</td>\n",
       "    </tr>\n",
       "    <tr>\n",
       "      <th>3</th>\n",
       "      <td>f42306a841ad7558e5d19de5593885c6444cfb78</td>\n",
       "      <td>Rapid diagnostic thin section electron microsc...</td>\n",
       "      <td>Michael Laue, Bärbel Niederwöhrmeier, Norbert ...</td>\n",
       "      <td>Michael Laue (Robert Koch Institute, Nordufer ...</td>\n",
       "      <td>Abstract\\n\\nEmerging infectious diseases such ...</td>\n",
       "      <td>Introduction\\n\\nDiagnostic electron microscopy...</td>\n",
       "      <td>Electron microscopy of viruses, S S Biel, H R ...</td>\n",
       "      <td>[{'first': 'Michael', 'middle': [], 'last': 'L...</td>\n",
       "      <td>{'BIBREF0': {'ref_id': 'b0', 'title': 'Electro...</td>\n",
       "    </tr>\n",
       "    <tr>\n",
       "      <th>4</th>\n",
       "      <td>3cdfc63c3790d0bc50c45fe33b2b7ca304641a5d</td>\n",
       "      <td>Interfering Waves of Adaptation Promote Spatia...</td>\n",
       "      <td>Erik A Martens, Oskar Hallatschek</td>\n",
       "      <td>Erik A Martens, Oskar Hallatschek</td>\n",
       "      <td>Abstract\\n\\nA fundamental problem of asexual a...</td>\n",
       "      <td>\\n\\nO NE of the most basic questions of evolut...</td>\n",
       "      <td>Periodic selection in Escherichia coli, K C At...</td>\n",
       "      <td>[{'first': 'Erik', 'middle': ['A'], 'last': 'M...</td>\n",
       "      <td>{'BIBREF0': {'ref_id': 'b0', 'title': 'Periodi...</td>\n",
       "    </tr>\n",
       "  </tbody>\n",
       "</table>\n",
       "</div>"
      ],
      "text/plain": [
       "                                   paper_id  \\\n",
       "0  587236e2df1d792802bcae5d78d7e9db5766bb4b   \n",
       "1  466db44b1f77af3237d04ac0313bd03c2b2e94bc   \n",
       "2  cac6ae818cd3f9622a6bf132381d5b22f1c667d7   \n",
       "3  f42306a841ad7558e5d19de5593885c6444cfb78   \n",
       "4  3cdfc63c3790d0bc50c45fe33b2b7ca304641a5d   \n",
       "\n",
       "                                               title  \\\n",
       "0  Multiple Sclerosis: Basic Concepts and Hypothesis   \n",
       "1                                                      \n",
       "2  Hapiosamates A and B: New Steroidal Sulfamate ...   \n",
       "3  Rapid diagnostic thin section electron microsc...   \n",
       "4  Interfering Waves of Adaptation Promote Spatia...   \n",
       "\n",
       "                                             authors  \\\n",
       "0                                    Moses Rodriguez   \n",
       "1                                                      \n",
       "2                     Asfia Qnreshi, D John Faullmer   \n",
       "3  Michael Laue, Bärbel Niederwöhrmeier, Norbert ...   \n",
       "4                  Erik A Martens, Oskar Hallatschek   \n",
       "\n",
       "                                        affiliations  \\\n",
       "0                                    Moses Rodriguez   \n",
       "1                                                      \n",
       "2  Asfia Qnreshi (University of California at San...   \n",
       "3  Michael Laue (Robert Koch Institute, Nordufer ...   \n",
       "4                  Erik A Martens, Oskar Hallatschek   \n",
       "\n",
       "                                            abstract  \\\n",
       "0  Abstract\\n\\nMultiple sclerosis, an inflammator...   \n",
       "1                                                      \n",
       "2  Abstract\\n\\nAktract: Two sponges from the Phih...   \n",
       "3  Abstract\\n\\nEmerging infectious diseases such ...   \n",
       "4  Abstract\\n\\nA fundamental problem of asexual a...   \n",
       "\n",
       "                                                text  \\\n",
       "0  \\n\\nIndividual reprints of this article are no...   \n",
       "1  \\n\\nA rctic populations have historically endu...   \n",
       "2  T H T \"OH N o sa\\n\\nThe presence of the snifam...   \n",
       "3  Introduction\\n\\nDiagnostic electron microscopy...   \n",
       "4  \\n\\nO NE of the most basic questions of evolut...   \n",
       "\n",
       "                                        bibliography  \\\n",
       "0  The neuropathology of multiple sclerosis, Jw ;...   \n",
       "1  Indigenous health in the Arctic: an overview o...   \n",
       "2  H-14), 1.41 (m, 1 H, H-24), 1.37 (m, 2 H, H-l)...   \n",
       "3  Electron microscopy of viruses, S S Biel, H R ...   \n",
       "4  Periodic selection in Escherichia coli, K C At...   \n",
       "\n",
       "                                         raw_authors  \\\n",
       "0  [{'first': 'Moses', 'middle': [], 'last': 'Rod...   \n",
       "1                                                 []   \n",
       "2  [{'first': 'Asfia', 'middle': [], 'last': 'Qnr...   \n",
       "3  [{'first': 'Michael', 'middle': [], 'last': 'L...   \n",
       "4  [{'first': 'Erik', 'middle': ['A'], 'last': 'M...   \n",
       "\n",
       "                                    raw_bibliography  \n",
       "0  {'BIBREF0': {'ref_id': 'b0', 'title': 'The neu...  \n",
       "1  {'BIBREF0': {'ref_id': 'b0', 'title': 'Indigen...  \n",
       "2  {'BIBREF1': {'ref_id': 'b1', 'title': 'H-14), ...  \n",
       "3  {'BIBREF0': {'ref_id': 'b0', 'title': 'Electro...  \n",
       "4  {'BIBREF0': {'ref_id': 'b0', 'title': 'Periodi...  "
      ]
     },
     "execution_count": 27,
     "metadata": {},
     "output_type": "execute_result"
    }
   ],
   "source": [
    "pmc_dir = '/home/kike/Documentos/data/CORONAVIRUS/CORD-19-research-challenge/custom_license/custom_license/'\n",
    "pmc_files = load_files(pmc_dir)\n",
    "pmc_df = generate_clean_df(pmc_files)\n",
    "pmc_df.to_csv(path +'clean_pmc.csv', index=False)\n",
    "pmc_df.head()"
   ]
  },
  {
   "cell_type": "code",
   "execution_count": 28,
   "metadata": {},
   "outputs": [
    {
     "data": {
      "application/vnd.jupyter.widget-view+json": {
       "model_id": "845d9511b262441c8990b6729347f37d",
       "version_major": 2,
       "version_minor": 0
      },
      "text/plain": [
       "HBox(children=(FloatProgress(value=0.0, max=9118.0), HTML(value='')))"
      ]
     },
     "metadata": {},
     "output_type": "display_data"
    },
    {
     "name": "stdout",
     "output_type": "stream",
     "text": [
      "\n"
     ]
    },
    {
     "data": {
      "application/vnd.jupyter.widget-view+json": {
       "model_id": "7876f4db5ef04710b0ec79df9c302712",
       "version_major": 2,
       "version_minor": 0
      },
      "text/plain": [
       "HBox(children=(FloatProgress(value=0.0, max=9118.0), HTML(value='')))"
      ]
     },
     "metadata": {},
     "output_type": "display_data"
    },
    {
     "name": "stdout",
     "output_type": "stream",
     "text": [
      "\n"
     ]
    },
    {
     "data": {
      "text/html": [
       "<div>\n",
       "<style scoped>\n",
       "    .dataframe tbody tr th:only-of-type {\n",
       "        vertical-align: middle;\n",
       "    }\n",
       "\n",
       "    .dataframe tbody tr th {\n",
       "        vertical-align: top;\n",
       "    }\n",
       "\n",
       "    .dataframe thead th {\n",
       "        text-align: right;\n",
       "    }\n",
       "</style>\n",
       "<table border=\"1\" class=\"dataframe\">\n",
       "  <thead>\n",
       "    <tr style=\"text-align: right;\">\n",
       "      <th></th>\n",
       "      <th>paper_id</th>\n",
       "      <th>title</th>\n",
       "      <th>authors</th>\n",
       "      <th>affiliations</th>\n",
       "      <th>abstract</th>\n",
       "      <th>text</th>\n",
       "      <th>bibliography</th>\n",
       "      <th>raw_authors</th>\n",
       "      <th>raw_bibliography</th>\n",
       "    </tr>\n",
       "  </thead>\n",
       "  <tbody>\n",
       "    <tr>\n",
       "      <th>0</th>\n",
       "      <td>7aa3c6793455d0748b58fc6ff75ab336b2863c6c</td>\n",
       "      <td>BMC Structural Biology Orientation determinati...</td>\n",
       "      <td>Ali Samir Saad</td>\n",
       "      <td>Ali Samir Saad (King Saud University, P.O. Box...</td>\n",
       "      <td>Abstract\\n\\nIn order to perform a 3D reconstru...</td>\n",
       "      <td>Background\\n\\nThree-dimensional (3D) reconstru...</td>\n",
       "      <td>Procedures for three-dimensional reconstructio...</td>\n",
       "      <td>[{'first': 'Ali', 'middle': ['Samir'], 'last':...</td>\n",
       "      <td>{'BIBREF0': {'ref_id': 'b0', 'title': 'Procedu...</td>\n",
       "    </tr>\n",
       "    <tr>\n",
       "      <th>1</th>\n",
       "      <td>cc146665ee73fa1830b7c42a24cd5844346c0f39</td>\n",
       "      <td>Detection of central nervous system viral infe...</td>\n",
       "      <td>Arthur H P Mawuntu, Janno B B Bernadus, Rama D...</td>\n",
       "      <td>Arthur H P Mawuntu (Sam Ratulangi University, ...</td>\n",
       "      <td>Abstract\\n\\nCentral nervous system (CNS) viral...</td>\n",
       "      <td>Introduction\\n\\nCentral nervous system (CNS) i...</td>\n",
       "      <td>Beyond viruses: clinical profiles and etiologi...</td>\n",
       "      <td>[{'first': 'Arthur', 'middle': ['H P'], 'last'...</td>\n",
       "      <td>{'BIBREF0': {'ref_id': 'b0', 'title': 'Beyond ...</td>\n",
       "    </tr>\n",
       "    <tr>\n",
       "      <th>2</th>\n",
       "      <td>8af0901c4f1252ca252a8618a346c88b3b65ae1b</td>\n",
       "      <td>Potential Geographic Distribution of the Novel...</td>\n",
       "      <td>Gengping Zhu, A Townsend Peterson</td>\n",
       "      <td>Gengping Zhu (Tianjin Normal University, Tianj...</td>\n",
       "      <td>Abstract\\n\\nBackground: In late March 2013, a ...</td>\n",
       "      <td>Introduction\\n\\nIn March and early April 2013,...</td>\n",
       "      <td>Origins and evolutionary genomics of the novel...</td>\n",
       "      <td>[{'first': 'Gengping', 'middle': [], 'last': '...</td>\n",
       "      <td>{'BIBREF0': {'ref_id': 'b0', 'title': 'Origins...</td>\n",
       "    </tr>\n",
       "    <tr>\n",
       "      <th>3</th>\n",
       "      <td>446c633eb33c9168e597b53b0c93ead24aa9d43c</td>\n",
       "      <td>Progeny Varicella-Zoster Virus Capsids Exit th...</td>\n",
       "      <td>James H Girsch, Katherine Walters, Wallen Jack...</td>\n",
       "      <td>James H Girsch (University of Iowa, Iowa City,...</td>\n",
       "      <td>Abstract\\n\\nis an alphaherpesvirus that lacks ...</td>\n",
       "      <td>\\n\\nM acroautophagy (here called autophagy) is...</td>\n",
       "      <td>HSV-1 ICP34.5 confers neurovirulence by target...</td>\n",
       "      <td>[{'first': 'James', 'middle': ['H'], 'last': '...</td>\n",
       "      <td>{'BIBREF0': {'ref_id': 'b0', 'title': 'HSV-1 I...</td>\n",
       "    </tr>\n",
       "    <tr>\n",
       "      <th>4</th>\n",
       "      <td>561bde3336a2cd2006251effb54e5428c4edf3b9</td>\n",
       "      <td>Systems Integration of Biodefense Omics Data f...</td>\n",
       "      <td>P B Mcgarvey, H Huang, R Mazumder, J Zhang, Y ...</td>\n",
       "      <td>P B Mcgarvey, H Huang, R Mazumder, J Zhang, Y ...</td>\n",
       "      <td>Abstract\\n\\nThe NIAID (National Institute for ...</td>\n",
       "      <td>Introduction\\n\\nThe NIAID (National Institute ...</td>\n",
       "      <td>Building integrated approaches for the proteom...</td>\n",
       "      <td>[{'first': 'P', 'middle': ['B'], 'last': 'Mcga...</td>\n",
       "      <td>{'BIBREF0': {'ref_id': 'b0', 'title': 'Buildin...</td>\n",
       "    </tr>\n",
       "  </tbody>\n",
       "</table>\n",
       "</div>"
      ],
      "text/plain": [
       "                                   paper_id  \\\n",
       "0  7aa3c6793455d0748b58fc6ff75ab336b2863c6c   \n",
       "1  cc146665ee73fa1830b7c42a24cd5844346c0f39   \n",
       "2  8af0901c4f1252ca252a8618a346c88b3b65ae1b   \n",
       "3  446c633eb33c9168e597b53b0c93ead24aa9d43c   \n",
       "4  561bde3336a2cd2006251effb54e5428c4edf3b9   \n",
       "\n",
       "                                               title  \\\n",
       "0  BMC Structural Biology Orientation determinati...   \n",
       "1  Detection of central nervous system viral infe...   \n",
       "2  Potential Geographic Distribution of the Novel...   \n",
       "3  Progeny Varicella-Zoster Virus Capsids Exit th...   \n",
       "4  Systems Integration of Biodefense Omics Data f...   \n",
       "\n",
       "                                             authors  \\\n",
       "0                                     Ali Samir Saad   \n",
       "1  Arthur H P Mawuntu, Janno B B Bernadus, Rama D...   \n",
       "2                  Gengping Zhu, A Townsend Peterson   \n",
       "3  James H Girsch, Katherine Walters, Wallen Jack...   \n",
       "4  P B Mcgarvey, H Huang, R Mazumder, J Zhang, Y ...   \n",
       "\n",
       "                                        affiliations  \\\n",
       "0  Ali Samir Saad (King Saud University, P.O. Box...   \n",
       "1  Arthur H P Mawuntu (Sam Ratulangi University, ...   \n",
       "2  Gengping Zhu (Tianjin Normal University, Tianj...   \n",
       "3  James H Girsch (University of Iowa, Iowa City,...   \n",
       "4  P B Mcgarvey, H Huang, R Mazumder, J Zhang, Y ...   \n",
       "\n",
       "                                            abstract  \\\n",
       "0  Abstract\\n\\nIn order to perform a 3D reconstru...   \n",
       "1  Abstract\\n\\nCentral nervous system (CNS) viral...   \n",
       "2  Abstract\\n\\nBackground: In late March 2013, a ...   \n",
       "3  Abstract\\n\\nis an alphaherpesvirus that lacks ...   \n",
       "4  Abstract\\n\\nThe NIAID (National Institute for ...   \n",
       "\n",
       "                                                text  \\\n",
       "0  Background\\n\\nThree-dimensional (3D) reconstru...   \n",
       "1  Introduction\\n\\nCentral nervous system (CNS) i...   \n",
       "2  Introduction\\n\\nIn March and early April 2013,...   \n",
       "3  \\n\\nM acroautophagy (here called autophagy) is...   \n",
       "4  Introduction\\n\\nThe NIAID (National Institute ...   \n",
       "\n",
       "                                        bibliography  \\\n",
       "0  Procedures for three-dimensional reconstructio...   \n",
       "1  Beyond viruses: clinical profiles and etiologi...   \n",
       "2  Origins and evolutionary genomics of the novel...   \n",
       "3  HSV-1 ICP34.5 confers neurovirulence by target...   \n",
       "4  Building integrated approaches for the proteom...   \n",
       "\n",
       "                                         raw_authors  \\\n",
       "0  [{'first': 'Ali', 'middle': ['Samir'], 'last':...   \n",
       "1  [{'first': 'Arthur', 'middle': ['H P'], 'last'...   \n",
       "2  [{'first': 'Gengping', 'middle': [], 'last': '...   \n",
       "3  [{'first': 'James', 'middle': ['H'], 'last': '...   \n",
       "4  [{'first': 'P', 'middle': ['B'], 'last': 'Mcga...   \n",
       "\n",
       "                                    raw_bibliography  \n",
       "0  {'BIBREF0': {'ref_id': 'b0', 'title': 'Procedu...  \n",
       "1  {'BIBREF0': {'ref_id': 'b0', 'title': 'Beyond ...  \n",
       "2  {'BIBREF0': {'ref_id': 'b0', 'title': 'Origins...  \n",
       "3  {'BIBREF0': {'ref_id': 'b0', 'title': 'HSV-1 I...  \n",
       "4  {'BIBREF0': {'ref_id': 'b0', 'title': 'Buildin...  "
      ]
     },
     "execution_count": 28,
     "metadata": {},
     "output_type": "execute_result"
    }
   ],
   "source": [
    "comm_dir = '/home/kike/Documentos/data/CORONAVIRUS/CORD-19-research-challenge/comm_use_subset/comm_use_subset/'\n",
    "comm_files = load_files(comm_dir)\n",
    "comm_df = generate_clean_df(comm_files)\n",
    "comm_df.to_csv(path + 'clean_comm_use.csv', index=False)\n",
    "comm_df.head()\n"
   ]
  },
  {
   "cell_type": "code",
   "execution_count": 29,
   "metadata": {},
   "outputs": [
    {
     "data": {
      "application/vnd.jupyter.widget-view+json": {
       "model_id": "44380031f3954c5582072e1bd3481f01",
       "version_major": 2,
       "version_minor": 0
      },
      "text/plain": [
       "HBox(children=(FloatProgress(value=0.0, max=2353.0), HTML(value='')))"
      ]
     },
     "metadata": {},
     "output_type": "display_data"
    },
    {
     "name": "stdout",
     "output_type": "stream",
     "text": [
      "\n"
     ]
    },
    {
     "data": {
      "application/vnd.jupyter.widget-view+json": {
       "model_id": "7766032c9ff24d13962fd3b54a14c85d",
       "version_major": 2,
       "version_minor": 0
      },
      "text/plain": [
       "HBox(children=(FloatProgress(value=0.0, max=2353.0), HTML(value='')))"
      ]
     },
     "metadata": {},
     "output_type": "display_data"
    },
    {
     "name": "stdout",
     "output_type": "stream",
     "text": [
      "\n"
     ]
    },
    {
     "data": {
      "text/html": [
       "<div>\n",
       "<style scoped>\n",
       "    .dataframe tbody tr th:only-of-type {\n",
       "        vertical-align: middle;\n",
       "    }\n",
       "\n",
       "    .dataframe tbody tr th {\n",
       "        vertical-align: top;\n",
       "    }\n",
       "\n",
       "    .dataframe thead th {\n",
       "        text-align: right;\n",
       "    }\n",
       "</style>\n",
       "<table border=\"1\" class=\"dataframe\">\n",
       "  <thead>\n",
       "    <tr style=\"text-align: right;\">\n",
       "      <th></th>\n",
       "      <th>paper_id</th>\n",
       "      <th>title</th>\n",
       "      <th>authors</th>\n",
       "      <th>affiliations</th>\n",
       "      <th>abstract</th>\n",
       "      <th>text</th>\n",
       "      <th>bibliography</th>\n",
       "      <th>raw_authors</th>\n",
       "      <th>raw_bibliography</th>\n",
       "    </tr>\n",
       "  </thead>\n",
       "  <tbody>\n",
       "    <tr>\n",
       "      <th>0</th>\n",
       "      <td>b1870c85dae2f3bd004c29206c9a0281f4a9a249</td>\n",
       "      <td>Effect of Olfactory Bulb Ablation on Spread of...</td>\n",
       "      <td>Stanley Perlman, &amp;quot; , Gregory Evans, Adel ...</td>\n",
       "      <td>Stanley Perlman (University of Iowa, 52242, Io...</td>\n",
       "      <td>Abstract\\n\\nPrevious results suggested that, a...</td>\n",
       "      <td>\\n\\nM ouse hepatitis virus (MHV),' a member of...</td>\n",
       "      <td>64 :761. cephalomyelitis with extensive destru...</td>\n",
       "      <td>[{'first': 'Stanley', 'middle': [], 'last': 'P...</td>\n",
       "      <td>{'BIBREF0': {'ref_id': 'b0', 'title': '64 :761...</td>\n",
       "    </tr>\n",
       "    <tr>\n",
       "      <th>1</th>\n",
       "      <td>f5b032ddcc2c69fa564eec3ac027060064d7b255</td>\n",
       "      <td>New Respiratory Viruses and the Elderly</td>\n",
       "      <td>Laura Jartti, Henriikka Langen, Maria Söderlun...</td>\n",
       "      <td>Laura Jartti (Turku City Hospital, Turku, Finl...</td>\n",
       "      <td>Abstract\\n\\nThe diagnostics of respiratory vir...</td>\n",
       "      <td>INTRODUCTION\\n\\nLife expectancy has increased ...</td>\n",
       "      <td>Ageing populations: the challenges ahead, K Ch...</td>\n",
       "      <td>[{'first': 'Laura', 'middle': [], 'last': 'Jar...</td>\n",
       "      <td>{'BIBREF0': {'ref_id': 'b0', 'title': 'Ageing ...</td>\n",
       "    </tr>\n",
       "    <tr>\n",
       "      <th>2</th>\n",
       "      <td>4001bc47c8c30f370e59b5d26a74187b1727cc5b</td>\n",
       "      <td>Round-up of GHSA Steering Group and Action Pac...</td>\n",
       "      <td></td>\n",
       "      <td></td>\n",
       "      <td></td>\n",
       "      <td>Introduction\\n\\nThis inaugural meeting of the ...</td>\n",
       "      <td>Global Health Security Agenda: Getting Ahead o...</td>\n",
       "      <td>[]</td>\n",
       "      <td>{'BIBREF0': {'ref_id': 'b0', 'title': 'Global ...</td>\n",
       "    </tr>\n",
       "    <tr>\n",
       "      <th>3</th>\n",
       "      <td>459f95218942f624446533e21c9ab2775b8efce3</td>\n",
       "      <td>Supplemental Materials Molecular Biology of th...</td>\n",
       "      <td>Kolb</td>\n",
       "      <td>Kolb</td>\n",
       "      <td></td>\n",
       "      <td>VPS38\\n\\nPart of a Vps34p phosphatidylinositol...</td>\n",
       "      <td>Saccharomyces Genome Database, , , None; Cloni...</td>\n",
       "      <td>[{'first': '', 'middle': [], 'last': 'Kolb', '...</td>\n",
       "      <td>{'BIBREF0': {'ref_id': 'b0', 'title': 'Sacchar...</td>\n",
       "    </tr>\n",
       "    <tr>\n",
       "      <th>4</th>\n",
       "      <td>76cbada4dbb0c067cbffac6a1f1cede25aec708b</td>\n",
       "      <td>The Impact of Middle East Respiratory Syndrome...</td>\n",
       "      <td>So Hyun Paek, Do Kyun Kim, Jin Hee Lee, Young ...</td>\n",
       "      <td>So Hyun Paek (Seoul National University Hospit...</td>\n",
       "      <td>Abstract\\n\\nChanges occurred in the patterns o...</td>\n",
       "      <td>INTRODUCTION\\n\\nAn outbreak of Middle East res...</td>\n",
       "      <td>Middle East Respiratory Syndrome Coronavirus s...</td>\n",
       "      <td>[{'first': 'So', 'middle': ['Hyun'], 'last': '...</td>\n",
       "      <td>{'BIBREF0': {'ref_id': 'b0', 'title': 'Middle ...</td>\n",
       "    </tr>\n",
       "  </tbody>\n",
       "</table>\n",
       "</div>"
      ],
      "text/plain": [
       "                                   paper_id  \\\n",
       "0  b1870c85dae2f3bd004c29206c9a0281f4a9a249   \n",
       "1  f5b032ddcc2c69fa564eec3ac027060064d7b255   \n",
       "2  4001bc47c8c30f370e59b5d26a74187b1727cc5b   \n",
       "3  459f95218942f624446533e21c9ab2775b8efce3   \n",
       "4  76cbada4dbb0c067cbffac6a1f1cede25aec708b   \n",
       "\n",
       "                                               title  \\\n",
       "0  Effect of Olfactory Bulb Ablation on Spread of...   \n",
       "1            New Respiratory Viruses and the Elderly   \n",
       "2  Round-up of GHSA Steering Group and Action Pac...   \n",
       "3  Supplemental Materials Molecular Biology of th...   \n",
       "4  The Impact of Middle East Respiratory Syndrome...   \n",
       "\n",
       "                                             authors  \\\n",
       "0  Stanley Perlman, &quot; , Gregory Evans, Adel ...   \n",
       "1  Laura Jartti, Henriikka Langen, Maria Söderlun...   \n",
       "2                                                      \n",
       "3                                               Kolb   \n",
       "4  So Hyun Paek, Do Kyun Kim, Jin Hee Lee, Young ...   \n",
       "\n",
       "                                        affiliations  \\\n",
       "0  Stanley Perlman (University of Iowa, 52242, Io...   \n",
       "1  Laura Jartti (Turku City Hospital, Turku, Finl...   \n",
       "2                                                      \n",
       "3                                               Kolb   \n",
       "4  So Hyun Paek (Seoul National University Hospit...   \n",
       "\n",
       "                                            abstract  \\\n",
       "0  Abstract\\n\\nPrevious results suggested that, a...   \n",
       "1  Abstract\\n\\nThe diagnostics of respiratory vir...   \n",
       "2                                                      \n",
       "3                                                      \n",
       "4  Abstract\\n\\nChanges occurred in the patterns o...   \n",
       "\n",
       "                                                text  \\\n",
       "0  \\n\\nM ouse hepatitis virus (MHV),' a member of...   \n",
       "1  INTRODUCTION\\n\\nLife expectancy has increased ...   \n",
       "2  Introduction\\n\\nThis inaugural meeting of the ...   \n",
       "3  VPS38\\n\\nPart of a Vps34p phosphatidylinositol...   \n",
       "4  INTRODUCTION\\n\\nAn outbreak of Middle East res...   \n",
       "\n",
       "                                        bibliography  \\\n",
       "0  64 :761. cephalomyelitis with extensive destru...   \n",
       "1  Ageing populations: the challenges ahead, K Ch...   \n",
       "2  Global Health Security Agenda: Getting Ahead o...   \n",
       "3  Saccharomyces Genome Database, , , None; Cloni...   \n",
       "4  Middle East Respiratory Syndrome Coronavirus s...   \n",
       "\n",
       "                                         raw_authors  \\\n",
       "0  [{'first': 'Stanley', 'middle': [], 'last': 'P...   \n",
       "1  [{'first': 'Laura', 'middle': [], 'last': 'Jar...   \n",
       "2                                                 []   \n",
       "3  [{'first': '', 'middle': [], 'last': 'Kolb', '...   \n",
       "4  [{'first': 'So', 'middle': ['Hyun'], 'last': '...   \n",
       "\n",
       "                                    raw_bibliography  \n",
       "0  {'BIBREF0': {'ref_id': 'b0', 'title': '64 :761...  \n",
       "1  {'BIBREF0': {'ref_id': 'b0', 'title': 'Ageing ...  \n",
       "2  {'BIBREF0': {'ref_id': 'b0', 'title': 'Global ...  \n",
       "3  {'BIBREF0': {'ref_id': 'b0', 'title': 'Sacchar...  \n",
       "4  {'BIBREF0': {'ref_id': 'b0', 'title': 'Middle ...  "
      ]
     },
     "execution_count": 29,
     "metadata": {},
     "output_type": "execute_result"
    }
   ],
   "source": [
    "noncomm_dir = '/home/kike/Documentos/data/CORONAVIRUS/CORD-19-research-challenge/noncomm_use_subset/noncomm_use_subset/'\n",
    "noncomm_files = load_files(noncomm_dir)\n",
    "noncomm_df = generate_clean_df(noncomm_files)\n",
    "noncomm_df.to_csv(path + 'clean_noncomm_use.csv', index=False)\n",
    "noncomm_df.head()"
   ]
  },
  {
   "cell_type": "code",
   "execution_count": null,
   "metadata": {},
   "outputs": [],
   "source": []
  }
 ],
 "metadata": {
  "kernelspec": {
   "display_name": "kikenv",
   "language": "python",
   "name": "kikenv"
  },
  "language_info": {
   "codemirror_mode": {
    "name": "ipython",
    "version": 3
   },
   "file_extension": ".py",
   "mimetype": "text/x-python",
   "name": "python",
   "nbconvert_exporter": "python",
   "pygments_lexer": "ipython3",
   "version": "3.6.9"
  }
 },
 "nbformat": 4,
 "nbformat_minor": 2
}
