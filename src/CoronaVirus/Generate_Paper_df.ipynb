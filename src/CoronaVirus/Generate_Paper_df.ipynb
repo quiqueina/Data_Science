{
 "cells": [
  {
   "cell_type": "markdown",
   "metadata": {},
   "source": [
    "# Generate a pandas Data Frame with all Papers"
   ]
  },
  {
   "cell_type": "code",
   "execution_count": 2,
   "metadata": {},
   "outputs": [],
   "source": [
    "import os\n",
    "import pandas as pd"
   ]
  },
  {
   "cell_type": "code",
   "execution_count": 3,
   "metadata": {},
   "outputs": [],
   "source": [
    "DATA_PATH = \"/home/kike/Documentos/data/CORONAVIRUS/CORD-19-research-challenge/clean_csv/\"\n",
    "\n",
    "pmc_df = pd.read_csv(DATA_PATH + \"clean_pmc.csv\")\n",
    "biorxiv_df = pd.read_csv(DATA_PATH + \"biorxiv_clean.csv\")\n",
    "comm_use_df = pd.read_csv(DATA_PATH + \"clean_comm_use.csv\")\n",
    "noncomm_use_df = pd.read_csv(DATA_PATH + \"clean_noncomm_use.csv\")\n",
    "\n",
    "papers_df = pd.concat([pmc_df,\n",
    "                       biorxiv_df,\n",
    "                       comm_use_df,\n",
    "                       noncomm_use_df], axis=0).reset_index(drop=True)\n",
    "\n",
    "papers_df.to_csv(DATA_PATH + \"papers_df.csv\", index = False)"
   ]
  }
 ],
 "metadata": {
  "kernelspec": {
   "display_name": "kikenv",
   "language": "python",
   "name": "kikenv"
  },
  "language_info": {
   "codemirror_mode": {
    "name": "ipython",
    "version": 3
   },
   "file_extension": ".py",
   "mimetype": "text/x-python",
   "name": "python",
   "nbconvert_exporter": "python",
   "pygments_lexer": "ipython3",
   "version": "3.6.9"
  }
 },
 "nbformat": 4,
 "nbformat_minor": 2
}
