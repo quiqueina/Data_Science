{
 "cells": [
  {
   "cell_type": "markdown",
   "metadata": {},
   "source": [
    "# Main Concepts"
   ]
  },
  {
   "cell_type": "code",
   "execution_count": null,
   "metadata": {},
   "outputs": [],
   "source": [
    "import nltk\n",
    "nltk.download()"
   ]
  },
  {
   "cell_type": "code",
   "execution_count": null,
   "metadata": {},
   "outputs": [],
   "source": [
    "dir(nltk)"
   ]
  },
  {
   "cell_type": "code",
   "execution_count": null,
   "metadata": {},
   "outputs": [],
   "source": [
    "# Tokenizer Example\n",
    "\n",
    "from nltk.tokenize import word_tokenize\n",
    "\n",
    "input_txt = \"I am from Granada, Spain and I am using python to learn NLP and by the way, practice some code\"\n",
    "\n",
    "word_tokens = word_tokenize(input_txt)\n",
    "print(input_txt)\n",
    "print(word_tokens)"
   ]
  },
  {
   "cell_type": "code",
   "execution_count": null,
   "metadata": {},
   "outputs": [],
   "source": [
    "# Reading text\n",
    "\n",
    "raw_data = \"Era un viejo que pescaba solo en un bote en la corriente del Golfo y hacía ochenta y cuatro días que no cogía un pez. En\tlos\tprimeros\tcuarenta\tdías\thabía tenido\tconsigo\ta\tun\tmuchacho.\tPero\tdespués\tde\tcuarenta\tdías\tsin\thaber pescado,\tlos\tpadres\tdel\tmuchacho\tle\thabían\tdicho\tque\tel\tviejo\testaba definitiva\ty\trematadamente\tsalao,\tlo\tcual\tera\tla\tpeor\tforma\tde\tla\tmala\tsuerte;\ty por\torden\tde\tsus\tpadres,\tel\tmuchacho\thabía\tsalido\ten\totro\tbote,\tque\tcogió\ttres buenos\tpeces\tla\tprimera\tsemana.\tEntristecía\tal\tmuchacho\tver\tal\tviejo\tregresar todos\tlos\tdías\tcon\tsu\tbote\tvacío,\ty\tsiempre\tbajaba\ta\tayudarle\ta\tcargar\tlos rollos\tde\tsedal\to\tel\tbichero\ty\tel\tarpón\ty\tla\tvela\tarrollada\tal\tmástil.\tLa\tvela estaba\tremendada\tcon\tsacos\tde\tharina\ty,\tarrollada,\tparecía\tuna\tbandera\ten permanente\tderrota. \"\n",
    "raw_data[0:500]"
   ]
  },
  {
   "cell_type": "code",
   "execution_count": null,
   "metadata": {},
   "outputs": [],
   "source": [
    "parsed_data = raw_data.replace('\\t', ' ').split(' ')\n",
    "print(parsed_data)"
   ]
  },
  {
   "cell_type": "code",
   "execution_count": null,
   "metadata": {},
   "outputs": [],
   "source": [
    "label_list = parsed_data[0::2]\n",
    "msg_list = parsed_data[1::2]\n",
    "\n",
    "print(label_list[0:5])\n",
    "print(msg_list[1:5])"
   ]
  },
  {
   "cell_type": "code",
   "execution_count": null,
   "metadata": {},
   "outputs": [],
   "source": [
    "label_list"
   ]
  },
  {
   "cell_type": "code",
   "execution_count": null,
   "metadata": {},
   "outputs": [],
   "source": [
    "import pandas as pd\n",
    "\n",
    "combined_df = pd.DataFrame({\"label\": label_list,\n",
    "                            \"sms\": msg_list})\n",
    "combined_df.head()"
   ]
  },
  {
   "cell_type": "code",
   "execution_count": null,
   "metadata": {},
   "outputs": [],
   "source": [
    "print(len(label_list))\n",
    "print(len(msg_list))\n",
    "print(label_list[-3:])\n",
    "print(msg_list[-3:])"
   ]
  },
  {
   "cell_type": "code",
   "execution_count": 33,
   "metadata": {},
   "outputs": [
    {
     "name": "stdout",
     "output_type": "stream",
     "text": [
      "                                                   0\n",
      "0          v1,v2,,,,,,,,,,,,,,,,,,,,,,,,,,,,,,,,,,,,\n",
      "1  ham,\"Go until jurong point, crazy.. Available ...\n",
      "2  ham,Ok lar... Joking wif u oni...,,,,,,,,,,,,,...\n",
      "3  spam,Free entry in 2 a wkly comp to win FA Cup...\n",
      "4  ham,U dun say so early hor... U c already then...\n"
     ]
    }
   ],
   "source": [
    "import pandas as pd\n",
    "\n",
    "path = '/home/kike/Documentos/data/NLP/spam.csv'\n",
    "df = pd.read_csv(path, sep = \"\\t\", encoding = \"ISO-8859-1\", header = None)\n",
    "print(df.head(5))\n",
    "\n",
    "df_raw_data = df[0:500]\n",
    "\n",
    "#df[\"label\"] = df.apply(lambda x: x.split(',') for x in df[df[0]])"
   ]
  },
  {
   "cell_type": "code",
   "execution_count": 41,
   "metadata": {},
   "outputs": [
    {
     "data": {
      "text/html": [
       "<div>\n",
       "<style scoped>\n",
       "    .dataframe tbody tr th:only-of-type {\n",
       "        vertical-align: middle;\n",
       "    }\n",
       "\n",
       "    .dataframe tbody tr th {\n",
       "        vertical-align: top;\n",
       "    }\n",
       "\n",
       "    .dataframe thead th {\n",
       "        text-align: right;\n",
       "    }\n",
       "</style>\n",
       "<table border=\"1\" class=\"dataframe\">\n",
       "  <thead>\n",
       "    <tr style=\"text-align: right;\">\n",
       "      <th></th>\n",
       "    </tr>\n",
       "  </thead>\n",
       "  <tbody>\n",
       "  </tbody>\n",
       "</table>\n",
       "</div>"
      ],
      "text/plain": [
       "Empty DataFrame\n",
       "Columns: []\n",
       "Index: []"
      ]
     },
     "execution_count": 41,
     "metadata": {},
     "output_type": "execute_result"
    }
   ],
   "source": [
    "df_splitted  = df[0].str.split(\",\",expand = True)\n",
    "\n",
    "df = df_splitted[]\n",
    "df"
   ]
  },
  {
   "cell_type": "code",
   "execution_count": 30,
   "metadata": {},
   "outputs": [
    {
     "data": {
      "text/plain": [
       "0    v1,v2,,,,,,,,,,,,,,,,,,,,,,,,,,,,,,,,,,,,\n",
       "1    v1,v2,,,,,,,,,,,,,,,,,,,,,,,,,,,,,,,,,,,,\n",
       "2    v1,v2,,,,,,,,,,,,,,,,,,,,,,,,,,,,,,,,,,,,\n",
       "3    v1,v2,,,,,,,,,,,,,,,,,,,,,,,,,,,,,,,,,,,,\n",
       "4    v1,v2,,,,,,,,,,,,,,,,,,,,,,,,,,,,,,,,,,,,\n",
       "Name: 0, dtype: object"
      ]
     },
     "execution_count": 30,
     "metadata": {},
     "output_type": "execute_result"
    }
   ],
   "source": [
    "df_new = df[0].str.split(\"t\", n = 1, expand = True)[0]\n",
    "df[0] = df_new[0]\n",
    "df_new.head()"
   ]
  },
  {
   "cell_type": "code",
   "execution_count": null,
   "metadata": {},
   "outputs": [],
   "source": [
    "df_raw_data"
   ]
  },
  {
   "cell_type": "code",
   "execution_count": null,
   "metadata": {},
   "outputs": [],
   "source": [
    "df_parsed_data = df_raw_data.replace('\\t', ' ').split(' ')\n",
    "print(df_parsed_data)"
   ]
  },
  {
   "cell_type": "code",
   "execution_count": null,
   "metadata": {},
   "outputs": [],
   "source": [
    "df_label_list = df_parsed_data[0::2]\n",
    "df_msg_list = df_parsed_data[1::2]\n",
    "\n",
    "print(df_label_list[0:5])\n",
    "print(df_msg_list[1:5])"
   ]
  },
  {
   "cell_type": "code",
   "execution_count": null,
   "metadata": {},
   "outputs": [],
   "source": [
    "combined_df = pd.DataFrame({\"label\": df_label_list,\n",
    "                            \"sms\": df_msg_list})\n",
    "combined_df.head()"
   ]
  },
  {
   "cell_type": "code",
   "execution_count": null,
   "metadata": {},
   "outputs": [],
   "source": [
    "print(len(df_label_list))\n",
    "print(len(df_msg_list))\n",
    "print(df_label_list[-3:])\n",
    "print(df_msg_list[-3:])"
   ]
  },
  {
   "cell_type": "code",
   "execution_count": null,
   "metadata": {},
   "outputs": [],
   "source": []
  }
 ],
 "metadata": {
  "kernelspec": {
   "display_name": "kikenv",
   "language": "python",
   "name": "kikenv"
  },
  "language_info": {
   "codemirror_mode": {
    "name": "ipython",
    "version": 3
   },
   "file_extension": ".py",
   "mimetype": "text/x-python",
   "name": "python",
   "nbconvert_exporter": "python",
   "pygments_lexer": "ipython3",
   "version": "3.6.9"
  }
 },
 "nbformat": 4,
 "nbformat_minor": 2
}
