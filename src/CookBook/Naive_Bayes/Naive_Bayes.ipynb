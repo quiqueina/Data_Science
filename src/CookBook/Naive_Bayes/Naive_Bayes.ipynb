{
 "cells": [
  {
   "cell_type": "markdown",
   "metadata": {},
   "source": [
    "# Naive Bayes\n",
    "\n",
    "Bayes theorem is the premier method for understanding the probability of some event P(A|B) given some new information, P(B|A) and a prior belief in the probability event.\n",
    "\n",
    "P(A|B) = [ P(B|A) * P(A) ]  /  P(B)\n",
    "\n",
    "Qualities of Naive Bayes Classifiers:\n",
    "\n",
    "- Intuitive approach\n",
    "- The ability to work with small data\n",
    "- Low computation cost for training and prediction\n",
    "- Often solid results in a variety of settings\n",
    "\n",
    "\n",
    "\n",
    "---\n",
    "\n",
    " **FORMULA : P(y|x1, ..., xj) = [P(xi, ..., xj | y) . P(y)] / P(x1, ... , xj)**\n",
    "\n",
    "P(y|x1, ..., xj) : POSTERIOR. Probability that an observation is class y given the observation's values for the j features x1, ..., xj\n",
    "\n",
    "P(xi, ..., xj | y) : LIKELIHOOD. Likelyhood of an observation's values for features x1, ..., xj given their class y\n",
    "\n",
    "P(y) : PRIOR. Our belief for the probability of class y bedore looking at the data\n",
    "\n",
    "P(x1, ... , xj) MARGINAL PROBABILITY\n",
    "\n",
    "\n",
    "\n",
    "\n",
    "In naive bayes we compare an observation's posterior values for each possible class.\n",
    "\n",
    "The marginal probability is constant across this comparisons.\n",
    "\n",
    "We calculate the numerators of the posterior for each class. \n",
    "\n",
    "For each operation the class with the greatest posterior numerator becomes the predicted class ŷ\n",
    "\n",
    "---\n",
    "\n",
    "1 -. In Naive Bayes for each feature in the data we have to assume the statistical distribution of the likelihood P(Xj|y)\n",
    "\n",
    "The common distributions are : Normal(gaussian) ; Multinomial ; Bernoulli\n",
    "\n",
    "The distribution chosen is oftenly determinided by the nature of features ( continous, binary, etc ... ) \n",
    "\n",
    "2-. Naive Bayes. Get it names because we assume that each feature and its resulting likelihood is independent. \n",
    "\n",
    "This \"naive\" assumptions os frequently wrong, yet in practice does little to prevent bulding high quality classifiers."
   ]
  },
  {
   "cell_type": "markdown",
   "metadata": {},
   "source": [
    "# Training a Classifier for Contuous features\n",
    "\n",
    "You have only continous features and you want to train GAUSSIAN Naive Bayes classifier.\n",
    "\n",
    "It assumes that the likelihood of the feature values, x, given an observation is of class y, folows a Normal Distribution. N~\n"
   ]
  },
  {
   "cell_type": "code",
   "execution_count": 4,
   "metadata": {},
   "outputs": [],
   "source": [
    "# Load libraries\n",
    "\n",
    "from sklearn.datasets import load_iris\n",
    "from sklearn.naive_bayes import GaussianNB"
   ]
  },
  {
   "cell_type": "code",
   "execution_count": 5,
   "metadata": {},
   "outputs": [],
   "source": [
    "# Load data\n",
    "\n",
    "iris = load_iris()\n",
    "\n",
    "features = iris.data\n",
    "target = iris.target"
   ]
  },
  {
   "cell_type": "code",
   "execution_count": 6,
   "metadata": {},
   "outputs": [],
   "source": [
    "# Create gaussian naive Bayes Object\n",
    "\n",
    "classifier = GaussianNB()"
   ]
  },
  {
   "cell_type": "code",
   "execution_count": 7,
   "metadata": {},
   "outputs": [],
   "source": [
    "# Train model\n",
    "\n",
    "model = classifier.fit(features, target)"
   ]
  },
  {
   "cell_type": "code",
   "execution_count": 8,
   "metadata": {},
   "outputs": [],
   "source": [
    "# Create new observation \n",
    "\n",
    "observation = [[4, 4, 4, 0.4]]"
   ]
  },
  {
   "cell_type": "code",
   "execution_count": 9,
   "metadata": {},
   "outputs": [
    {
     "data": {
      "text/plain": [
       "array([1])"
      ]
     },
     "execution_count": 9,
     "metadata": {},
     "output_type": "execute_result"
    }
   ],
   "source": [
    "# Predict observation class\n",
    "\n",
    "model.predict(observation)"
   ]
  },
  {
   "cell_type": "code",
   "execution_count": 10,
   "metadata": {},
   "outputs": [],
   "source": [
    "# Create Gaussian Naive ayes object with prior probabilities of each class\n",
    "\n",
    "clf = GaussianNB(priors = [0.25, 0.25, 0.5])"
   ]
  },
  {
   "cell_type": "code",
   "execution_count": 11,
   "metadata": {},
   "outputs": [],
   "source": [
    "# Train Model\n",
    "\n",
    "model = classifier.fit(features,target)"
   ]
  },
  {
   "cell_type": "code",
   "execution_count": 12,
   "metadata": {},
   "outputs": [
    {
     "ename": "AttributeError",
     "evalue": "'GaussianNB' object has no attribute 'predict_proba_'",
     "output_type": "error",
     "traceback": [
      "\u001b[0;31m---------------------------------------------------------------------------\u001b[0m",
      "\u001b[0;31mAttributeError\u001b[0m                            Traceback (most recent call last)",
      "\u001b[0;32m<ipython-input-12-11939d899f24>\u001b[0m in \u001b[0;36m<module>\u001b[0;34m\u001b[0m\n\u001b[0;32m----> 1\u001b[0;31m \u001b[0mmodel\u001b[0m\u001b[0;34m.\u001b[0m\u001b[0mpredict_proba_\u001b[0m\u001b[0;34m\u001b[0m\u001b[0;34m\u001b[0m\u001b[0m\n\u001b[0m",
      "\u001b[0;31mAttributeError\u001b[0m: 'GaussianNB' object has no attribute 'predict_proba_'"
     ]
    }
   ],
   "source": [
    "model.predict_proba_"
   ]
  },
  {
   "cell_type": "code",
   "execution_count": null,
   "metadata": {},
   "outputs": [],
   "source": []
  },
  {
   "cell_type": "code",
   "execution_count": null,
   "metadata": {},
   "outputs": [],
   "source": []
  },
  {
   "cell_type": "code",
   "execution_count": null,
   "metadata": {},
   "outputs": [],
   "source": []
  },
  {
   "cell_type": "code",
   "execution_count": null,
   "metadata": {},
   "outputs": [],
   "source": []
  },
  {
   "cell_type": "code",
   "execution_count": null,
   "metadata": {},
   "outputs": [],
   "source": []
  },
  {
   "cell_type": "code",
   "execution_count": null,
   "metadata": {},
   "outputs": [],
   "source": []
  },
  {
   "cell_type": "code",
   "execution_count": null,
   "metadata": {},
   "outputs": [],
   "source": []
  },
  {
   "cell_type": "code",
   "execution_count": null,
   "metadata": {},
   "outputs": [],
   "source": []
  },
  {
   "cell_type": "code",
   "execution_count": null,
   "metadata": {},
   "outputs": [],
   "source": []
  },
  {
   "cell_type": "code",
   "execution_count": null,
   "metadata": {},
   "outputs": [],
   "source": []
  },
  {
   "cell_type": "code",
   "execution_count": null,
   "metadata": {},
   "outputs": [],
   "source": []
  },
  {
   "cell_type": "code",
   "execution_count": null,
   "metadata": {},
   "outputs": [],
   "source": []
  },
  {
   "cell_type": "code",
   "execution_count": null,
   "metadata": {},
   "outputs": [],
   "source": []
  },
  {
   "cell_type": "code",
   "execution_count": null,
   "metadata": {},
   "outputs": [],
   "source": []
  },
  {
   "cell_type": "code",
   "execution_count": null,
   "metadata": {},
   "outputs": [],
   "source": []
  },
  {
   "cell_type": "code",
   "execution_count": null,
   "metadata": {},
   "outputs": [],
   "source": []
  },
  {
   "cell_type": "code",
   "execution_count": null,
   "metadata": {},
   "outputs": [],
   "source": []
  }
 ],
 "metadata": {
  "kernelspec": {
   "display_name": "Kikenv",
   "language": "python",
   "name": "kikenv"
  },
  "language_info": {
   "codemirror_mode": {
    "name": "ipython",
    "version": 3
   },
   "file_extension": ".py",
   "mimetype": "text/x-python",
   "name": "python",
   "nbconvert_exporter": "python",
   "pygments_lexer": "ipython3",
   "version": "3.6.9"
  }
 },
 "nbformat": 4,
 "nbformat_minor": 2
}
