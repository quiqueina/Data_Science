{
 "cells": [
  {
   "cell_type": "markdown",
   "metadata": {},
   "source": [
    "# Evaluating: Creating a Custom Evaluation Metric\n",
    "\n",
    "Create a function representing a metric and convert it to a scorer function using scikit-learn's make_scorer"
   ]
  },
  {
   "cell_type": "code",
   "execution_count": 30,
   "metadata": {},
   "outputs": [],
   "source": [
    "# Load libraries\n",
    "\n",
    "import numpy as np\n",
    "import matplotlib.pyplot as plt\n",
    "from sklearn.datasets import load_digits\n",
    "from sklearn.model_selection import learning_curve\n",
    "from sklearn.ensemble import RandomForestClassifier"
   ]
  },
  {
   "cell_type": "code",
   "execution_count": 31,
   "metadata": {},
   "outputs": [],
   "source": [
    "# Load data\n",
    "\n",
    "digits = load_digits()"
   ]
  },
  {
   "cell_type": "code",
   "execution_count": 32,
   "metadata": {},
   "outputs": [],
   "source": [
    "# Create feature matrix and target vector\n",
    "\n",
    "features, target = digits.data, digits.target"
   ]
  },
  {
   "cell_type": "code",
   "execution_count": 33,
   "metadata": {},
   "outputs": [],
   "source": [
    "# Create CV training and test scres for various trainning set sizes\n",
    "\n",
    "train_sizes, train_scores, test_scores = learning_curve(RandomForestClassifier(), #Classifier\n",
    "                                                        features,                 # Feature matrix\n",
    "                                                        target,                   # Target vector\n",
    "                                                        cv = 10,                  # Number of folds\n",
    "                                                        scoring = \"accuracy\",     # Performance Metric\n",
    "                                                        n_jobs = -1,              # Use all computer cores \n",
    "                                                        train_sizes = np.linspace(0.01, 1.0,50))  # Sizes of 50 training set       "
   ]
  },
  {
   "cell_type": "code",
   "execution_count": 34,
   "metadata": {},
   "outputs": [],
   "source": [
    "# Create means and standard devaitions of trainig set scores\n",
    "\n",
    "train_mean = np.mean(train_scores, axis = 1)\n",
    "train_std = np.std(train_scores, axis = 1)"
   ]
  },
  {
   "cell_type": "code",
   "execution_count": 35,
   "metadata": {},
   "outputs": [],
   "source": [
    "# Create means and standard deviations of test set scores\n",
    "\n",
    "test_mean = np.mean(test_scores, axis = 1)\n",
    "test_std = np.std(test_scores, axis = 1)"
   ]
  },
  {
   "cell_type": "code",
   "execution_count": 42,
   "metadata": {},
   "outputs": [
    {
     "data": {
      "image/png": "[encoded data removed]",
      "text/plain": [
       "<Figure size 432x288 with 1 Axes>"
      ]
     },
     "metadata": {
      "needs_background": "light"
     },
     "output_type": "display_data"
    }
   ],
   "source": [
    "# Draw lines\n",
    "\n",
    "plt.plot(train_sizes, train_mean, \"--\", color = \"#111111\", label = \"Training Score\")\n",
    "plt.plot(train_sizes, test_mean, color = \"#111111\", label = \"Cross Validation Score\")\n",
    "\n",
    "# Draw bands\n",
    "\n",
    "plt.fill_between(train_sizes, train_mean - train_std,\n",
    "                 train_mean + train_std, color = \"lime\")\n",
    "\n",
    "plt.fill_between(train_sizes, test_mean - test_std,\n",
    "                 test_mean + test_std, color = \"red\")\n",
    "# Create plot\n",
    "\n",
    "plt.title(\"Learning Curve\")\n",
    "plt.xlabel(\"Training Set Size\"), plt.ylabel(\"Accuracy Score\"),\n",
    "plt.tight_layout()\n",
    "plt.show()"
   ]
  },
  {
   "cell_type": "markdown",
   "metadata": {},
   "source": [
    "Learning curves visualize the performance of a model on the training set and during cross validation as the number of observations in the training set increases. \n",
    "\n",
    "They are commonly used to determine if our learning algorithms would benefit from gathering additional training data.\n",
    "\n",
    "In our solution, the accuracy of a random forest at 50 different training sizes ranging 1-100 % of observations is plotted.\n",
    "\n",
    "The increasing accuracy score of the cross-validated models tell us that we would likely benefit from additional observations"
   ]
  }
 ],
 "metadata": {
  "kernelspec": {
   "display_name": "Kikenv",
   "language": "python",
   "name": "kikenv"
  },
  "language_info": {
   "codemirror_mode": {
    "name": "ipython",
    "version": 3
   },
   "file_extension": ".py",
   "mimetype": "text/x-python",
   "name": "python",
   "nbconvert_exporter": "python",
   "pygments_lexer": "ipython3",
   "version": "3.6.9"
  }
 },
 "nbformat": 4,
 "nbformat_minor": 2
}
