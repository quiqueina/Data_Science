{
 "cells": [
  {
   "cell_type": "markdown",
   "metadata": {},
   "source": [
    "# Reducing Overfitting with Weight Regularization\n",
    "\n",
    "The penalizing parameters of the network also called weight regularization.\n",
    "\n",
    "One strategy to combat overfitting NN is by penalyzing the parameters (weight) of the NN such that they are driven to be small values, creating a somplest model less prone to overfit.\n",
    "\n",
    "l2 Norm penalization.\n",
    "regularizers = regularizers.l2(0.01) (o.o1 is how much we penalize higher parameter values)"
   ]
  },
  {
   "cell_type": "code",
   "execution_count": 1,
   "metadata": {},
   "outputs": [
    {
     "name": "stderr",
     "output_type": "stream",
     "text": [
      "Using TensorFlow backend.\n"
     ]
    }
   ],
   "source": [
    "# Load libraries\n",
    "\n",
    "import numpy as np\n",
    "from keras import models\n",
    "from keras import layers\n",
    "from keras import regularizers\n",
    "from keras.datasets import imdb\n",
    "import matplotlib.pyplot as plt\n",
    "from keras.preprocessing.text import Tokenizer"
   ]
  },
  {
   "cell_type": "code",
   "execution_count": 2,
   "metadata": {},
   "outputs": [],
   "source": [
    "# Set random seed\n",
    "\n",
    "np.random.seed(0)"
   ]
  },
  {
   "cell_type": "code",
   "execution_count": 3,
   "metadata": {},
   "outputs": [],
   "source": [
    "# Set the number of features we want\n",
    "\n",
    "number_features = 1000"
   ]
  },
  {
   "cell_type": "code",
   "execution_count": 4,
   "metadata": {},
   "outputs": [],
   "source": [
    "# Load Data anda target  vector from movie review data\n",
    "\n",
    "(data_train, target_train),(data_test, target_test) = imdb.load_data(num_words = number_features)"
   ]
  },
  {
   "cell_type": "code",
   "execution_count": 5,
   "metadata": {},
   "outputs": [],
   "source": [
    "# Convert movie review data to a one hot enconded feature matrix\n",
    "\n",
    "tokenizer = Tokenizer(num_words = number_features)\n",
    "\n",
    "features_train = tokenizer.sequences_to_matrix(data_train, mode=\"binary\")\n",
    "features_test = tokenizer.sequences_to_matrix(data_test, mode= \"binary\")"
   ]
  },
  {
   "cell_type": "code",
   "execution_count": 6,
   "metadata": {},
   "outputs": [],
   "source": [
    "# Start NN\n",
    "\n",
    "network = models.Sequential()"
   ]
  },
  {
   "cell_type": "code",
   "execution_count": 7,
   "metadata": {},
   "outputs": [],
   "source": [
    "# Add fully connected layer with a ReLu activation function\n",
    "\n",
    "network.add(layers.Dense(units=16, activation = \"relu\", kernel_regularizer = regularizers.l2(0.01), input_shape = (number_features,)))"
   ]
  },
  {
   "cell_type": "code",
   "execution_count": 8,
   "metadata": {},
   "outputs": [],
   "source": [
    "# Add fully connected layer with a ReLu activation function\n",
    "\n",
    "network.add(layers.Dense(units=16, activation = \"relu\", kernel_regularizer = regularizers.l2(0.01)))"
   ]
  },
  {
   "cell_type": "code",
   "execution_count": 9,
   "metadata": {},
   "outputs": [],
   "source": [
    "# Add fully connected layer with a ReLu activation function\n",
    "\n",
    "network.add(layers.Dense(units=1, activation = \"sigmoid\"))"
   ]
  },
  {
   "cell_type": "code",
   "execution_count": 10,
   "metadata": {},
   "outputs": [],
   "source": [
    "# Compile NN\n",
    "\n",
    "network.compile(loss=\"binary_crossentropy\", optimizer = \"rmsprop\", metrics = [\"accuracy\"])"
   ]
  },
  {
   "cell_type": "code",
   "execution_count": 11,
   "metadata": {},
   "outputs": [
    {
     "name": "stdout",
     "output_type": "stream",
     "text": [
      "Train on 25000 samples, validate on 25000 samples\n",
      "Epoch 1/10\n",
      "25000/25000 [==============================] - 2s 77us/step - loss: 0.6454 - accuracy: 0.8071 - val_loss: 0.4962 - val_accuracy: 0.8523\n",
      "Epoch 2/10\n",
      "25000/25000 [==============================] - 1s 46us/step - loss: 0.4694 - accuracy: 0.8550 - val_loss: 0.4517 - val_accuracy: 0.8570\n",
      "Epoch 3/10\n",
      "25000/25000 [==============================] - 1s 46us/step - loss: 0.4403 - accuracy: 0.8566 - val_loss: 0.4430 - val_accuracy: 0.8484\n",
      "Epoch 4/10\n",
      "25000/25000 [==============================] - 1s 44us/step - loss: 0.4252 - accuracy: 0.8542 - val_loss: 0.4283 - val_accuracy: 0.8517\n",
      "Epoch 5/10\n",
      "25000/25000 [==============================] - 1s 43us/step - loss: 0.4131 - accuracy: 0.8583 - val_loss: 0.4316 - val_accuracy: 0.8438\n",
      "Epoch 6/10\n",
      "25000/25000 [==============================] - 1s 48us/step - loss: 0.4052 - accuracy: 0.8563 - val_loss: 0.4162 - val_accuracy: 0.8479\n",
      "Epoch 7/10\n",
      "25000/25000 [==============================] - 1s 46us/step - loss: 0.3997 - accuracy: 0.8576 - val_loss: 0.3976 - val_accuracy: 0.8589\n",
      "Epoch 8/10\n",
      "25000/25000 [==============================] - 1s 46us/step - loss: 0.3946 - accuracy: 0.8588 - val_loss: 0.3934 - val_accuracy: 0.8574\n",
      "Epoch 9/10\n",
      "25000/25000 [==============================] - 2s 70us/step - loss: 0.3896 - accuracy: 0.8624 - val_loss: 0.3885 - val_accuracy: 0.8597\n",
      "Epoch 10/10\n",
      "25000/25000 [==============================] - 1s 44us/step - loss: 0.3852 - accuracy: 0.8599 - val_loss: 0.3937 - val_accuracy: 0.8544\n"
     ]
    }
   ],
   "source": [
    "# Train NN\n",
    "\n",
    "history_WR = network.fit(features_train, target_train, epochs = 10, verbose = 1, batch_size = 100, validation_data = (features_test, target_test))"
   ]
  },
  {
   "cell_type": "code",
   "execution_count": 12,
   "metadata": {},
   "outputs": [],
   "source": [
    "# Crearting plots\n",
    "\n",
    "training_loss_WR = history_WR.history[\"loss\"]\n",
    "\n",
    "test_loss_WR = history_WR.history[\"val_loss\"]\n",
    "\n",
    "epoch_count = range(1, len(training_loss_WR) + 1)\n"
   ]
  },
  {
   "cell_type": "code",
   "execution_count": 13,
   "metadata": {},
   "outputs": [
    {
     "data": {
      "image/png": "[encoded data removed]",
      "text/plain": [
       "<Figure size 432x288 with 1 Axes>"
      ]
     },
     "metadata": {
      "needs_background": "light"
     },
     "output_type": "display_data"
    }
   ],
   "source": [
    "# Visualize loss history\n",
    "\n",
    "plt.plot(epoch_count, training_loss_WR, \"r--\")\n",
    "plt.plot(epoch_count, test_loss_WR, \"b--\")\n",
    "plt.legend([\"Training Loss\", \"Test_loss\"])\n",
    "plt.xlabel(\"Epoch\")\n",
    "plt.ylabel(\"Loss\")\n",
    "plt.show()"
   ]
  },
  {
   "cell_type": "code",
   "execution_count": 14,
   "metadata": {},
   "outputs": [],
   "source": [
    "# Get training and test accuracy histories \n",
    "\n",
    "training_accuracy = history_WR.history[\"accuracy\"]\n",
    "test_accuracy = history_WR.history[\"val_accuracy\"]"
   ]
  },
  {
   "cell_type": "code",
   "execution_count": 15,
   "metadata": {},
   "outputs": [
    {
     "data": {
      "image/png": "[encoded data removed]",
      "text/plain": [
       "<Figure size 432x288 with 1 Axes>"
      ]
     },
     "metadata": {
      "needs_background": "light"
     },
     "output_type": "display_data"
    }
   ],
   "source": [
    "# Visualize the accuracy history \n",
    "\n",
    "plt.plot(epoch_count, training_accuracy, \"r--\")\n",
    "plt.plot(epoch_count, test_accuracy, \"b--\")\n",
    "plt.legend([\"Training Accuracy\", \"Test Accuracy\"])\n",
    "plt.xlabel(\"Epoch\")\n",
    "plt.ylabel(\"Accuracy Score\")\n",
    "plt.show()"
   ]
  },
  {
   "cell_type": "markdown",
   "metadata": {},
   "source": [
    "# Reducing Overfitting with Early Stopping\n",
    "\n",
    "Try stopping training when the test loss stops decreasing.\n",
    "\n",
    "Early Stopping: One of the most common and very effective methods, to monitor the training and stop it when the test error stars to increase.\n",
    "\n",
    "\n",
    "\n",
    "monitor = \"val_loss\", patience = 2 ==> monitor the test validation loss at each epoch and after the test loss has not improved adter two epochs, training is interrumped\n",
    "moel_checkpoint : Will save the model to a file after every checkpoint bets = True only will save the best model"
   ]
  },
  {
   "cell_type": "code",
   "execution_count": 16,
   "metadata": {},
   "outputs": [],
   "source": [
    "# Load libraries\n",
    "\n",
    "import numpy as np\n",
    "from keras import models\n",
    "from keras import layers\n",
    "from keras.callbacks import EarlyStopping, ModelCheckpoint\n",
    "from keras.datasets import imdb\n",
    "import matplotlib.pyplot as plt\n",
    "from keras.preprocessing.text import Tokenizer"
   ]
  },
  {
   "cell_type": "code",
   "execution_count": 17,
   "metadata": {},
   "outputs": [],
   "source": [
    "# Set random seed\n",
    "\n",
    "np.random.seed(0)"
   ]
  },
  {
   "cell_type": "code",
   "execution_count": 18,
   "metadata": {},
   "outputs": [],
   "source": [
    "# Set the number of features we want\n",
    "\n",
    "number_features = 1000"
   ]
  },
  {
   "cell_type": "code",
   "execution_count": 19,
   "metadata": {},
   "outputs": [],
   "source": [
    "# Load Data anda target  vector from movie review data\n",
    "\n",
    "(data_train, target_train),(data_test, target_test) = imdb.load_data(num_words = number_features)"
   ]
  },
  {
   "cell_type": "code",
   "execution_count": 20,
   "metadata": {},
   "outputs": [],
   "source": [
    "# Convert movie review data to a one hot enconded feature matrix\n",
    "\n",
    "tokenizer = Tokenizer(num_words = number_features)\n",
    "\n",
    "features_train = tokenizer.sequences_to_matrix(data_train, mode=\"binary\")\n",
    "features_test = tokenizer.sequences_to_matrix(data_test, mode= \"binary\")"
   ]
  },
  {
   "cell_type": "code",
   "execution_count": 21,
   "metadata": {},
   "outputs": [],
   "source": [
    "# Start NN\n",
    "\n",
    "network = models.Sequential()"
   ]
  },
  {
   "cell_type": "code",
   "execution_count": 22,
   "metadata": {},
   "outputs": [],
   "source": [
    "# Add fully connected layer with a ReLu activation function\n",
    "\n",
    "network.add(layers.Dense(units=16, activation = \"relu\", input_shape = (number_features,)))"
   ]
  },
  {
   "cell_type": "code",
   "execution_count": 23,
   "metadata": {},
   "outputs": [],
   "source": [
    "# Add fully connected layer with a ReLu activation function\n",
    "\n",
    "network.add(layers.Dense(units=16, activation = \"relu\"))"
   ]
  },
  {
   "cell_type": "code",
   "execution_count": 24,
   "metadata": {},
   "outputs": [],
   "source": [
    "# Add fully connected layer with a ReLu activation function\n",
    "\n",
    "network.add(layers.Dense(units=1, activation = \"sigmoid\"))"
   ]
  },
  {
   "cell_type": "code",
   "execution_count": 25,
   "metadata": {},
   "outputs": [],
   "source": [
    "# Compile NN\n",
    "\n",
    "\n",
    "network.compile(loss=\"binary_crossentropy\", optimizer = \"rmsprop\", metrics = [\"accuracy\"])"
   ]
  },
  {
   "cell_type": "code",
   "execution_count": 26,
   "metadata": {},
   "outputs": [],
   "source": [
    "# Set callbacks functions to early stop training and save the model so far\n",
    "\n",
    "callbacks = [EarlyStopping(monitor = \"val_loss\", patience = 2), ModelCheckpoint(filepath=\"best_model.h5\",\n",
    "                                                                                monitor = \"val_loss\",\n",
    "                                                                                save_best_only = True)]"
   ]
  },
  {
   "cell_type": "code",
   "execution_count": 27,
   "metadata": {},
   "outputs": [
    {
     "name": "stdout",
     "output_type": "stream",
     "text": [
      "Train on 25000 samples, validate on 25000 samples\n",
      "Epoch 1/20\n",
      "25000/25000 [==============================] - 2s 60us/step - loss: 0.4109 - accuracy: 0.8204 - val_loss: 0.3429 - val_accuracy: 0.8546\n",
      "Epoch 2/20\n",
      "25000/25000 [==============================] - 1s 52us/step - loss: 0.3234 - accuracy: 0.8653 - val_loss: 0.3293 - val_accuracy: 0.8610\n",
      "Epoch 3/20\n",
      "25000/25000 [==============================] - 1s 49us/step - loss: 0.3132 - accuracy: 0.8686 - val_loss: 0.3371 - val_accuracy: 0.8553\n",
      "Epoch 4/20\n",
      "25000/25000 [==============================] - 1s 52us/step - loss: 0.3062 - accuracy: 0.8707 - val_loss: 0.3279 - val_accuracy: 0.8592\n",
      "Epoch 5/20\n",
      "25000/25000 [==============================] - 1s 51us/step - loss: 0.2966 - accuracy: 0.8754 - val_loss: 0.3397 - val_accuracy: 0.8526\n",
      "Epoch 6/20\n",
      "25000/25000 [==============================] - 1s 49us/step - loss: 0.2874 - accuracy: 0.8792 - val_loss: 0.3358 - val_accuracy: 0.8548\n"
     ]
    }
   ],
   "source": [
    "# Train NN\n",
    "\n",
    "history_ES = network.fit(features_train, target_train, epochs = 20, callbacks = callbacks, verbose = 1, batch_size = 100, validation_data = (features_test, target_test))"
   ]
  },
  {
   "cell_type": "code",
   "execution_count": 28,
   "metadata": {},
   "outputs": [],
   "source": [
    "# Crearting plots\n",
    "\n",
    "training_loss_ES = history_ES.history[\"loss\"]\n",
    "\n",
    "test_loss_ES = history_ES.history[\"val_loss\"]\n",
    "\n",
    "epoch_count = range(1, len(training_loss_ES) + 1)\n"
   ]
  },
  {
   "cell_type": "code",
   "execution_count": 29,
   "metadata": {},
   "outputs": [
    {
     "data": {
      "image/png": "[encoded data removed]",
      "text/plain": [
       "<Figure size 432x288 with 1 Axes>"
      ]
     },
     "metadata": {
      "needs_background": "light"
     },
     "output_type": "display_data"
    }
   ],
   "source": [
    "# Visualize loss history\n",
    "\n",
    "plt.plot(epoch_count, training_loss_ES, \"r--\")\n",
    "plt.plot(epoch_count, test_loss_ES, \"b--\")\n",
    "plt.legend([\"Training Loss\", \"Test_loss\"])\n",
    "plt.xlabel(\"Epoch\")\n",
    "plt.ylabel(\"Loss\")\n",
    "plt.show()"
   ]
  },
  {
   "cell_type": "code",
   "execution_count": 30,
   "metadata": {},
   "outputs": [],
   "source": [
    "# Get training and test accuracy histories \n",
    "\n",
    "training_accuracy = history_ES.history[\"accuracy\"]\n",
    "test_accuracy = history_ES.history[\"val_accuracy\"]"
   ]
  },
  {
   "cell_type": "code",
   "execution_count": 31,
   "metadata": {},
   "outputs": [
    {
     "data": {
      "image/png": "[encoded data removed]",
      "text/plain": [
       "<Figure size 432x288 with 1 Axes>"
      ]
     },
     "metadata": {
      "needs_background": "light"
     },
     "output_type": "display_data"
    }
   ],
   "source": [
    "# Visualize the accuracy history \n",
    "\n",
    "plt.plot(epoch_count, training_accuracy, \"r--\")\n",
    "plt.plot(epoch_count, test_accuracy, \"b--\")\n",
    "plt.legend([\"Training Accuracy\", \"Test Accuracy\"])\n",
    "plt.xlabel(\"Epoch\")\n",
    "plt.ylabel(\"Accuracy Score\")\n",
    "plt.show()"
   ]
  },
  {
   "cell_type": "markdown",
   "metadata": {},
   "source": [
    "# Reducing Overfitting with DropOut\n",
    "\n",
    "Introduce noise to your network's architecture using dropout"
   ]
  },
  {
   "cell_type": "code",
   "execution_count": 32,
   "metadata": {},
   "outputs": [],
   "source": [
    "# Load libraries\n",
    "\n",
    "import numpy as np\n",
    "from keras import models\n",
    "from keras import layers\n",
    "from keras.datasets import imdb\n",
    "import matplotlib.pyplot as plt\n",
    "from keras.preprocessing.text import Tokenizer"
   ]
  },
  {
   "cell_type": "code",
   "execution_count": 33,
   "metadata": {},
   "outputs": [],
   "source": [
    "# Set random seed\n",
    "\n",
    "np.random.seed(0)"
   ]
  },
  {
   "cell_type": "code",
   "execution_count": 34,
   "metadata": {},
   "outputs": [],
   "source": [
    "# Set the number of features we want\n",
    "\n",
    "number_features = 1000"
   ]
  },
  {
   "cell_type": "code",
   "execution_count": 35,
   "metadata": {},
   "outputs": [],
   "source": [
    "# Load Data anda target  vector from movie review data\n",
    "\n",
    "(data_train, target_train),(data_test, target_test) = imdb.load_data(num_words = number_features)"
   ]
  },
  {
   "cell_type": "code",
   "execution_count": 36,
   "metadata": {},
   "outputs": [],
   "source": [
    "# Convert movie review data to a one hot enconded feature matrix\n",
    "\n",
    "tokenizer = Tokenizer(num_words = number_features)\n",
    "\n",
    "features_train = tokenizer.sequences_to_matrix(data_train, mode=\"binary\")\n",
    "features_test = tokenizer.sequences_to_matrix(data_test, mode= \"binary\")"
   ]
  },
  {
   "cell_type": "code",
   "execution_count": 37,
   "metadata": {},
   "outputs": [],
   "source": [
    "# Start NN\n",
    "\n",
    "network = models.Sequential()"
   ]
  },
  {
   "cell_type": "code",
   "execution_count": 38,
   "metadata": {},
   "outputs": [],
   "source": [
    "# Add drop out layer \n",
    "\n",
    "network.add(layers.Dropout(0.2, input_shape = (number_features,)))"
   ]
  },
  {
   "cell_type": "code",
   "execution_count": 39,
   "metadata": {},
   "outputs": [],
   "source": [
    "# Add fully connected layer with a ReLu activation function\n",
    "\n",
    "network.add(layers.Dense(units=16, activation = \"relu\"))"
   ]
  },
  {
   "cell_type": "code",
   "execution_count": 40,
   "metadata": {},
   "outputs": [],
   "source": [
    "# Add drop out layer for previous hidden layer\n",
    "\n",
    "network.add(layers.Dropout(0.5))"
   ]
  },
  {
   "cell_type": "code",
   "execution_count": 41,
   "metadata": {},
   "outputs": [],
   "source": [
    "# Add fully connected layer with a ReLu activation function\n",
    "\n",
    "network.add(layers.Dense(units=16, activation = \"relu\"))"
   ]
  },
  {
   "cell_type": "code",
   "execution_count": 42,
   "metadata": {},
   "outputs": [],
   "source": [
    "# Add drop out layer for previous hidden layer\n",
    "\n",
    "network.add(layers.Dropout(0.5))"
   ]
  },
  {
   "cell_type": "code",
   "execution_count": 43,
   "metadata": {},
   "outputs": [],
   "source": [
    "# Add fully connected layer with a ReLu activation function\n",
    "\n",
    "network.add(layers.Dense(units=1, activation = \"sigmoid\"))"
   ]
  },
  {
   "cell_type": "code",
   "execution_count": 44,
   "metadata": {},
   "outputs": [],
   "source": [
    "# Compile NN\n",
    "\n",
    "\n",
    "network.compile(loss=\"binary_crossentropy\", optimizer = \"rmsprop\", metrics = [\"accuracy\"])"
   ]
  },
  {
   "cell_type": "code",
   "execution_count": 45,
   "metadata": {},
   "outputs": [
    {
     "name": "stdout",
     "output_type": "stream",
     "text": [
      "Train on 25000 samples, validate on 25000 samples\n",
      "Epoch 1/20\n",
      "25000/25000 [==============================] - 2s 89us/step - loss: 0.6296 - accuracy: 0.6317 - val_loss: 0.4753 - val_accuracy: 0.8318\n",
      "Epoch 2/20\n",
      "25000/25000 [==============================] - 1s 58us/step - loss: 0.5069 - accuracy: 0.7572 - val_loss: 0.3847 - val_accuracy: 0.8512\n",
      "Epoch 3/20\n",
      "25000/25000 [==============================] - 1s 56us/step - loss: 0.4555 - accuracy: 0.7991 - val_loss: 0.3588 - val_accuracy: 0.8577\n",
      "Epoch 4/20\n",
      "25000/25000 [==============================] - 2s 67us/step - loss: 0.4290 - accuracy: 0.8155 - val_loss: 0.3462 - val_accuracy: 0.8585\n",
      "Epoch 5/20\n",
      "25000/25000 [==============================] - 1s 59us/step - loss: 0.4200 - accuracy: 0.8209 - val_loss: 0.3509 - val_accuracy: 0.8578\n",
      "Epoch 6/20\n",
      "25000/25000 [==============================] - 2s 76us/step - loss: 0.4132 - accuracy: 0.8243 - val_loss: 0.3330 - val_accuracy: 0.8611\n",
      "Epoch 7/20\n",
      "25000/25000 [==============================] - 2s 67us/step - loss: 0.4055 - accuracy: 0.8309 - val_loss: 0.3368 - val_accuracy: 0.8626\n",
      "Epoch 8/20\n",
      "25000/25000 [==============================] - 2s 64us/step - loss: 0.3998 - accuracy: 0.8323 - val_loss: 0.3409 - val_accuracy: 0.8595\n",
      "Epoch 9/20\n",
      "25000/25000 [==============================] - 1s 60us/step - loss: 0.3991 - accuracy: 0.8314 - val_loss: 0.3386 - val_accuracy: 0.8599\n",
      "Epoch 10/20\n",
      "25000/25000 [==============================] - 2s 77us/step - loss: 0.3993 - accuracy: 0.8336 - val_loss: 0.3362 - val_accuracy: 0.8608\n",
      "Epoch 11/20\n",
      "25000/25000 [==============================] - 2s 60us/step - loss: 0.3958 - accuracy: 0.8362 - val_loss: 0.3361 - val_accuracy: 0.8616\n",
      "Epoch 12/20\n",
      "25000/25000 [==============================] - 3s 103us/step - loss: 0.3950 - accuracy: 0.8363 - val_loss: 0.3317 - val_accuracy: 0.8620\n",
      "Epoch 13/20\n",
      "25000/25000 [==============================] - 2s 82us/step - loss: 0.3887 - accuracy: 0.8396 - val_loss: 0.3374 - val_accuracy: 0.8602\n",
      "Epoch 14/20\n",
      "25000/25000 [==============================] - 2s 85us/step - loss: 0.3906 - accuracy: 0.8368 - val_loss: 0.3350 - val_accuracy: 0.8604\n",
      "Epoch 15/20\n",
      "25000/25000 [==============================] - 2s 62us/step - loss: 0.3946 - accuracy: 0.8344 - val_loss: 0.3333 - val_accuracy: 0.8599\n",
      "Epoch 16/20\n",
      "25000/25000 [==============================] - 1s 59us/step - loss: 0.3802 - accuracy: 0.8412 - val_loss: 0.3297 - val_accuracy: 0.8598\n",
      "Epoch 17/20\n",
      "25000/25000 [==============================] - 2s 63us/step - loss: 0.3821 - accuracy: 0.8382 - val_loss: 0.3312 - val_accuracy: 0.8583\n",
      "Epoch 18/20\n",
      "25000/25000 [==============================] - 2s 84us/step - loss: 0.3809 - accuracy: 0.8407 - val_loss: 0.3288 - val_accuracy: 0.8609\n",
      "Epoch 19/20\n",
      "25000/25000 [==============================] - 2s 64us/step - loss: 0.3826 - accuracy: 0.8410 - val_loss: 0.3323 - val_accuracy: 0.8592\n",
      "Epoch 20/20\n",
      "25000/25000 [==============================] - 2s 64us/step - loss: 0.3790 - accuracy: 0.8384 - val_loss: 0.3322 - val_accuracy: 0.8607\n"
     ]
    }
   ],
   "source": [
    "# Train NN\n",
    "\n",
    "history_drop = network.fit(features_train, target_train, epochs = 20, verbose = 1, batch_size = 100, validation_data = (features_test, target_test))"
   ]
  },
  {
   "cell_type": "code",
   "execution_count": 46,
   "metadata": {},
   "outputs": [],
   "source": [
    "# Crearting plots\n",
    "\n",
    "training_loss_drop = history_drop.history[\"loss\"]\n",
    "\n",
    "test_loss_drop = history_drop.history[\"val_loss\"]\n",
    "\n",
    "epoch_count = range(1, len(training_loss_drop) + 1)\n"
   ]
  },
  {
   "cell_type": "code",
   "execution_count": 47,
   "metadata": {},
   "outputs": [
    {
     "data": {
      "image/png": "[encoded data removed]",
      "text/plain": [
       "<Figure size 432x288 with 1 Axes>"
      ]
     },
     "metadata": {
      "needs_background": "light"
     },
     "output_type": "display_data"
    }
   ],
   "source": [
    "# Visualize loss history\n",
    "\n",
    "plt.plot(epoch_count, training_loss_drop, \"r--\")\n",
    "plt.plot(epoch_count, test_loss_drop, \"b--\")\n",
    "plt.legend([\"Training Loss\", \"Test_loss\"])\n",
    "plt.xlabel(\"Epoch\")\n",
    "plt.ylabel(\"Loss\")\n",
    "plt.show()"
   ]
  },
  {
   "cell_type": "code",
   "execution_count": 48,
   "metadata": {},
   "outputs": [],
   "source": [
    "# Get training and test accuracy histories \n",
    "\n",
    "training_accuracy = history_drop.history[\"accuracy\"]\n",
    "test_accuracy = history_drop.history[\"val_accuracy\"]"
   ]
  },
  {
   "cell_type": "code",
   "execution_count": 49,
   "metadata": {},
   "outputs": [
    {
     "data": {
      "image/png": "[encoded data removed]",
      "text/plain": [
       "<Figure size 432x288 with 1 Axes>"
      ]
     },
     "metadata": {
      "needs_background": "light"
     },
     "output_type": "display_data"
    }
   ],
   "source": [
    "# Visualize the accuracy history \n",
    "\n",
    "plt.plot(epoch_count, training_accuracy, \"r--\")\n",
    "plt.plot(epoch_count, test_accuracy, \"b--\")\n",
    "plt.legend([\"Training Accuracy\", \"Test Accuracy\"])\n",
    "plt.xlabel(\"Epoch\")\n",
    "plt.ylabel(\"Accuracy Score\")\n",
    "plt.show()"
   ]
  }
 ],
 "metadata": {
  "kernelspec": {
   "display_name": "kikenv",
   "language": "python",
   "name": "kikenv"
  },
  "language_info": {
   "codemirror_mode": {
    "name": "ipython",
    "version": 3
   },
   "file_extension": ".py",
   "mimetype": "text/x-python",
   "name": "python",
   "nbconvert_exporter": "python",
   "pygments_lexer": "ipython3",
   "version": "3.6.9"
  }
 },
 "nbformat": 4,
 "nbformat_minor": 2
}
