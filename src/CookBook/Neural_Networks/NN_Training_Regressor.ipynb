{
 "cells": [
  {
   "cell_type": "markdown",
   "metadata": {},
   "source": [
    "# Training a Regressor\n",
    "\n",
    "Use Keras to construct a feedforward NN with a single output unit and no activation function.\n",
    "\n",
    "Create a NN to predict continous values instead of class probabilities.havig no activation function we allow the output to be a continous value."
   ]
  },
  {
   "cell_type": "code",
   "execution_count": 3,
   "metadata": {},
   "outputs": [],
   "source": [
    "# Load libraries \n",
    "\n",
    "import numpy as np\n",
    "from keras import layers\n",
    "from keras import models\n",
    "from sklearn import preprocessing\n",
    "from sklearn.datasets import make_regression\n",
    "from keras.preprocessing.text import Tokenizer\n",
    "from sklearn.model_selection import train_test_split"
   ]
  },
  {
   "cell_type": "code",
   "execution_count": 4,
   "metadata": {},
   "outputs": [],
   "source": [
    "# Creating random seed\n",
    "\n",
    "np.random.seed(0)"
   ]
  },
  {
   "cell_type": "code",
   "execution_count": 5,
   "metadata": {},
   "outputs": [],
   "source": [
    "# Generate features matrix and target vector\n",
    "\n",
    "features, target = make_regression(n_samples = 10000,\n",
    "                                   n_features = 3,\n",
    "                                   n_informative = 3,\n",
    "                                   n_targets = 1,\n",
    "                                   noise = 0.0,\n",
    "                                   random_state = 0)"
   ]
  },
  {
   "cell_type": "markdown",
   "metadata": {},
   "source": [
    "This data is already standardized, in real world it would be mandatory to scale the data."
   ]
  },
  {
   "cell_type": "code",
   "execution_count": 6,
   "metadata": {},
   "outputs": [
    {
     "data": {
      "text/plain": [
       "array([[ 1.29876053, -0.09037128, -0.70380582],\n",
       "       [-0.47120835, -0.43288143, -0.06250804],\n",
       "       [-0.65258817,  2.00808597, -1.09589096],\n",
       "       ...,\n",
       "       [ 1.02504134, -2.02531562, -0.21716545],\n",
       "       [ 0.682429  , -0.87764821, -0.98026165],\n",
       "       [-1.37701857,  2.01124319, -0.23550331]])"
      ]
     },
     "execution_count": 6,
     "metadata": {},
     "output_type": "execute_result"
    }
   ],
   "source": [
    "features"
   ]
  },
  {
   "cell_type": "code",
   "execution_count": 7,
   "metadata": {},
   "outputs": [
    {
     "data": {
      "text/plain": [
       "array([  52.30810863,  -78.98981018,   53.41970504, ..., -106.68269507,\n",
       "        -82.21946021,   49.21147926])"
      ]
     },
     "execution_count": 7,
     "metadata": {},
     "output_type": "execute_result"
    }
   ],
   "source": [
    "target"
   ]
  },
  {
   "cell_type": "code",
   "execution_count": 8,
   "metadata": {},
   "outputs": [],
   "source": [
    "# Divide our data into training and test sets \n",
    "\n",
    "features_train, features_test, target_train, target_test = train_test_split(features, target, test_size = 0.33, random_state = 0)"
   ]
  },
  {
   "cell_type": "code",
   "execution_count": 12,
   "metadata": {},
   "outputs": [
    {
     "data": {
      "text/plain": [
       "(6700, 3)"
      ]
     },
     "execution_count": 12,
     "metadata": {},
     "output_type": "execute_result"
    }
   ],
   "source": [
    "features_train.shape"
   ]
  },
  {
   "cell_type": "code",
   "execution_count": 10,
   "metadata": {},
   "outputs": [],
   "source": [
    "# Start Neural network\n",
    "\n",
    "network = models.Sequential()"
   ]
  },
  {
   "cell_type": "code",
   "execution_count": 11,
   "metadata": {},
   "outputs": [],
   "source": [
    "# Add fully connected layer with ReLU activation function\n",
    "\n",
    "network.add(layers.Dense(units = 32, activation = \"relu\", input_shape = (features_train.shape[1],)))"
   ]
  },
  {
   "cell_type": "code",
   "execution_count": 13,
   "metadata": {},
   "outputs": [],
   "source": [
    "# Add fully connected layer with ReLU activation function\n",
    "\n",
    "network.add(layers.Dense(units = 32, activation = \"relu\"))"
   ]
  },
  {
   "cell_type": "code",
   "execution_count": 14,
   "metadata": {},
   "outputs": [],
   "source": [
    "# Add fully connected layer with NO activation function\n",
    "\n",
    "network.add(layers.Dense(units = 1))"
   ]
  },
  {
   "cell_type": "code",
   "execution_count": 15,
   "metadata": {},
   "outputs": [],
   "source": [
    "# Compile NN\n",
    "\n",
    "network.compile(loss = \"mse\", optimizer = \"RMSprop\", metrics = [\"mse\"])"
   ]
  },
  {
   "cell_type": "code",
   "execution_count": 17,
   "metadata": {},
   "outputs": [
    {
     "name": "stdout",
     "output_type": "stream",
     "text": [
      "WARNING:tensorflow:From /home/kike/Documentos/repos/Data_Science/kikenv/lib/python3.6/site-packages/keras/backend/tensorflow_backend.py:422: The name tf.global_variables is deprecated. Please use tf.compat.v1.global_variables instead.\n",
      "\n",
      "Train on 6700 samples, validate on 3300 samples\n",
      "Epoch 1/20\n",
      "6700/6700 [==============================] - 0s 55us/step - loss: 17306.1837 - mse: 17306.1797 - val_loss: 17643.3894 - val_mse: 17643.3906\n",
      "Epoch 2/20\n",
      "6700/6700 [==============================] - 0s 27us/step - loss: 16438.3378 - mse: 16438.3359 - val_loss: 16405.3187 - val_mse: 16405.3203\n",
      "Epoch 3/20\n",
      "6700/6700 [==============================] - 0s 33us/step - loss: 14833.4595 - mse: 14833.4590 - val_loss: 14326.0805 - val_mse: 14326.0811\n",
      "Epoch 4/20\n",
      "6700/6700 [==============================] - 0s 47us/step - loss: 12444.8770 - mse: 12444.8779 - val_loss: 11422.5544 - val_mse: 11422.5547\n",
      "Epoch 5/20\n",
      "6700/6700 [==============================] - 0s 46us/step - loss: 9276.6831 - mse: 9276.6826 - val_loss: 7908.2119 - val_mse: 7908.2114\n",
      "Epoch 6/20\n",
      "6700/6700 [==============================] - 0s 27us/step - loss: 5942.9902 - mse: 5942.9917 - val_loss: 4529.5157 - val_mse: 4529.5156\n",
      "Epoch 7/20\n",
      "6700/6700 [==============================] - 0s 24us/step - loss: 3004.6747 - mse: 3004.6748 - val_loss: 1987.2244 - val_mse: 1987.2245\n",
      "Epoch 8/20\n",
      "6700/6700 [==============================] - 0s 26us/step - loss: 1210.1355 - mse: 1210.1355 - val_loss: 717.2924 - val_mse: 717.2924\n",
      "Epoch 9/20\n",
      "6700/6700 [==============================] - 0s 43us/step - loss: 474.8057 - mse: 474.8056 - val_loss: 326.1747 - val_mse: 326.1747\n",
      "Epoch 10/20\n",
      "6700/6700 [==============================] - 0s 46us/step - loss: 257.2344 - mse: 257.2344 - val_loss: 206.4477 - val_mse: 206.4477\n",
      "Epoch 11/20\n",
      "6700/6700 [==============================] - 0s 38us/step - loss: 184.2177 - mse: 184.2177 - val_loss: 164.1322 - val_mse: 164.1322\n",
      "Epoch 12/20\n",
      "6700/6700 [==============================] - 0s 48us/step - loss: 145.4306 - mse: 145.4306 - val_loss: 126.1910 - val_mse: 126.1910\n",
      "Epoch 13/20\n",
      "6700/6700 [==============================] - 0s 47us/step - loss: 109.2617 - mse: 109.2617 - val_loss: 90.1504 - val_mse: 90.1504\n",
      "Epoch 14/20\n",
      "6700/6700 [==============================] - 0s 29us/step - loss: 76.6747 - mse: 76.6747 - val_loss: 59.8492 - val_mse: 59.8492\n",
      "Epoch 15/20\n",
      "6700/6700 [==============================] - 0s 38us/step - loss: 48.6929 - mse: 48.6929 - val_loss: 35.8946 - val_mse: 35.8946\n",
      "Epoch 16/20\n",
      "6700/6700 [==============================] - 0s 36us/step - loss: 26.2040 - mse: 26.2040 - val_loss: 16.8847 - val_mse: 16.8847\n",
      "Epoch 17/20\n",
      "6700/6700 [==============================] - 0s 32us/step - loss: 11.2815 - mse: 11.2815 - val_loss: 6.2708 - val_mse: 6.2708\n",
      "Epoch 18/20\n",
      "6700/6700 [==============================] - 0s 32us/step - loss: 4.0626 - mse: 4.0626 - val_loss: 2.7262 - val_mse: 2.7262\n",
      "Epoch 19/20\n",
      "6700/6700 [==============================] - 0s 34us/step - loss: 2.1442 - mse: 2.1442 - val_loss: 1.8110 - val_mse: 1.8110\n",
      "Epoch 20/20\n",
      "6700/6700 [==============================] - 0s 34us/step - loss: 1.4991 - mse: 1.4991 - val_loss: 1.6957 - val_mse: 1.6957\n"
     ]
    }
   ],
   "source": [
    "# Train NN\n",
    "\n",
    "history = network.fit(features_train, target_train, epochs = 20,verbose = 1, batch_size = 100, validation_data = (features_test, target_test))\n",
    "\n"
   ]
  }
 ],
 "metadata": {
  "kernelspec": {
   "display_name": "Kikenv",
   "language": "python",
   "name": "kikenv"
  },
  "language_info": {
   "codemirror_mode": {
    "name": "ipython",
    "version": 3
   },
   "file_extension": ".py",
   "mimetype": "text/x-python",
   "name": "python",
   "nbconvert_exporter": "python",
   "pygments_lexer": "ipython3",
   "version": "3.6.9"
  }
 },
 "nbformat": 4,
 "nbformat_minor": 2
}
