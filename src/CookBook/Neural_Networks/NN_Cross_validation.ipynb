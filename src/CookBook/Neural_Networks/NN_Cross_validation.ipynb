{
 "cells": [
  {
   "cell_type": "markdown",
   "metadata": {},
   "source": [
    "# K-Fold Cross Validating Neural Network\n",
    "\n",
    "Evaluate NN using k-fold Cross-validation\n",
    "\n",
    "\n",
    "Not efficient with large scale data, it would be better to test with part of the training data splitted.\n",
    "\n",
    "Having small data is possible to wrap any neural network and use k-fold cross validation.\n"
   ]
  },
  {
   "cell_type": "code",
   "execution_count": 1,
   "metadata": {},
   "outputs": [
    {
     "name": "stderr",
     "output_type": "stream",
     "text": [
      "Using TensorFlow backend.\n"
     ]
    }
   ],
   "source": [
    "# Load libraries\n",
    "\n",
    "import numpy as np\n",
    "from keras import models\n",
    "from keras import layers\n",
    "from sklearn.model_selection import cross_val_score\n",
    "from sklearn.datasets import make_classification\n",
    "from keras.wrappers.scikit_learn import KerasClassifier"
   ]
  },
  {
   "cell_type": "code",
   "execution_count": 2,
   "metadata": {},
   "outputs": [],
   "source": [
    "# Set random seed\n",
    "\n",
    "np.random.seed(0)"
   ]
  },
  {
   "cell_type": "code",
   "execution_count": 3,
   "metadata": {},
   "outputs": [],
   "source": [
    "# Number of features \n",
    "\n",
    "number_features = 1000"
   ]
  },
  {
   "cell_type": "code",
   "execution_count": 4,
   "metadata": {},
   "outputs": [],
   "source": [
    "#Generate features matrix and target vector\n",
    "\n",
    "features, target = make_classification(n_samples = 10000, n_features = number_features, n_informative = 3, n_redundant = 0, n_classes = 2, weights = [0.5, 0.5], random_state = 0)"
   ]
  },
  {
   "cell_type": "code",
   "execution_count": 8,
   "metadata": {},
   "outputs": [],
   "source": [
    "# Create function returning a compilrf network \n",
    "\n",
    "def create_network():\n",
    "    #Start NN\n",
    "    network=models.Sequential()\n",
    "    # Add fully connected layer with relu\n",
    "    network.add(layers.Dense(units=16, activation = \"relu\", input_shape = (number_features,)))\n",
    "    # Add fully conected layer with relu\n",
    "    network.add(layers.Dense(units=16, activation = \"relu\"))\n",
    "    # Add fully connected layer with sigmoid activation\n",
    "    network.add(layers.Dense(units=1, activation = \"sigmoid\"))\n",
    "    # Compile NN\n",
    "    network.compile(loss= \"binary_crossentropy\", optimizer = \"rmsprop\", metrics = [\"accuracy\"])\n",
    "    return network"
   ]
  },
  {
   "cell_type": "code",
   "execution_count": 9,
   "metadata": {},
   "outputs": [
    {
     "data": {
      "text/plain": [
       "<keras.wrappers.scikit_learn.KerasClassifier at 0x7fa5c5f49c88>"
      ]
     },
     "execution_count": 9,
     "metadata": {},
     "output_type": "execute_result"
    }
   ],
   "source": [
    "# Wrap keras model so it can be used by scikit learn\n",
    "\n",
    "neural_network = KerasClassifier(build_fn = create_network, epochs = 10, batch_size = 100, verbose = 1) \n",
    "neural_network"
   ]
  },
  {
   "cell_type": "code",
   "execution_count": 10,
   "metadata": {},
   "outputs": [
    {
     "name": "stdout",
     "output_type": "stream",
     "text": [
      "Epoch 1/10\n",
      "6666/6666 [==============================] - 0s 67us/step - loss: 0.7294 - accuracy: 0.5225\n",
      "Epoch 2/10\n",
      "6666/6666 [==============================] - 0s 36us/step - loss: 0.6218 - accuracy: 0.6689\n",
      "Epoch 3/10\n",
      "6666/6666 [==============================] - 0s 35us/step - loss: 0.5408 - accuracy: 0.7529\n",
      "Epoch 4/10\n",
      "6666/6666 [==============================] - 0s 32us/step - loss: 0.4557 - accuracy: 0.8107\n",
      "Epoch 5/10\n",
      "6666/6666 [==============================] - 0s 35us/step - loss: 0.3725 - accuracy: 0.8555\n",
      "Epoch 6/10\n",
      "6666/6666 [==============================] - 0s 37us/step - loss: 0.2963 - accuracy: 0.8935\n",
      "Epoch 7/10\n",
      "6666/6666 [==============================] - 0s 38us/step - loss: 0.2293 - accuracy: 0.9296\n",
      "Epoch 8/10\n",
      "6666/6666 [==============================] - 0s 37us/step - loss: 0.1724 - accuracy: 0.9515\n",
      "Epoch 9/10\n",
      "6666/6666 [==============================] - 0s 36us/step - loss: 0.1229 - accuracy: 0.9727\n",
      "Epoch 10/10\n",
      "6666/6666 [==============================] - 0s 42us/step - loss: 0.0843 - accuracy: 0.9860\n",
      "3334/3334 [==============================] - 0s 34us/step\n",
      "Epoch 1/10\n",
      "6667/6667 [==============================] - 0s 63us/step - loss: 0.7048 - accuracy: 0.5259\n",
      "Epoch 2/10\n",
      "6667/6667 [==============================] - 0s 39us/step - loss: 0.6200 - accuracy: 0.6762\n",
      "Epoch 3/10\n",
      "6667/6667 [==============================] - 0s 40us/step - loss: 0.5420 - accuracy: 0.7491\n",
      "Epoch 4/10\n",
      "6667/6667 [==============================] - 0s 50us/step - loss: 0.4589 - accuracy: 0.8020\n",
      "Epoch 5/10\n",
      "6667/6667 [==============================] - 0s 54us/step - loss: 0.3787 - accuracy: 0.8461\n",
      "Epoch 6/10\n",
      "6667/6667 [==============================] - 0s 34us/step - loss: 0.3053 - accuracy: 0.8878\n",
      "Epoch 7/10\n",
      "6667/6667 [==============================] - 0s 36us/step - loss: 0.2387 - accuracy: 0.9225\n",
      "Epoch 8/10\n",
      "6667/6667 [==============================] - 0s 38us/step - loss: 0.1838 - accuracy: 0.9474\n",
      "Epoch 9/10\n",
      "6667/6667 [==============================] - 0s 42us/step - loss: 0.1328 - accuracy: 0.9655\n",
      "Epoch 10/10\n",
      "6667/6667 [==============================] - 0s 37us/step - loss: 0.0929 - accuracy: 0.9790\n",
      "3333/3333 [==============================] - 0s 24us/step\n",
      "Epoch 1/10\n",
      "6667/6667 [==============================] - 1s 85us/step - loss: 0.7232 - accuracy: 0.5023\n",
      "Epoch 2/10\n",
      "6667/6667 [==============================] - 0s 47us/step - loss: 0.6382 - accuracy: 0.6561\n",
      "Epoch 3/10\n",
      "6667/6667 [==============================] - 0s 45us/step - loss: 0.5669 - accuracy: 0.7456\n",
      "Epoch 4/10\n",
      "6667/6667 [==============================] - 0s 38us/step - loss: 0.4871 - accuracy: 0.8022\n",
      "Epoch 5/10\n",
      "6667/6667 [==============================] - 0s 42us/step - loss: 0.4061 - accuracy: 0.8430\n",
      "Epoch 6/10\n",
      "6667/6667 [==============================] - 0s 24us/step - loss: 0.3280 - accuracy: 0.8874\n",
      "Epoch 7/10\n",
      "6667/6667 [==============================] - 0s 48us/step - loss: 0.2585 - accuracy: 0.9192\n",
      "Epoch 8/10\n",
      "6667/6667 [==============================] - 0s 46us/step - loss: 0.1962 - accuracy: 0.9480\n",
      "Epoch 9/10\n",
      "6667/6667 [==============================] - 0s 46us/step - loss: 0.1437 - accuracy: 0.9679\n",
      "Epoch 10/10\n",
      "6667/6667 [==============================] - 0s 45us/step - loss: 0.1027 - accuracy: 0.9810\n",
      "3333/3333 [==============================] - 0s 26us/step\n"
     ]
    },
    {
     "data": {
      "text/plain": [
       "array([0.62207556, 0.63816381, 0.63096309])"
      ]
     },
     "execution_count": 10,
     "metadata": {},
     "output_type": "execute_result"
    }
   ],
   "source": [
    "# Evaluate NN \n",
    "\n",
    "cross_val_score(neural_network, features, target, cv=3)"
   ]
  },
  {
   "cell_type": "code",
   "execution_count": null,
   "metadata": {},
   "outputs": [],
   "source": []
  },
  {
   "cell_type": "code",
   "execution_count": null,
   "metadata": {},
   "outputs": [],
   "source": []
  },
  {
   "cell_type": "code",
   "execution_count": null,
   "metadata": {},
   "outputs": [],
   "source": []
  },
  {
   "cell_type": "code",
   "execution_count": null,
   "metadata": {},
   "outputs": [],
   "source": []
  },
  {
   "cell_type": "code",
   "execution_count": null,
   "metadata": {},
   "outputs": [],
   "source": []
  },
  {
   "cell_type": "code",
   "execution_count": null,
   "metadata": {},
   "outputs": [],
   "source": []
  },
  {
   "cell_type": "code",
   "execution_count": null,
   "metadata": {},
   "outputs": [],
   "source": []
  },
  {
   "cell_type": "code",
   "execution_count": null,
   "metadata": {},
   "outputs": [],
   "source": []
  },
  {
   "cell_type": "code",
   "execution_count": null,
   "metadata": {},
   "outputs": [],
   "source": []
  },
  {
   "cell_type": "code",
   "execution_count": null,
   "metadata": {},
   "outputs": [],
   "source": []
  }
 ],
 "metadata": {
  "kernelspec": {
   "display_name": "kikenv",
   "language": "python",
   "name": "kikenv"
  },
  "language_info": {
   "codemirror_mode": {
    "name": "ipython",
    "version": 3
   },
   "file_extension": ".py",
   "mimetype": "text/x-python",
   "name": "python",
   "nbconvert_exporter": "python",
   "pygments_lexer": "ipython3",
   "version": "3.6.9"
  }
 },
 "nbformat": 4,
 "nbformat_minor": 2
}
