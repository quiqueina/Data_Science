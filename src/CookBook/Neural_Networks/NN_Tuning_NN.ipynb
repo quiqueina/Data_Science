{
 "cells": [
  {
   "cell_type": "markdown",
   "metadata": {},
   "source": [
    "# Tuning Neural Networks\n",
    "\n",
    "Automatically select the best hyperparameters for your NN combining keras and model seelction GridSearchCV from scikit-learn.\n",
    "\n",
    "Use model selection techniques wrapping a NN so it can be used by the scikit-learn AP in order to identify the best hyperparameters options.\n",
    "\n",
    "Grid search can extend the computational cost exponetially. Hyperparameter should be selected carefully.\n",
    "\n",
    "In our solution we will conduct a cross validated grid search over a number of options for the optimization algorithm, number of epochs and batch size."
   ]
  },
  {
   "cell_type": "code",
   "execution_count": 1,
   "metadata": {},
   "outputs": [
    {
     "name": "stderr",
     "output_type": "stream",
     "text": [
      "Using TensorFlow backend.\n"
     ]
    }
   ],
   "source": [
    "# Load libraries\n",
    "\n",
    "import numpy as np\n",
    "from keras import layers\n",
    "from keras import models\n",
    "from sklearn.model_selection import GridSearchCV\n",
    "from sklearn.datasets import make_classification\n",
    "from keras.wrappers.scikit_learn import KerasClassifier"
   ]
  },
  {
   "cell_type": "code",
   "execution_count": 2,
   "metadata": {},
   "outputs": [],
   "source": [
    "# Set random seed\n",
    "\n",
    "np.random.seed(0)"
   ]
  },
  {
   "cell_type": "code",
   "execution_count": 3,
   "metadata": {},
   "outputs": [],
   "source": [
    "# Number features \n",
    "\n",
    "number_features = 100"
   ]
  },
  {
   "cell_type": "code",
   "execution_count": 4,
   "metadata": {},
   "outputs": [],
   "source": [
    "# Generate features matrix and target vector.\n",
    "\n",
    "features, target = make_classification(n_samples = 10000,\n",
    "                                       n_features = number_features,\n",
    "                                       n_informative = 3,\n",
    "                                       n_redundant = 0,\n",
    "                                       n_classes = 2,\n",
    "                                       weights = [0.5, 0.5],\n",
    "                                       random_state = 0) "
   ]
  },
  {
   "cell_type": "code",
   "execution_count": 5,
   "metadata": {},
   "outputs": [],
   "source": [
    "# Create function \n",
    "\n",
    "def NN_creator(optimizer = \"rmsprop\"):\n",
    "    \n",
    "    # Start Neural Network\n",
    "    network = models.Sequential()\n",
    "    # Add fully connected layer with a ReLU activation function.\n",
    "    network.add(layers.Dense(units = 16, activation = \"relu\", input_shape=(number_features,)))\n",
    "    # Add fully connected layer with a ReLU activation function.\n",
    "    network.add(layers.Dense(units = 16, activation = \"relu\"))\n",
    "    # Add fully connected layer with a ReLU activation function.\n",
    "    network.add(layers.Dense(units = 1, activation = \"sigmoid\"))\n",
    "    # Compile NN\n",
    "    network.compile(loss=\"binary_crossentropy\", optimizer = optimizer, metrics = [\"accuracy\"])\n",
    "    \n",
    "    return network"
   ]
  },
  {
   "cell_type": "code",
   "execution_count": 6,
   "metadata": {},
   "outputs": [],
   "source": [
    "# Wrap Keras model so it can be used by scikit-learn\n",
    "\n",
    "neural_network = KerasClassifier(build_fn = NN_creator, verbose = 0)"
   ]
  },
  {
   "cell_type": "code",
   "execution_count": 7,
   "metadata": {},
   "outputs": [],
   "source": [
    "# Create hyperaparameter space\n",
    "\n",
    "epochs = [5, 10]\n",
    "batches = [5, 10, 100]\n",
    "optimizers = [\"rmsprop\", \"adam\"]"
   ]
  },
  {
   "cell_type": "code",
   "execution_count": 8,
   "metadata": {},
   "outputs": [],
   "source": [
    "# Create hyperaparameter options\n",
    "\n",
    "hyperaparameters = dict(optimizer = optimizers, epochs = epochs, batch_size = batches)"
   ]
  },
  {
   "cell_type": "code",
   "execution_count": 9,
   "metadata": {},
   "outputs": [],
   "source": [
    "# Create Grid Search\n",
    "\n",
    "grid = GridSearchCV(estimator = neural_network, param_grid = hyperaparameters)"
   ]
  },
  {
   "cell_type": "code",
   "execution_count": 10,
   "metadata": {},
   "outputs": [],
   "source": [
    "# Fit grid search\n",
    "\n",
    "grid_result = grid.fit(features, target)"
   ]
  },
  {
   "cell_type": "code",
   "execution_count": 11,
   "metadata": {},
   "outputs": [
    {
     "data": {
      "text/plain": [
       "{'batch_size': 10, 'epochs': 5, 'optimizer': 'adam'}"
      ]
     },
     "execution_count": 11,
     "metadata": {},
     "output_type": "execute_result"
    }
   ],
   "source": [
    "# View hyperparameters of best neural network\n",
    "\n",
    "grid_result.best_params_"
   ]
  }
 ],
 "metadata": {
  "kernelspec": {
   "display_name": "kikenv",
   "language": "python",
   "name": "kikenv"
  },
  "language_info": {
   "codemirror_mode": {
    "name": "ipython",
    "version": 3
   },
   "file_extension": ".py",
   "mimetype": "text/x-python",
   "name": "python",
   "nbconvert_exporter": "python",
   "pygments_lexer": "ipython3",
   "version": "3.6.9"
  }
 },
 "nbformat": 4,
 "nbformat_minor": 2
}
