{
 "cells": [
  {
   "cell_type": "markdown",
   "metadata": {},
   "source": [
    "# Visualize Training History.\n",
    "\n",
    "Find the sweet spot in a NN loss and or accuracy score "
   ]
  },
  {
   "cell_type": "code",
   "execution_count": 1,
   "metadata": {},
   "outputs": [
    {
     "name": "stderr",
     "output_type": "stream",
     "text": [
      "Using TensorFlow backend.\n"
     ]
    }
   ],
   "source": [
    "# Load library\n",
    "\n",
    "import numpy as np\n",
    "from keras import models\n",
    "from keras import layers\n",
    "from keras.datasets import imdb\n",
    "import matplotlib.pyplot as plt\n",
    "from keras.preprocessing.text import Tokenizer"
   ]
  },
  {
   "cell_type": "code",
   "execution_count": 2,
   "metadata": {},
   "outputs": [],
   "source": [
    "# Set random seed\n",
    "\n",
    "np.random.seed(0)"
   ]
  },
  {
   "cell_type": "code",
   "execution_count": 3,
   "metadata": {},
   "outputs": [],
   "source": [
    "# Set the number of features we want\n",
    "\n",
    "number_features = 10000\n",
    "\n"
   ]
  },
  {
   "cell_type": "code",
   "execution_count": 4,
   "metadata": {},
   "outputs": [],
   "source": [
    "# Load data and target vector from movie review data\n",
    "\n",
    "(data_train, target_train), (data_test, target_test) = imdb.load_data(num_words = number_features)"
   ]
  },
  {
   "cell_type": "code",
   "execution_count": 5,
   "metadata": {},
   "outputs": [],
   "source": [
    "# Convert movie review data to a one hot encoded feature matrix\n",
    "\n",
    "tokenizer = Tokenizer(num_words = number_features)\n",
    "\n",
    "features_train = tokenizer.sequences_to_matrix(data_train, mode = \"binary\")\n",
    "features_test = tokenizer.sequences_to_matrix(data_test, mode = \"binary\")"
   ]
  },
  {
   "cell_type": "code",
   "execution_count": 6,
   "metadata": {},
   "outputs": [],
   "source": [
    "# Start NN\n",
    "\n",
    "network = models.Sequential()"
   ]
  },
  {
   "cell_type": "code",
   "execution_count": 7,
   "metadata": {},
   "outputs": [],
   "source": [
    "# Add fully connected layer with a ReLU activation fuction.\n",
    "\n",
    "network.add(layers.Dense(units = 16, activation = \"relu\", input_shape = (number_features,)))"
   ]
  },
  {
   "cell_type": "code",
   "execution_count": 8,
   "metadata": {},
   "outputs": [],
   "source": [
    "# Add fully connected layer with a ReLU activation fuction.\n",
    "\n",
    "network.add(layers.Dense(units = 16, activation = \"relu\"))"
   ]
  },
  {
   "cell_type": "code",
   "execution_count": 9,
   "metadata": {},
   "outputs": [],
   "source": [
    "# Add fully connected layer with a ReLU activation fuction.\n",
    "\n",
    "network.add(layers.Dense(units = 1, activation = \"sigmoid\"))"
   ]
  },
  {
   "cell_type": "code",
   "execution_count": 10,
   "metadata": {},
   "outputs": [],
   "source": [
    "# Comile NN\n",
    "\n",
    "network.compile(loss = \"binary_crossentropy\", optimizer = \"rmsprop\", metrics = [\"accuracy\"])"
   ]
  },
  {
   "cell_type": "code",
   "execution_count": 11,
   "metadata": {},
   "outputs": [
    {
     "name": "stdout",
     "output_type": "stream",
     "text": [
      "Train on 25000 samples, validate on 25000 samples\n",
      "Epoch 1/20\n",
      "25000/25000 [==============================] - 5s 191us/step - loss: 0.5262 - accuracy: 0.7634 - val_loss: 0.4053 - val_accuracy: 0.8646\n",
      "Epoch 2/20\n",
      "25000/25000 [==============================] - 3s 139us/step - loss: 0.3221 - accuracy: 0.8953 - val_loss: 0.3212 - val_accuracy: 0.8826\n",
      "Epoch 3/20\n",
      "25000/25000 [==============================] - 3s 139us/step - loss: 0.2482 - accuracy: 0.9175 - val_loss: 0.2905 - val_accuracy: 0.8883\n",
      "Epoch 4/20\n",
      "25000/25000 [==============================] - 4s 140us/step - loss: 0.2013 - accuracy: 0.9302 - val_loss: 0.2832 - val_accuracy: 0.8882\n",
      "Epoch 5/20\n",
      "25000/25000 [==============================] - 4s 142us/step - loss: 0.1752 - accuracy: 0.9391 - val_loss: 0.3642 - val_accuracy: 0.8556\n",
      "Epoch 6/20\n",
      "25000/25000 [==============================] - 4s 141us/step - loss: 0.1595 - accuracy: 0.9455 - val_loss: 0.3012 - val_accuracy: 0.8802\n",
      "Epoch 7/20\n",
      "25000/25000 [==============================] - 4s 160us/step - loss: 0.1358 - accuracy: 0.9564 - val_loss: 0.3116 - val_accuracy: 0.8779\n",
      "Epoch 8/20\n",
      "25000/25000 [==============================] - 3s 139us/step - loss: 0.1229 - accuracy: 0.9600 - val_loss: 0.3236 - val_accuracy: 0.8768\n",
      "Epoch 9/20\n",
      "25000/25000 [==============================] - 3s 136us/step - loss: 0.1113 - accuracy: 0.9636 - val_loss: 0.3494 - val_accuracy: 0.8712\n",
      "Epoch 10/20\n",
      "25000/25000 [==============================] - 4s 140us/step - loss: 0.1011 - accuracy: 0.9667 - val_loss: 0.3789 - val_accuracy: 0.8658\n",
      "Epoch 11/20\n",
      "25000/25000 [==============================] - 4s 141us/step - loss: 0.0914 - accuracy: 0.9721 - val_loss: 0.3657 - val_accuracy: 0.8714\n",
      "Epoch 12/20\n",
      "25000/25000 [==============================] - 4s 143us/step - loss: 0.0770 - accuracy: 0.9770 - val_loss: 0.3863 - val_accuracy: 0.8686\n",
      "Epoch 13/20\n",
      "25000/25000 [==============================] - 3s 138us/step - loss: 0.0724 - accuracy: 0.9791 - val_loss: 0.4054 - val_accuracy: 0.8664\n",
      "Epoch 14/20\n",
      "25000/25000 [==============================] - 4s 144us/step - loss: 0.0630 - accuracy: 0.9827 - val_loss: 0.4270 - val_accuracy: 0.8653\n",
      "Epoch 15/20\n",
      "25000/25000 [==============================] - 4s 144us/step - loss: 0.0643 - accuracy: 0.9806 - val_loss: 0.4587 - val_accuracy: 0.8596\n",
      "Epoch 16/20\n",
      "25000/25000 [==============================] - 4s 165us/step - loss: 0.0486 - accuracy: 0.9876 - val_loss: 0.4899 - val_accuracy: 0.8576\n",
      "Epoch 17/20\n",
      "25000/25000 [==============================] - 4s 145us/step - loss: 0.0473 - accuracy: 0.9871 - val_loss: 0.4871 - val_accuracy: 0.8620\n",
      "Epoch 18/20\n",
      "25000/25000 [==============================] - 3s 139us/step - loss: 0.0433 - accuracy: 0.9886 - val_loss: 0.5081 - val_accuracy: 0.8596\n",
      "Epoch 19/20\n",
      "25000/25000 [==============================] - 4s 141us/step - loss: 0.0378 - accuracy: 0.9900 - val_loss: 0.5243 - val_accuracy: 0.8594\n",
      "Epoch 20/20\n",
      "25000/25000 [==============================] - 4s 148us/step - loss: 0.0299 - accuracy: 0.9943 - val_loss: 0.6184 - val_accuracy: 0.8476\n"
     ]
    }
   ],
   "source": [
    "# Train NN\n",
    "\n",
    "history = network.fit(features_train, target_train, epochs = 20, verbose = 1, batch_size = 1000, validation_data = (features_test, target_test))"
   ]
  },
  {
   "cell_type": "code",
   "execution_count": 12,
   "metadata": {},
   "outputs": [],
   "source": [
    "# Get training and test loss histories\n",
    "\n",
    "training_loss = history.history[\"loss\"]\n",
    "test_loss = history.history[\"val_loss\"]"
   ]
  },
  {
   "cell_type": "code",
   "execution_count": 13,
   "metadata": {},
   "outputs": [],
   "source": [
    "# Create count od the number of epochs\n",
    "\n",
    "epoch_count = range(1, len(training_loss) +1)"
   ]
  },
  {
   "cell_type": "code",
   "execution_count": 14,
   "metadata": {},
   "outputs": [
    {
     "data": {
      "image/png": "[encoded data removed]",
      "text/plain": [
       "<Figure size 432x288 with 1 Axes>"
      ]
     },
     "metadata": {
      "needs_background": "light"
     },
     "output_type": "display_data"
    }
   ],
   "source": [
    "# Visualize loss history\n",
    "\n",
    "plt.plot(epoch_count, training_loss, \"r--\")\n",
    "plt.plot(epoch_count, test_loss, \"b--\")\n",
    "plt.legend([\"Training Loss\", \"Test_loss\"])\n",
    "plt.xlabel(\"Epoch\")\n",
    "plt.ylabel(\"Loss\")\n",
    "plt.show()"
   ]
  },
  {
   "cell_type": "code",
   "execution_count": 15,
   "metadata": {},
   "outputs": [],
   "source": [
    "# Get training and test accuracy histories \n",
    "\n",
    "training_accuracy = history.history[\"accuracy\"]\n",
    "test_accuracy = history.history[\"val_accuracy\"]"
   ]
  },
  {
   "cell_type": "code",
   "execution_count": 20,
   "metadata": {},
   "outputs": [
    {
     "data": {
      "image/png": "[encoded data removed]",
      "text/plain": [
       "<Figure size 432x288 with 1 Axes>"
      ]
     },
     "metadata": {
      "needs_background": "light"
     },
     "output_type": "display_data"
    }
   ],
   "source": [
    "# Visualize the accuracy history \n",
    "\n",
    "plt.plot(epoch_count, training_accuracy, \"r--\")\n",
    "plt.plot(epoch_count, test_accuracy, \"b--\")\n",
    "plt.legend([\"Training Accuracy\", \"Test Accuracy\"])\n",
    "plt.xlabel(\"Epoch\")\n",
    "plt.ylabel(\"Accuracy Score\")\n",
    "plt.show()"
   ]
  },
  {
   "cell_type": "markdown",
   "metadata": {},
   "source": [
    "# Discussion\n",
    "\n",
    "When our NN is new it will have a poor performance. As the NN learn from the train data the model's error on both the training and test set will tend to increase.\n",
    "\n",
    "However, at a certain point the NN start to memorizing the training data and overfits.\n",
    "\n",
    "This happens when the training error decrease while the best error will start increasing.\n",
    "\n",
    "In many cases there is a SWEET SPOT where the test error (error we mainly care about) is at its lowest point.\n",
    "\n",
    "Note that the test error is lowest around epoch 5. After this point, the training loss continue to increase while the test loss starts increasing. At this point onward, the model is overfitting\n",
    "\n"
   ]
  },
  {
   "cell_type": "code",
   "execution_count": null,
   "metadata": {},
   "outputs": [],
   "source": []
  }
 ],
 "metadata": {
  "kernelspec": {
   "display_name": "kikenv",
   "language": "python",
   "name": "kikenv"
  },
  "language_info": {
   "codemirror_mode": {
    "name": "ipython",
    "version": 3
   },
   "file_extension": ".py",
   "mimetype": "text/x-python",
   "name": "python",
   "nbconvert_exporter": "python",
   "pygments_lexer": "ipython3",
   "version": "3.6.9"
  }
 },
 "nbformat": 4,
 "nbformat_minor": 2
}
