{
 "cells": [
  {
   "cell_type": "markdown",
   "metadata": {},
   "source": [
    "# Visualize Training History.\n",
    "\n",
    "Find the sweet spot in a NN loss and or accuracy score "
   ]
  },
  {
   "cell_type": "code",
   "execution_count": 2,
   "metadata": {},
   "outputs": [],
   "source": [
    "# Load library\n",
    "\n",
    "import numpy as np\n",
    "from keras import models\n",
    "from keras import layers\n",
    "from keras.datasets import imdb\n",
    "import matplotlib.pyplot as plt\n",
    "from keras.preprocessing.text import Tokenizer"
   ]
  },
  {
   "cell_type": "code",
   "execution_count": 3,
   "metadata": {},
   "outputs": [],
   "source": [
    "# Set random seed\n",
    "\n",
    "np.random.seed(0)"
   ]
  },
  {
   "cell_type": "code",
   "execution_count": 4,
   "metadata": {},
   "outputs": [],
   "source": [
    "# Set the number of features we want\n",
    "\n",
    "number_features = 10000\n",
    "\n"
   ]
  },
  {
   "cell_type": "code",
   "execution_count": 5,
   "metadata": {},
   "outputs": [],
   "source": [
    "# Load data and target vector from movie review data\n",
    "\n",
    "(data_train, target_train), (data_test, target_test) = imdb.load_data(num_words = number_features)"
   ]
  },
  {
   "cell_type": "code",
   "execution_count": 14,
   "metadata": {},
   "outputs": [],
   "source": [
    "# Convert movie review data to a one hot encoded feature matrix\n",
    "\n",
    "tokenizer = Tokenizer(num_words = number_features)\n",
    "\n",
    "features_train = tokenizer.sequences_to_matrix(data_train, mode = \"binary\")\n",
    "features_test = tokenizer.sequences_to_matrix(data_test, mode = \"binary\")"
   ]
  },
  {
   "cell_type": "code",
   "execution_count": 15,
   "metadata": {},
   "outputs": [],
   "source": [
    "# Start NN\n",
    "\n",
    "network = models.Sequential()"
   ]
  },
  {
   "cell_type": "code",
   "execution_count": 16,
   "metadata": {},
   "outputs": [],
   "source": [
    "# Add fully connected layer with a ReLU activation fuction.\n",
    "\n",
    "network.add(layers.Dense(units = 16, activation = \"relu\", input_shape = (number_features,)))"
   ]
  },
  {
   "cell_type": "code",
   "execution_count": 17,
   "metadata": {},
   "outputs": [],
   "source": [
    "# Add fully connected layer with a ReLU activation fuction.\n",
    "\n",
    "network.add(layers.Dense(units = 16, activation = \"relu\"))"
   ]
  },
  {
   "cell_type": "code",
   "execution_count": 18,
   "metadata": {},
   "outputs": [],
   "source": [
    "# Add fully connected layer with a ReLU activation fuction.\n",
    "\n",
    "network.add(layers.Dense(units = 1, activation = \"sigmoid\"))"
   ]
  },
  {
   "cell_type": "code",
   "execution_count": 19,
   "metadata": {},
   "outputs": [],
   "source": [
    "# Comile NN\n",
    "\n",
    "network.compile(loss = \"binary_crossentropy\", optimizer = \"rmsprop\", metrics = [\"accuracy\"])"
   ]
  },
  {
   "cell_type": "code",
   "execution_count": 20,
   "metadata": {},
   "outputs": [
    {
     "name": "stdout",
     "output_type": "stream",
     "text": [
      "WARNING:tensorflow:From /home/kike/Documentos/repos/Data_Science/kikenv/lib/python3.6/site-packages/keras/backend/tensorflow_backend.py:422: The name tf.global_variables is deprecated. Please use tf.compat.v1.global_variables instead.\n",
      "\n",
      "Train on 25000 samples, validate on 25000 samples\n",
      "Epoch 1/20\n",
      "25000/25000 [==============================] - 7s 272us/step - loss: 0.5116 - accuracy: 0.7882 - val_loss: 0.4054 - val_accuracy: 0.8609\n",
      "Epoch 2/20\n",
      "25000/25000 [==============================] - 4s 147us/step - loss: 0.3216 - accuracy: 0.8940 - val_loss: 0.3208 - val_accuracy: 0.8838\n",
      "Epoch 3/20\n",
      "25000/25000 [==============================] - 3s 135us/step - loss: 0.2456 - accuracy: 0.9199 - val_loss: 0.3110 - val_accuracy: 0.8752\n",
      "Epoch 4/20\n",
      "25000/25000 [==============================] - 3s 140us/step - loss: 0.2046 - accuracy: 0.9303 - val_loss: 0.3050 - val_accuracy: 0.8764\n",
      "Epoch 5/20\n",
      "25000/25000 [==============================] - 3s 132us/step - loss: 0.1760 - accuracy: 0.9408 - val_loss: 0.3039 - val_accuracy: 0.8788\n",
      "Epoch 6/20\n",
      "25000/25000 [==============================] - 3s 128us/step - loss: 0.1549 - accuracy: 0.9468 - val_loss: 0.3278 - val_accuracy: 0.8694\n",
      "Epoch 7/20\n",
      "25000/25000 [==============================] - 3s 128us/step - loss: 0.1367 - accuracy: 0.9543 - val_loss: 0.3058 - val_accuracy: 0.8806\n",
      "Epoch 8/20\n",
      "25000/25000 [==============================] - 3s 130us/step - loss: 0.1216 - accuracy: 0.9607 - val_loss: 0.3390 - val_accuracy: 0.8722\n",
      "Epoch 9/20\n",
      "25000/25000 [==============================] - 4s 159us/step - loss: 0.1111 - accuracy: 0.9645 - val_loss: 0.3342 - val_accuracy: 0.8759\n",
      "Epoch 10/20\n",
      "25000/25000 [==============================] - 3s 137us/step - loss: 0.1014 - accuracy: 0.9678 - val_loss: 0.3495 - val_accuracy: 0.8734\n",
      "Epoch 11/20\n",
      "25000/25000 [==============================] - 3s 136us/step - loss: 0.0892 - accuracy: 0.9724 - val_loss: 0.3678 - val_accuracy: 0.8717\n",
      "Epoch 12/20\n",
      "25000/25000 [==============================] - 4s 147us/step - loss: 0.0800 - accuracy: 0.9763 - val_loss: 0.3870 - val_accuracy: 0.8686\n",
      "Epoch 13/20\n",
      "25000/25000 [==============================] - 3s 134us/step - loss: 0.0696 - accuracy: 0.9808 - val_loss: 0.4004 - val_accuracy: 0.8677\n",
      "Epoch 14/20\n",
      "25000/25000 [==============================] - 3s 132us/step - loss: 0.0649 - accuracy: 0.9811 - val_loss: 0.4666 - val_accuracy: 0.8542\n",
      "Epoch 15/20\n",
      "25000/25000 [==============================] - 3s 134us/step - loss: 0.0561 - accuracy: 0.9854 - val_loss: 0.4416 - val_accuracy: 0.8640\n",
      "Epoch 16/20\n",
      "25000/25000 [==============================] - 3s 140us/step - loss: 0.0499 - accuracy: 0.9872 - val_loss: 0.4933 - val_accuracy: 0.8555\n",
      "Epoch 17/20\n",
      "25000/25000 [==============================] - 3s 139us/step - loss: 0.0430 - accuracy: 0.9903 - val_loss: 0.4828 - val_accuracy: 0.8620\n",
      "Epoch 18/20\n",
      "25000/25000 [==============================] - 3s 137us/step - loss: 0.0420 - accuracy: 0.9886 - val_loss: 0.5057 - val_accuracy: 0.8604\n",
      "Epoch 19/20\n",
      "25000/25000 [==============================] - 4s 146us/step - loss: 0.0350 - accuracy: 0.9911 - val_loss: 0.5278 - val_accuracy: 0.8583\n",
      "Epoch 20/20\n",
      "25000/25000 [==============================] - 4s 141us/step - loss: 0.0304 - accuracy: 0.9930 - val_loss: 0.5990 - val_accuracy: 0.8540\n"
     ]
    }
   ],
   "source": [
    "# Train NN\n",
    "\n",
    "history = network.fit(features_train, target_train, epochs = 20, verbose = 1, batch_size = 1000, validation_data = (features_test, target_test))"
   ]
  },
  {
   "cell_type": "code",
   "execution_count": 26,
   "metadata": {},
   "outputs": [],
   "source": [
    "# Get training and test loss histories\n",
    "\n",
    "training_loss = history.history[\"loss\"]\n",
    "test_loss = history.history[\"val_loss\"]"
   ]
  },
  {
   "cell_type": "code",
   "execution_count": 27,
   "metadata": {},
   "outputs": [],
   "source": [
    "# Create count od the number of epochs\n",
    "\n",
    "epoch_count = range(1, len(training_loss) +1)"
   ]
  },
  {
   "cell_type": "code",
   "execution_count": 28,
   "metadata": {},
   "outputs": [
    {
     "data": {
      "image/png": "[encoded data removed]",
      "text/plain": [
       "<Figure size 432x288 with 1 Axes>"
      ]
     },
     "metadata": {
      "needs_background": "light"
     },
     "output_type": "display_data"
    }
   ],
   "source": [
    "# Visualize loss history\n",
    "\n",
    "plt.plot(epoch_count, training_loss, \"r--\")\n",
    "plt.plot(epoch_count, test_loss, \"b--\")\n",
    "plt.legend([\"Training Loss\", \"Test_loss\"])\n",
    "plt.xlabel(\"Epoch\")\n",
    "plt.ylabel(\"Loss\")\n",
    "plt.show()"
   ]
  },
  {
   "cell_type": "code",
   "execution_count": 31,
   "metadata": {},
   "outputs": [],
   "source": [
    "# Get training and test accuracy histories \n",
    "\n",
    "training_accuracy = history.history[\"accuracy\"]\n",
    "test_accuracy = history.history[\"val_accuracy\"]"
   ]
  },
  {
   "cell_type": "code",
   "execution_count": 32,
   "metadata": {},
   "outputs": [
    {
     "data": {
      "image/png": "[encoded data removed]",
      "text/plain": [
       "<Figure size 432x288 with 1 Axes>"
      ]
     },
     "metadata": {
      "needs_background": "light"
     },
     "output_type": "display_data"
    }
   ],
   "source": [
    "# Visualize the accuracy history \n",
    "\n",
    "plt.plot(epoch_count, training_accuracy, \"r--\")\n",
    "plt.plot(epoch_count, test_accuracy, \"b--\")\n",
    "\n",
    "plt.legend([\"Training Accuracy\", \"Test Accuracy\"])\n",
    "plt.xlabel(\"Epoch\")\n",
    "plt.ylabel(\"Accuracy Score\")\n",
    "plt.show()"
   ]
  },
  {
   "cell_type": "code",
   "execution_count": null,
   "metadata": {},
   "outputs": [],
   "source": []
  },
  {
   "cell_type": "code",
   "execution_count": null,
   "metadata": {},
   "outputs": [],
   "source": []
  },
  {
   "cell_type": "code",
   "execution_count": null,
   "metadata": {},
   "outputs": [],
   "source": []
  },
  {
   "cell_type": "code",
   "execution_count": null,
   "metadata": {},
   "outputs": [],
   "source": []
  },
  {
   "cell_type": "code",
   "execution_count": null,
   "metadata": {},
   "outputs": [],
   "source": []
  },
  {
   "cell_type": "code",
   "execution_count": null,
   "metadata": {},
   "outputs": [],
   "source": []
  },
  {
   "cell_type": "code",
   "execution_count": null,
   "metadata": {},
   "outputs": [],
   "source": []
  },
  {
   "cell_type": "code",
   "execution_count": null,
   "metadata": {},
   "outputs": [],
   "source": []
  },
  {
   "cell_type": "code",
   "execution_count": null,
   "metadata": {},
   "outputs": [],
   "source": []
  },
  {
   "cell_type": "code",
   "execution_count": null,
   "metadata": {},
   "outputs": [],
   "source": []
  },
  {
   "cell_type": "code",
   "execution_count": null,
   "metadata": {},
   "outputs": [],
   "source": []
  },
  {
   "cell_type": "code",
   "execution_count": null,
   "metadata": {},
   "outputs": [],
   "source": []
  },
  {
   "cell_type": "code",
   "execution_count": null,
   "metadata": {},
   "outputs": [],
   "source": []
  },
  {
   "cell_type": "code",
   "execution_count": null,
   "metadata": {},
   "outputs": [],
   "source": []
  }
 ],
 "metadata": {
  "kernelspec": {
   "display_name": "Kikenv",
   "language": "python",
   "name": "kikenv"
  },
  "language_info": {
   "codemirror_mode": {
    "name": "ipython",
    "version": 3
   },
   "file_extension": ".py",
   "mimetype": "text/x-python",
   "name": "python",
   "nbconvert_exporter": "python",
   "pygments_lexer": "ipython3",
   "version": "3.6.9"
  }
 },
 "nbformat": 4,
 "nbformat_minor": 2
}
