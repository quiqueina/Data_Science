{
 "cells": [
  {
   "cell_type": "markdown",
   "metadata": {},
   "source": [
    "# Evaluating Clustering Models\n",
    "\n",
    "You have used an unsupervised learning algorithm to cluster your data and we want to calculate how well it works.\n",
    "\n",
    "Supervosed model evaluation compares predictions with the correspondent true values in the target vector. Usually we don't have a taregt vector, but it is possible to exploit performance information by evaluating the natre of the clusters themself.\n",
    "\n",
    "GOOD CLUSTER == Very small distanes between observations in the same cluster (dense clusters). \n",
    "                Large distance between different clusters. \n",
    "\n",
    "### Silhouette\n",
    "\n",
    "Silhouette = (bi-ai) / max(ai, bi)\n",
    "\n",
    "ai = Mean distance between i and all observations of the same class\n",
    "\n",
    "bi = mean distance between i and all observations from the closest cluster of a different class.\n",
    "\n",
    "The value returned by silhouette_score is the mean silhouette coefficient for all observations. Range (-1, 1) Being 1 well separated clusters.\n",
    "\n",
    "\n",
    "Evaluate using silhouette coeffiecients, which measure the quality of the clusters:"
   ]
  },
  {
   "cell_type": "code",
   "execution_count": 11,
   "metadata": {},
   "outputs": [],
   "source": [
    "# Load libraries\n",
    "\n",
    "import numpy as np\n",
    "from sklearn import datasets\n",
    "from sklearn.cluster import KMeans\n",
    "from sklearn.datasets import make_blobs     # Generate isotropic Gaussian blobs for clustering. ( isotropic == Variables are independent)\n",
    "from sklearn.metrics import silhouette_score"
   ]
  },
  {
   "cell_type": "code",
   "execution_count": 12,
   "metadata": {},
   "outputs": [],
   "source": [
    "# Generate Feature matrix\n",
    "\n",
    "features, _ = make_blobs(n_samples = 1000,\n",
    "                         n_features = 10,\n",
    "                         centers = 2,\n",
    "                         cluster_std = 0.5,\n",
    "                         shuffle = True, \n",
    "                         random_state = 1)"
   ]
  },
  {
   "cell_type": "code",
   "execution_count": 20,
   "metadata": {},
   "outputs": [],
   "source": [
    "# Cluster Data using Kmeans to predict classes\n",
    "\n",
    "model = KMeans(n_clusters = 2, random_state = 1).fit(features)"
   ]
  },
  {
   "cell_type": "code",
   "execution_count": 30,
   "metadata": {},
   "outputs": [],
   "source": [
    "# Get predicted classes\n",
    "\n",
    "target_predicted = model.labels_"
   ]
  },
  {
   "cell_type": "code",
   "execution_count": 29,
   "metadata": {},
   "outputs": [
    {
     "data": {
      "text/plain": [
       "0.8916265564072142"
      ]
     },
     "execution_count": 29,
     "metadata": {},
     "output_type": "execute_result"
    }
   ],
   "source": [
    "# Evaluate model \n",
    "\n",
    "silhouette_score(features, target_predicted)"
   ]
  }
 ],
 "metadata": {
  "kernelspec": {
   "display_name": "Kikenv",
   "language": "python",
   "name": "kikenv"
  },
  "language_info": {
   "codemirror_mode": {
    "name": "ipython",
    "version": 3
   },
   "file_extension": ".py",
   "mimetype": "text/x-python",
   "name": "python",
   "nbconvert_exporter": "python",
   "pygments_lexer": "ipython3",
   "version": "3.6.9"
  }
 },
 "nbformat": 4,
 "nbformat_minor": 2
}
