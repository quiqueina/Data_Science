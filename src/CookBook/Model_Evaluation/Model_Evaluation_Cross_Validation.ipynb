{
 "cells": [
  {
   "cell_type": "markdown",
   "metadata": {},
   "source": [
    "# Model Evaluation\n",
    "Strategies for evaluating the quality of the model created through learning algorithms.\n",
    "The main idea is : Not to train and test with the same data, the real meaning of having an useful and robust model is to see how it behaves in data it has never seen before.\n",
    "\n",
    "How well models are able to make predictions from data they have never seen before.\n",
    "\n",
    "Solution : Split up the data in 80% training and 20% test. \n",
    "Weaknesses: \n",
    "\n",
    "1-. The performance of the model can be hightly dependent on which few observations were selected for the test set.\n",
    "\n",
    "2-. The model is not training with all the data and it is not being evaluated on all available data."
   ]
  },
  {
   "cell_type": "markdown",
   "metadata": {},
   "source": [
    "K-Fold Cross Validation (KFCV): We split the data into k parts called folds. The model is trained using k-1 folds and the last fold is used as test set. This is repeated K times using a different fold.\n",
    "\n",
    "The performance of the model for each of the k iterations is then averaged to produce an overall measurement. "
   ]
  },
  {
   "cell_type": "markdown",
   "metadata": {},
   "source": [
    "## Cross Validating Models\n",
    "Check how well oiur model works.\n"
   ]
  },
  {
   "cell_type": "code",
   "execution_count": 31,
   "metadata": {},
   "outputs": [],
   "source": [
    "# Load libraries\n",
    "\n",
    "from sklearn import datasets\n",
    "from sklearn import metrics\n",
    "from sklearn.model_selection import KFold, cross_val_score\n",
    "from sklearn.pipeline import make_pipeline\n",
    "from sklearn.linear_model import LogisticRegression\n",
    "from sklearn.preprocessing import StandardScaler"
   ]
  },
  {
   "cell_type": "code",
   "execution_count": 32,
   "metadata": {},
   "outputs": [],
   "source": [
    "# Load data\n",
    "\n",
    "digits = datasets.load_digits()"
   ]
  },
  {
   "cell_type": "code",
   "execution_count": 33,
   "metadata": {},
   "outputs": [],
   "source": [
    "# Create Feature Matrix\n",
    "\n",
    "features = digits.data"
   ]
  },
  {
   "cell_type": "code",
   "execution_count": 34,
   "metadata": {},
   "outputs": [],
   "source": [
    "# Create target vector \n",
    "\n",
    "target = digits.target"
   ]
  },
  {
   "cell_type": "code",
   "execution_count": 35,
   "metadata": {},
   "outputs": [],
   "source": [
    "# Create a Standardizer\n",
    "\n",
    "standardizer = StandardScaler()"
   ]
  },
  {
   "cell_type": "code",
   "execution_count": 36,
   "metadata": {},
   "outputs": [],
   "source": [
    "# Create Logistic Regression object\n",
    "\n",
    "logit = LogisticRegression()"
   ]
  },
  {
   "cell_type": "code",
   "execution_count": 37,
   "metadata": {},
   "outputs": [],
   "source": [
    "# Create a pipeline that standardize, then run logistic regression\n",
    "\n",
    "pipeline  = make_pipeline(standardizer, logit)"
   ]
  },
  {
   "cell_type": "code",
   "execution_count": 38,
   "metadata": {},
   "outputs": [],
   "source": [
    "# Create K-Fold cross-validation \n",
    "\n",
    "kf = KFold(n_splits = 10, shuffle = True, random_state = 1) "
   ]
  },
  {
   "cell_type": "code",
   "execution_count": 39,
   "metadata": {},
   "outputs": [],
   "source": [
    "# Conduct K-Fold cross-validation\n",
    "\n",
    "cv_results = cross_val_score(pipeline, # Pipeline\n",
    "                             features, # Feature Matrix\n",
    "                             target,   # Target Vector\n",
    "                             cv = kf,  # Cross Validation Technique\n",
    "                             scoring = \"accuracy\", # Loss function\n",
    "                             n_jobs = -1) # use all CPU scores\n"
   ]
  },
  {
   "cell_type": "code",
   "execution_count": 40,
   "metadata": {},
   "outputs": [
    {
     "data": {
      "text/plain": [
       "0.9693916821849783"
      ]
     },
     "execution_count": 40,
     "metadata": {},
     "output_type": "execute_result"
    }
   ],
   "source": [
    "# Calculate Mean\n",
    "\n",
    "cv_results.mean()"
   ]
  },
  {
   "cell_type": "code",
   "execution_count": 41,
   "metadata": {},
   "outputs": [
    {
     "data": {
      "text/plain": [
       "array([0.97777778, 0.98888889, 0.96111111, 0.94444444, 0.97777778,\n",
       "       0.98333333, 0.95555556, 0.98882682, 0.97765363, 0.93854749])"
      ]
     },
     "execution_count": 41,
     "metadata": {},
     "output_type": "execute_result"
    }
   ],
   "source": [
    "# Show results for 10 folds.\n",
    "cv_results"
   ]
  },
  {
   "cell_type": "markdown",
   "metadata": {},
   "source": [
    "#### Points to consider when using KFCV\n",
    "\n",
    "1-. It assumes data is Independent Identically Distributed (IID). If data is IDD shuffle observations would be a good idea. (shuffle = True)\n",
    "\n",
    "2-. When using KFCV to evaluate a classifier it is beneficial to have folds containing roughly the same percentage of observations from each od the different target classes. (Stratified K-Fold). (i.e., 80% men and 20% women , on each fold mantain 80-20 observations) \n",
    "\n",
    "3-. Standardizer: Fit our standardization then apply transformation to both, train and test\n",
    "\n"
   ]
  },
  {
   "cell_type": "code",
   "execution_count": 42,
   "metadata": {},
   "outputs": [],
   "source": [
    "# Import libraries\n",
    "\n",
    "from sklearn.model_selection import train_test_split"
   ]
  },
  {
   "cell_type": "code",
   "execution_count": 44,
   "metadata": {},
   "outputs": [],
   "source": [
    "# Create training and test sets\n",
    "\n",
    "features_train, features_test, target_train, target_test = train_test_split(features,target,test_size = 0.1, random_state = 1)"
   ]
  },
  {
   "cell_type": "code",
   "execution_count": 46,
   "metadata": {},
   "outputs": [
    {
     "data": {
      "text/plain": [
       "StandardScaler(copy=True, with_mean=True, with_std=True)"
      ]
     },
     "execution_count": 46,
     "metadata": {},
     "output_type": "execute_result"
    }
   ],
   "source": [
    "# Fit standardizer to training set\n",
    "\n",
    "standardizer.fit(features_train)"
   ]
  },
  {
   "cell_type": "markdown",
   "metadata": {},
   "source": [
    "If we fit both, our preprocessor using observations from training and test sets some information leaks in our training."
   ]
  },
  {
   "cell_type": "code",
   "execution_count": 48,
   "metadata": {},
   "outputs": [],
   "source": [
    "# Apply to both training and test set\n",
    "\n",
    "features_train_std = standardizer.transform(features_train)\n",
    "features_test_std = standardizer.transform(features_test)"
   ]
  },
  {
   "cell_type": "code",
   "execution_count": 49,
   "metadata": {},
   "outputs": [],
   "source": [
    "# Pipeline to preprocess data and then train a model \n",
    "\n",
    "pipeline = make_pipeline(standardizer, logit)"
   ]
  },
  {
   "cell_type": "code",
   "execution_count": 50,
   "metadata": {},
   "outputs": [],
   "source": [
    "# Do K-Fold Cross Validation (KFCV)\n",
    "\n",
    "cv_results = cross_val_score(pipeline, # Pipeline\n",
    "                             features, # Feature Matrix\n",
    "                             target,   # Target Vector\n",
    "                             cv = kf,  # Cross Validation Technique\n",
    "                             scoring = \"accuracy\", # Loss function\n",
    "                             n_jobs = -1) # use all CPU scores\n"
   ]
  },
  {
   "cell_type": "code",
   "execution_count": null,
   "metadata": {},
   "outputs": [],
   "source": []
  },
  {
   "cell_type": "code",
   "execution_count": null,
   "metadata": {},
   "outputs": [],
   "source": []
  },
  {
   "cell_type": "code",
   "execution_count": null,
   "metadata": {},
   "outputs": [],
   "source": []
  },
  {
   "cell_type": "code",
   "execution_count": null,
   "metadata": {},
   "outputs": [],
   "source": []
  },
  {
   "cell_type": "code",
   "execution_count": null,
   "metadata": {},
   "outputs": [],
   "source": []
  }
 ],
 "metadata": {
  "kernelspec": {
   "display_name": "Kikenv",
   "language": "python",
   "name": "kikenv"
  },
  "language_info": {
   "codemirror_mode": {
    "name": "ipython",
    "version": 3
   },
   "file_extension": ".py",
   "mimetype": "text/x-python",
   "name": "python",
   "nbconvert_exporter": "python",
   "pygments_lexer": "ipython3",
   "version": "3.6.9"
  }
 },
 "nbformat": 4,
 "nbformat_minor": 2
}
