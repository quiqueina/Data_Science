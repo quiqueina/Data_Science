{
 "cells": [
  {
   "cell_type": "markdown",
   "metadata": {},
   "source": [
    "# Evaluating Binary Classifier Thresholds\n",
    "\n",
    "Evaluate a binary classifier various probability threshold.\n",
    "\n",
    "The Receiving Operating Characteristic (ROC) curve is a common method for evaluating the quality of a binary classifier.\n",
    "\n",
    "ROC compares the presence of true positives and false positives at every probability threshold. (The probability at which an observation is predected to be a class).\n",
    "We can se how the model perform by plotting the ROC Curve.\n",
    "\n",
    "The better the model the closer it is to the solid line."
   ]
  },
  {
   "cell_type": "markdown",
   "metadata": {},
   "source": [
    " ROC Curve to caculate the TP and FP at each threshold and plotting them:"
   ]
  },
  {
   "cell_type": "code",
   "execution_count": 1,
   "metadata": {},
   "outputs": [],
   "source": [
    "# Load Libraries. \n",
    "\n",
    "import matplotlib.pyplot as plt\n",
    "from sklearn.datasets import make_classification\n",
    "from sklearn.linear_model import LogisticRegression\n",
    "from sklearn.metrics import roc_curve, roc_auc_score\n",
    "from sklearn.model_selection import train_test_split"
   ]
  },
  {
   "cell_type": "code",
   "execution_count": 2,
   "metadata": {},
   "outputs": [],
   "source": [
    "# Create feature matrix and target vector\n",
    "\n",
    "features, target = make_classification(n_samples= 10000,\n",
    "                                       n_features = 10,\n",
    "                                       n_classes = 2,\n",
    "                                       n_informative = 3,\n",
    "                                       random_state =3)"
   ]
  },
  {
   "cell_type": "code",
   "execution_count": 3,
   "metadata": {},
   "outputs": [],
   "source": [
    "# Split into training and test sets\n",
    "\n",
    "features_train, features_test, target_train, target_test = train_test_split(features, target, test_size = 0.1, random_state = 1)"
   ]
  },
  {
   "cell_type": "code",
   "execution_count": 4,
   "metadata": {},
   "outputs": [],
   "source": [
    "# Create classifier\n",
    "\n",
    "logit = LogisticRegression()"
   ]
  },
  {
   "cell_type": "code",
   "execution_count": 5,
   "metadata": {},
   "outputs": [
    {
     "data": {
      "text/plain": [
       "LogisticRegression(C=1.0, class_weight=None, dual=False, fit_intercept=True,\n",
       "                   intercept_scaling=1, l1_ratio=None, max_iter=100,\n",
       "                   multi_class='auto', n_jobs=None, penalty='l2',\n",
       "                   random_state=None, solver='lbfgs', tol=0.0001, verbose=0,\n",
       "                   warm_start=False)"
      ]
     },
     "execution_count": 5,
     "metadata": {},
     "output_type": "execute_result"
    }
   ],
   "source": [
    "# Train Model\n",
    "\n",
    "logit.fit(features_train, target_train)"
   ]
  },
  {
   "cell_type": "code",
   "execution_count": 6,
   "metadata": {},
   "outputs": [],
   "source": [
    "# Get predicted Probabilities\n",
    "\n",
    "target_probabilities = logit.predict_proba(features_test)[:,1]"
   ]
  },
  {
   "cell_type": "code",
   "execution_count": 7,
   "metadata": {},
   "outputs": [],
   "source": [
    "# Create TP and FP rates\n",
    "\n",
    "false_positive_rate, true_positive_rate, threshold = roc_curve(target_test, target_probabilities)"
   ]
  },
  {
   "cell_type": "code",
   "execution_count": 11,
   "metadata": {},
   "outputs": [
    {
     "data": {
      "image/png": "[encoded data removed]",
      "text/plain": [
       "<Figure size 432x288 with 1 Axes>"
      ]
     },
     "metadata": {
      "needs_background": "light"
     },
     "output_type": "display_data"
    }
   ],
   "source": [
    "### Plot ROC Curve\n",
    "\n",
    "plt.title(\"Receiver Operating Characteristic (ROC): \")\n",
    "plt.plot(false_positive_rate, true_positive_rate)\n",
    "plt.plot([0,1], ls = \"--\")\n",
    "plt.plot([0,0],[1,0], c = \".7\")\n",
    "plt.ylabel(\"True Positive Rate\")\n",
    "plt.xlabel(\"False Positive Rate\")\n",
    "ax.title.set_color('red')\n",
    "\n",
    "plt.show()"
   ]
  },
  {
   "cell_type": "markdown",
   "metadata": {},
   "source": [
    "PREDICT PROBA : Each observation is given an explicit probability of belonging each classes"
   ]
  },
  {
   "cell_type": "code",
   "execution_count": 8,
   "metadata": {},
   "outputs": [
    {
     "data": {
      "text/plain": [
       "array([[0.86891533, 0.13108467]])"
      ]
     },
     "execution_count": 8,
     "metadata": {},
     "output_type": "execute_result"
    }
   ],
   "source": [
    "# Get predicted probabilities for the first observation\n",
    "\n",
    "logit.predict_proba(features_test)[0:1]"
   ]
  },
  {
   "cell_type": "markdown",
   "metadata": {},
   "source": [
    "87% chance being in the negarive class (o) and 13% of being in the positive class."
   ]
  },
  {
   "cell_type": "code",
   "execution_count": 9,
   "metadata": {},
   "outputs": [
    {
     "data": {
      "text/plain": [
       "array([0, 1])"
      ]
     },
     "execution_count": 9,
     "metadata": {},
     "output_type": "execute_result"
    }
   ],
   "source": [
    "# See classes\n",
    "\n",
    "logit.classes_"
   ]
  },
  {
   "cell_type": "markdown",
   "metadata": {},
   "source": [
    "### Discussion\n",
    "\n",
    "By default scikit-learn predicts an obervation is part of the positive class if the probability is greater than 0.5 (called threshold).\n",
    "\n",
    "True Positive Rate : TPR = (True Positives) / (True Positives + False Negatives)\n",
    "\n",
    "Number of observations correctly predicted true divided by all positive observation\n",
    "\n",
    "\n",
    "False Positive Rate : FPR = (False Positives) / (False Positive + True Negatives)\n",
    "\n",
    "Number of incorrectly predicted positives divided by all true negatie observations.\n",
    "\n",
    "## ROC Curve\n",
    "\n",
    "Represents the respective TPR & FPR for every probability threshold."
   ]
  },
  {
   "cell_type": "code",
   "execution_count": 10,
   "metadata": {},
   "outputs": [
    {
     "name": "stdout",
     "output_type": "stream",
     "text": [
      "Threshold:  0.5331715230155317\n",
      "True Positive Rate:  0.810204081632653\n",
      "False Positive Rate:  0.14901960784313725\n"
     ]
    }
   ],
   "source": [
    "print(\"Threshold: \", threshold[116])\n",
    "print(\"True Positive Rate: \", true_positive_rate[116])\n",
    "print(\"False Positive Rate: \", false_positive_rate[116])"
   ]
  },
  {
   "cell_type": "markdown",
   "metadata": {},
   "source": [
    "Increase the threshold to 80%. Increase how certain a model has to be before it predicts an obsevation as positive. TPR & FPR drop significantly.\n",
    "\n",
    "Higher requirements for being predicted to be in the positive class has made the model not identify a number of positive observations (the lower TPR) but also reduce the noise from negative observations being predicted as positive(the lower FPR)"
   ]
  },
  {
   "cell_type": "code",
   "execution_count": 12,
   "metadata": {},
   "outputs": [
    {
     "name": "stdout",
     "output_type": "stream",
     "text": [
      "Threshold:  0.818913387665929\n",
      "True Positive Rate:  0.5448979591836735\n",
      "False Positive Rate:  0.047058823529411764\n"
     ]
    }
   ],
   "source": [
    "print(\"Threshold: \", threshold[45])\n",
    "print(\"True Positive Rate: \", true_positive_rate[45])\n",
    "print(\"False Positive Rate: \", false_positive_rate[45])"
   ]
  },
  {
   "cell_type": "markdown",
   "metadata": {},
   "source": [
    "### ROC AUC Curve\n",
    "\n",
    "To visualize the trade off between TPR & FPR its commom to calculate the Area Under the Curve (AUC) to judge the overall equalirt of a model at all the possible thresholds.\n",
    "\n",
    "The closer to 1 the better"
   ]
  },
  {
   "cell_type": "code",
   "execution_count": 14,
   "metadata": {},
   "outputs": [
    {
     "data": {
      "text/plain": [
       "0.9073389355742297"
      ]
     },
     "execution_count": 14,
     "metadata": {},
     "output_type": "execute_result"
    }
   ],
   "source": [
    "# Calculate area under the curve\n",
    "\n",
    "roc_auc_score(target_test, target_probabilities)"
   ]
  }
 ],
 "metadata": {
  "kernelspec": {
   "display_name": "Kikenv",
   "language": "python",
   "name": "kikenv"
  },
  "language_info": {
   "codemirror_mode": {
    "name": "ipython",
    "version": 3
   },
   "file_extension": ".py",
   "mimetype": "text/x-python",
   "name": "python",
   "nbconvert_exporter": "python",
   "pygments_lexer": "ipython3",
   "version": "3.6.9"
  }
 },
 "nbformat": 4,
 "nbformat_minor": 2
}
