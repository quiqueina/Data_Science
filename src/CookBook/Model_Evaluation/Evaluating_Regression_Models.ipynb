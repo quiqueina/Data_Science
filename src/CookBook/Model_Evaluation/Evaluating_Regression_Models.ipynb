{
 "cells": [
  {
   "cell_type": "markdown",
   "metadata": {},
   "source": [
    "# Evaluating Regression Models\n",
    "\n",
    "Evauate the performance of a regression model using Mean Squared Error (MSE)"
   ]
  },
  {
   "cell_type": "code",
   "execution_count": 9,
   "metadata": {},
   "outputs": [],
   "source": [
    "# Load libraries\n",
    "\n",
    "from sklearn.datasets import make_regression\n",
    "from sklearn.model_selection import cross_val_score\n",
    "from sklearn.linear_model import LinearRegression"
   ]
  },
  {
   "cell_type": "code",
   "execution_count": 10,
   "metadata": {},
   "outputs": [],
   "source": [
    "# Generate features matrix and target vector\n",
    "\n",
    "features, target = make_regression(n_samples=100,\n",
    "                                   n_features = 3,\n",
    "                                   n_informative = 3,\n",
    "                                   n_targets = 1,\n",
    "                                   noise = 50,\n",
    "                                   coef = False, \n",
    "                                   random_state =1)"
   ]
  },
  {
   "cell_type": "code",
   "execution_count": 11,
   "metadata": {},
   "outputs": [],
   "source": [
    "# Create a linear regression objet\n",
    "\n",
    "ols = LinearRegression()"
   ]
  },
  {
   "cell_type": "markdown",
   "metadata": {},
   "source": [
    "## MSE\n",
    "\n",
    "MSE = (1/n) * E(ỳi-yi)2. \n",
    "\n",
    "Mean of the summatory of squared differences between y predicted and real y value. Square the errors makes every differenec positive.\n",
    "\n",
    "Penalizes few large errors more than many small errors. (i.e.): \n",
    "MODEL A : Errors : 0 and 10;  MSE = (0)2 + (10)2 = 100\n",
    "MODEL B : Errors : 5 and 5 ;  MSE = (5)2 + (5)2 = 50\n",
    "\n",
    "\n",
    "## MSE Using Negative Mean Squared Error\n",
    "\n",
    "By default, scoring parameter assume that higher values are better than lower values.\n",
    "\n",
    "This is not the case, the higher values means a worse model."
   ]
  },
  {
   "cell_type": "code",
   "execution_count": 12,
   "metadata": {},
   "outputs": [
    {
     "data": {
      "text/plain": [
       "array([-1974.65337976, -2004.54137625, -3935.19355723, -1060.04361386,\n",
       "       -1598.74104702])"
      ]
     },
     "execution_count": 12,
     "metadata": {},
     "output_type": "execute_result"
    }
   ],
   "source": [
    "# Cross validate the linear regression using negative MSE\n",
    "\n",
    "cross_val_score(ols, features, target, scoring = \"neg_mean_squared_error\")"
   ]
  },
  {
   "cell_type": "markdown",
   "metadata": {},
   "source": [
    "Another common regression metric is....\n",
    "\n",
    "## The coefficient of determination R2\n",
    "\n",
    "Measures the amount of variance in the target vector that is explained by the model.\n",
    "\n",
    "The closer to 1 the better the model"
   ]
  },
  {
   "cell_type": "code",
   "execution_count": 13,
   "metadata": {},
   "outputs": [
    {
     "data": {
      "text/plain": [
       "array([0.8622399 , 0.85838075, 0.74723548, 0.91354743, 0.84469331])"
      ]
     },
     "execution_count": 13,
     "metadata": {},
     "output_type": "execute_result"
    }
   ],
   "source": [
    "# Cross Validate the linear regression using R-Squared\n",
    "\n",
    "cross_val_score(ols, features, target, scoring = \"r2\")"
   ]
  }
 ],
 "metadata": {
  "kernelspec": {
   "display_name": "Kikenv",
   "language": "python",
   "name": "kikenv"
  },
  "language_info": {
   "codemirror_mode": {
    "name": "ipython",
    "version": 3
   },
   "file_extension": ".py",
   "mimetype": "text/x-python",
   "name": "python",
   "nbconvert_exporter": "python",
   "pygments_lexer": "ipython3",
   "version": "3.6.9"
  }
 },
 "nbformat": 4,
 "nbformat_minor": 2
}
