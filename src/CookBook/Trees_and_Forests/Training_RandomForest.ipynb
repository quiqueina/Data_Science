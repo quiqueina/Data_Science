{
 "cells": [
  {
   "cell_type": "markdown",
   "metadata": {},
   "source": [
    "# Training a Random Forest Classifier\n",
    "\n",
    "You want to train a classification model using a forest of randomized decision trees.\n"
   ]
  },
  {
   "cell_type": "code",
   "execution_count": 1,
   "metadata": {},
   "outputs": [],
   "source": [
    "# Load libraries\n",
    "\n",
    "from sklearn.ensemble import RandomForestClassifier\n",
    "from sklearn import datasets"
   ]
  },
  {
   "cell_type": "code",
   "execution_count": 2,
   "metadata": {},
   "outputs": [],
   "source": [
    "# Load data\n",
    "\n",
    "iris = datasets.load_iris()\n",
    "\n",
    "# Create feature matrix and target vector\n",
    "\n",
    "features = iris.data\n",
    "target = iris.target"
   ]
  },
  {
   "cell_type": "code",
   "execution_count": 3,
   "metadata": {},
   "outputs": [],
   "source": [
    "# Create random forest classifier object\n",
    "\n",
    "randomforest = RandomForestClassifier(random_state = 0, n_jobs = 1)"
   ]
  },
  {
   "cell_type": "code",
   "execution_count": 4,
   "metadata": {},
   "outputs": [],
   "source": [
    "# Train a model\n",
    "\n",
    "model = randomforest.fit(features,target)"
   ]
  },
  {
   "cell_type": "code",
   "execution_count": 5,
   "metadata": {},
   "outputs": [],
   "source": [
    "# Make new observation\n",
    "\n",
    "observation = [[5,4,3,2]]"
   ]
  },
  {
   "cell_type": "code",
   "execution_count": 6,
   "metadata": {},
   "outputs": [
    {
     "data": {
      "text/plain": [
       "array([1])"
      ]
     },
     "execution_count": 6,
     "metadata": {},
     "output_type": "execute_result"
    }
   ],
   "source": [
    "# Predict observation's class\n",
    "\n",
    "model.predict(observation)"
   ]
  },
  {
   "cell_type": "markdown",
   "metadata": {},
   "source": [
    "A common Problem with decision trees is that they tend to fit the training data too closely (i.e., overfitting) "
   ]
  },
  {
   "cell_type": "markdown",
   "metadata": {},
   "source": [
    "Change measuse of dplit quality used."
   ]
  },
  {
   "cell_type": "code",
   "execution_count": 7,
   "metadata": {},
   "outputs": [],
   "source": [
    "# Create random forest classidier object using entropy\n",
    "\n",
    "randomforest_entropy = RandomForestClassifier(criterion=\"entropy\", random_state = 0)"
   ]
  },
  {
   "cell_type": "code",
   "execution_count": 8,
   "metadata": {},
   "outputs": [
    {
     "data": {
      "text/plain": [
       "array([1])"
      ]
     },
     "execution_count": 8,
     "metadata": {},
     "output_type": "execute_result"
    }
   ],
   "source": [
    "# Train model \n",
    "\n",
    "model_entropy = randomforest_entropy.fit(features, target)\n",
    "model_entropy.predict(observation)"
   ]
  },
  {
   "cell_type": "markdown",
   "metadata": {},
   "source": [
    "Max_features: By default is set to auto ( = sqrt(p)). Where p are the total number of features. \n",
    "\n",
    "It determines the maximun features to be considered at each node and takes a number of arguments including integers, floats and sqrt\n",
    "\n",
    "Bootstrap : Allows us to set whether the subset of observations considered for a tree is created using sampling with replacement. default = True\n",
    "\n",
    "n_estimators : numbers of trees to construct. default = 10\n"
   ]
  },
  {
   "cell_type": "markdown",
   "metadata": {},
   "source": [
    "# Trainig Random Forest Regressor\n",
    "\n",
    "You want to train a regression model using \"forest\" of randomized decision trees.\n",
    "\n",
    "Each tree will use a bootstrapped subset of observations and at each node the decision rule considers only a subset of features."
   ]
  },
  {
   "cell_type": "code",
   "execution_count": 9,
   "metadata": {},
   "outputs": [],
   "source": [
    "# Load libraries\n",
    "\n",
    "from sklearn.ensemble import RandomForestRegressor\n",
    "from sklearn.datasets import load_boston"
   ]
  },
  {
   "cell_type": "code",
   "execution_count": 10,
   "metadata": {},
   "outputs": [],
   "source": [
    "# Load data\n",
    "\n",
    "boston = load_boston()\n",
    "\n",
    "# Create features matrix and target vector\n",
    "\n",
    "features = boston.data[:,0:2]\n",
    "target = boston.target"
   ]
  },
  {
   "cell_type": "code",
   "execution_count": 11,
   "metadata": {},
   "outputs": [],
   "source": [
    "# Create Random Forest Regressor\n",
    "\n",
    "randomforest = RandomForestRegressor(random_state = 0, n_jobs = -1)"
   ]
  },
  {
   "cell_type": "code",
   "execution_count": 12,
   "metadata": {},
   "outputs": [],
   "source": [
    "# Train model\n",
    "\n",
    "model = randomforest.fit(features, target)"
   ]
  },
  {
   "cell_type": "markdown",
   "metadata": {},
   "source": [
    "# Identifyinf Important Features in Random Forest\n",
    "\n",
    "You need to know which features are most important in a random forest model.\n",
    "\n",
    "One of the major benefits of decision trees is intrepretability. Specifically we can visualize the entire model. \n",
    "\n",
    "We can compare and visualize the relative importance of each feature.\n",
    "\n",
    "### Feature Importance\n",
    "\n",
    "Scikit learn requires that we break up nominal categorical features into multiple binary features. This has the effect of spreading the importance of that feature across all of the binary features and can often make each feature appear to be unimportant\n",
    "\n",
    "If two features are highly correlated one feature will claim much of the importance, making the other feature appear to be far less important."
   ]
  },
  {
   "cell_type": "code",
   "execution_count": 13,
   "metadata": {},
   "outputs": [],
   "source": [
    "# Load Libraries\n",
    "\n",
    "import numpy as np\n",
    "import matplotlib.pyplot as plt\n",
    "from sklearn.ensemble import RandomForestClassifier\n",
    "from sklearn.datasets import load_iris"
   ]
  },
  {
   "cell_type": "code",
   "execution_count": 14,
   "metadata": {},
   "outputs": [],
   "source": [
    "# Load data\n",
    "\n",
    "iris = load_iris()\n",
    "\n",
    "# Create feature matrix and target vector\n",
    "\n",
    "features = iris.data\n",
    "target = iris.target"
   ]
  },
  {
   "cell_type": "code",
   "execution_count": 15,
   "metadata": {},
   "outputs": [],
   "source": [
    "# Create random forest classifier object\n",
    "\n",
    "randomforest = RandomForestClassifier(random_state = 0, n_jobs = -1)"
   ]
  },
  {
   "cell_type": "code",
   "execution_count": 16,
   "metadata": {},
   "outputs": [],
   "source": [
    "# Train model\n",
    "\n",
    "model = randomforest.fit(features,target)"
   ]
  },
  {
   "cell_type": "markdown",
   "metadata": {},
   "source": [
    "Scikit learn, classification and regression decision trees and random forest can report the relative importance of each feature.\n",
    "The higher the number the higher the importance."
   ]
  },
  {
   "cell_type": "code",
   "execution_count": 17,
   "metadata": {},
   "outputs": [
    {
     "data": {
      "text/plain": [
       "array([0.09090795, 0.02453104, 0.46044474, 0.42411627])"
      ]
     },
     "execution_count": 17,
     "metadata": {},
     "output_type": "execute_result"
    }
   ],
   "source": [
    "# Importante of features calculated\n",
    "\n",
    "importances = model.feature_importances_\n",
    "importances"
   ]
  },
  {
   "cell_type": "code",
   "execution_count": 18,
   "metadata": {},
   "outputs": [
    {
     "data": {
      "text/plain": [
       "array([2, 3, 0, 1])"
      ]
     },
     "execution_count": 18,
     "metadata": {},
     "output_type": "execute_result"
    }
   ],
   "source": [
    "# Sort feature importances in descending order\n",
    "\n",
    "indices = np.argsort(importances)[::-1]\n",
    "indices"
   ]
  },
  {
   "cell_type": "code",
   "execution_count": 19,
   "metadata": {},
   "outputs": [
    {
     "data": {
      "text/plain": [
       "['petal length (cm)',\n",
       " 'petal width (cm)',\n",
       " 'sepal length (cm)',\n",
       " 'sepal width (cm)']"
      ]
     },
     "execution_count": 19,
     "metadata": {},
     "output_type": "execute_result"
    }
   ],
   "source": [
    "### Rearrange feature names so they match the sorted featur importances\n",
    "\n",
    "names = [iris.feature_names[i] for i in indices]\n",
    "names"
   ]
  },
  {
   "cell_type": "code",
   "execution_count": 42,
   "metadata": {},
   "outputs": [
    {
     "data": {
      "text/plain": [
       "([<matplotlib.axis.XTick at 0x7f70289495f8>,\n",
       "  <matplotlib.axis.XTick at 0x7f7028927d30>,\n",
       "  <matplotlib.axis.XTick at 0x7f70289276a0>,\n",
       "  <matplotlib.axis.XTick at 0x7f70288f3278>],\n",
       " <a list of 4 Text xticklabel objects>)"
      ]
     },
     "execution_count": 42,
     "metadata": {},
     "output_type": "execute_result"
    },
    {
     "data": {
      "image/png": "[encoded data removed]",
      "text/plain": [
       "<Figure size 432x288 with 1 Axes>"
      ]
     },
     "metadata": {},
     "output_type": "display_data"
    }
   ],
   "source": [
    "# Create Plot\n",
    "\n",
    "plt.figure(facecolor = \"orange\")\n",
    "\n",
    "# Create Plot Title\n",
    "\n",
    "plt.title(\"Features importance\")\n",
    "\n",
    "# Add bars\n",
    "\n",
    "plt.bar(range(features.shape[1]), importances[indices])\n",
    "\n",
    "# Add feature names as x-acis labels\n",
    "\n",
    "plt.xticks(range(features.shape[1]), names, rotation = 90)"
   ]
  },
  {
   "cell_type": "markdown",
   "metadata": {},
   "source": [
    "## Select Important Features in Random Forest\n",
    "\n",
    "Conduct feature selection on a random forest.\n",
    "\n",
    "Identify the importance features and retrain the model using only the most important features.\n",
    "\n",
    "There are situations where we might want to reduce the number of features , for instance : \n",
    "\n",
    "To reduce the model's variance\n",
    "\n",
    "Improve interpretability of the model by considering only the most important features.\n",
    "\n",
    "We can create a simple two-stage workflow to create a model with reduced features.\n",
    "\n",
    "First we train a random forest model using all features. \n",
    "\n",
    "Then we use this model to identify the most important features. \n",
    "\n",
    "Next we create a feature matrix that includes only these features. \n",
    "\n",
    "The we use SelectFromModel method to create a feature matrix containing only features with an importance greater than or equal to a threshold value (0.3) .\n",
    "\n",
    "Finally we create a model containing only those values.\n",
    "\n",
    "\n",
    "\n",
    "### Caveats \n",
    "\n",
    "In this approach there are two main things to take into consideration:\n",
    "\n",
    "- Nominal categorical features that have been one hot encoded will see the feature importance siluted across the binary features.\n",
    "- The feature importance of highly correlated features will be effectively assigned to one feature and not evenly distributed across both features."
   ]
  },
  {
   "cell_type": "code",
   "execution_count": null,
   "metadata": {},
   "outputs": [],
   "source": [
    "# Load libraries\n",
    "\n",
    "from sklearn.datasets import load_iris\n",
    "from sklearn.ensemble import RandomForestClassifier\n",
    "from sklearn.feature_selection import SelectFromModel"
   ]
  },
  {
   "cell_type": "code",
   "execution_count": null,
   "metadata": {},
   "outputs": [],
   "source": [
    "# Load data\n",
    "\n",
    "iris = load_iris()\n",
    "features = iris.data\n",
    "target = iris.target\n"
   ]
  },
  {
   "cell_type": "code",
   "execution_count": null,
   "metadata": {},
   "outputs": [],
   "source": [
    "# Create a RandomForestClassifier\n",
    "\n",
    "randomforest = RandomForestClassifier (random_state = 0, n_jobs = -1)"
   ]
  },
  {
   "cell_type": "code",
   "execution_count": null,
   "metadata": {},
   "outputs": [],
   "source": [
    "# Create object that selects features with importance greater than or equal to a threshold\n",
    "\n",
    "\n",
    "selector = SelectFromModel(randomforest, threshold = 0.3)"
   ]
  },
  {
   "cell_type": "code",
   "execution_count": null,
   "metadata": {},
   "outputs": [],
   "source": [
    "# New feature matrix using selector\n",
    "\n",
    "features_important = selector.fit_transform(features,target)"
   ]
  },
  {
   "cell_type": "code",
   "execution_count": null,
   "metadata": {},
   "outputs": [],
   "source": [
    "# Train Random Forest Using most Important Features\n",
    "\n",
    "model = randomforest.fit(features_important,target) "
   ]
  },
  {
   "cell_type": "markdown",
   "metadata": {},
   "source": [
    "# Handling Imbalanced Classes\n",
    "\n",
    "You have a target vector with highly imbalanced classes and want to train a random forest model.\n",
    "\n",
    "## Imbalanced clasess\n",
    "\n",
    "Very common in real world, can reduce the performance of our model. \n",
    "\n",
    "RandomForestClassifier(class_weight = {\"male\" = 0.2 , \"female\" = 0.8} will weight the classes accordingly\n",
    "\n",
    "class_weight = \"balanced\" ==> Useful argument whereinn classes are automatically weighted inversely proportinal to how frequently thy appear on the data\n",
    "\n",
    " Wj = N / Knj \n",
    " \n",
    " k = Number of clases = 2\n",
    " n = observations == 110\n",
    " 10 /100 observations of each class \n",
    " \n",
    " \n"
   ]
  },
  {
   "cell_type": "code",
   "execution_count": null,
   "metadata": {},
   "outputs": [],
   "source": [
    "# Calculate weight \n",
    "\n",
    "print(\"Calculate weight for small class ==> 110 / (2*10) = \", 110 / (2*10))\n",
    "print(\"Calculate weight for large class ==> 110 / (2*100) = \"  , 110 / (2*100))"
   ]
  },
  {
   "cell_type": "code",
   "execution_count": 21,
   "metadata": {},
   "outputs": [],
   "source": [
    "# Import Libraries\n",
    "\n",
    "import numpy as np\n",
    "from sklearn.datasets import load_iris\n",
    "from sklearn.ensemble import RandomForestClassifier"
   ]
  },
  {
   "cell_type": "code",
   "execution_count": 22,
   "metadata": {},
   "outputs": [],
   "source": [
    "# Load data\n",
    "\n",
    "iris = datasets.load_iris()\n",
    "features = iris.data\n",
    "target = iris.target"
   ]
  },
  {
   "cell_type": "code",
   "execution_count": 23,
   "metadata": {},
   "outputs": [
    {
     "data": {
      "text/plain": [
       "array([0, 0, 0, 0, 0, 0, 0, 0, 0, 0, 1, 1, 1, 1, 1, 1, 1, 1, 1, 1, 1, 1,\n",
       "       1, 1, 1, 1, 1, 1, 1, 1, 1, 1, 1, 1, 1, 1, 1, 1, 1, 1, 1, 1, 1, 1,\n",
       "       1, 1, 1, 1, 1, 1, 1, 1, 1, 1, 1, 1, 1, 1, 1, 1, 2, 2, 2, 2, 2, 2,\n",
       "       2, 2, 2, 2, 2, 2, 2, 2, 2, 2, 2, 2, 2, 2, 2, 2, 2, 2, 2, 2, 2, 2,\n",
       "       2, 2, 2, 2, 2, 2, 2, 2, 2, 2, 2, 2, 2, 2, 2, 2, 2, 2, 2, 2, 2, 2])"
      ]
     },
     "execution_count": 23,
     "metadata": {},
     "output_type": "execute_result"
    }
   ],
   "source": [
    "# Make class highly imbalanced by removing first 40 observations\n",
    "\n",
    "features = features[40:,:]\n",
    "target = target[40:]\n",
    "target"
   ]
  },
  {
   "cell_type": "code",
   "execution_count": 24,
   "metadata": {},
   "outputs": [
    {
     "data": {
      "text/plain": [
       "array([0, 0, 0, 0, 0, 0, 0, 0, 0, 0, 1, 1, 1, 1, 1, 1, 1, 1, 1, 1, 1, 1,\n",
       "       1, 1, 1, 1, 1, 1, 1, 1, 1, 1, 1, 1, 1, 1, 1, 1, 1, 1, 1, 1, 1, 1,\n",
       "       1, 1, 1, 1, 1, 1, 1, 1, 1, 1, 1, 1, 1, 1, 1, 1, 1, 1, 1, 1, 1, 1,\n",
       "       1, 1, 1, 1, 1, 1, 1, 1, 1, 1, 1, 1, 1, 1, 1, 1, 1, 1, 1, 1, 1, 1,\n",
       "       1, 1, 1, 1, 1, 1, 1, 1, 1, 1, 1, 1, 1, 1, 1, 1, 1, 1, 1, 1, 1, 1])"
      ]
     },
     "execution_count": 24,
     "metadata": {},
     "output_type": "execute_result"
    }
   ],
   "source": [
    "# Create target vector indicating if class 0 otherwise 1\n",
    "\n",
    "target = np.where((target == 0), 0 , 1)\n",
    "target"
   ]
  },
  {
   "cell_type": "code",
   "execution_count": 25,
   "metadata": {},
   "outputs": [],
   "source": [
    "# Create random forest classifier object\n",
    "\n",
    "randomforest = RandomForestClassifier(random_state = 0, n_jobs = -1, class_weight = \"balanced\")"
   ]
  },
  {
   "cell_type": "code",
   "execution_count": 26,
   "metadata": {},
   "outputs": [],
   "source": [
    "# Train a model\n",
    "\n",
    "model = randomforest.fit(features, target)"
   ]
  },
  {
   "cell_type": "markdown",
   "metadata": {},
   "source": [
    "# Controlling Tree Size \n",
    "\n",
    "You want to manually determine the structure and sizr of a decision tree.\n",
    "\n",
    "max_depth == deep of tree.If None the tree is grown until all leaves are pure. If an integer, 3 id effectively \"pruned\" to that depth\n",
    "\n",
    "min_samples_split == Minimum number of observations at a node before that node is split. if integet, raw minimum. if float is the percent of observations\n",
    "\n",
    "min_samples_leaf == minimum number of observations required to be at a leaf. (same arguments than min_samples_split)\n",
    "\n",
    "max_leaf_nodes == maximum number of leaves\n",
    "\n",
    "min_impurity_decrease == Minimum impurity decrease required before a splot is performed"
   ]
  },
  {
   "cell_type": "code",
   "execution_count": 27,
   "metadata": {},
   "outputs": [],
   "source": [
    "# Load libraries \n",
    "\n",
    "from sklearn.datasets import load_iris\n",
    "from sklearn.tree import DecisionTreeClassifier"
   ]
  },
  {
   "cell_type": "code",
   "execution_count": 28,
   "metadata": {},
   "outputs": [],
   "source": [
    "# Load data\n",
    "\n",
    "iris = load_iris()\n",
    "features = iris.data\n",
    "target = iris.target"
   ]
  },
  {
   "cell_type": "code",
   "execution_count": 29,
   "metadata": {},
   "outputs": [],
   "source": [
    "# Create decision tree classifier objet\n",
    "\n",
    "decisiontree = DecisionTreeClassifier(random_state = 0,\n",
    "                                      max_depth = None,\n",
    "                                      min_samples_split = 2,\n",
    "                                      min_samples_leaf = 1,\n",
    "                                      min_weight_fraction_leaf = 0,\n",
    "                                      max_leaf_nodes = None,\n",
    "                                      min_impurity_decrease = 0)\n",
    "                                    "
   ]
  },
  {
   "cell_type": "code",
   "execution_count": 30,
   "metadata": {},
   "outputs": [],
   "source": [
    "# Train model\n",
    "\n",
    "model = decisiontree.fit(features, target)"
   ]
  },
  {
   "cell_type": "markdown",
   "metadata": {},
   "source": [
    "# Improving Performance through boosting\n",
    "\n",
    "You need a model with better performance than decision trees or random forests.\n",
    "\n",
    "## Adaboost\n",
    "\n",
    "Approach boosting form. Train a series of weak models (shallow decision tree, stump) , each interaction giving higher priority to observaitons the previous model predicted incorrectly.\n",
    "\n",
    "Assigns every observation an initial weight value. w = 1 / n . n is the total number of observations in the data.\n",
    "\n",
    "Train a weak model on the data\n",
    "\n",
    "For each observation : \n",
    "\n",
    "- if weak model predicts correctly w is increased\n",
    "- if weak model predicts incorrectly w is decreased\n",
    "\n",
    "Train a new weak model where observations with greater w are given greater priority\n",
    "\n",
    "Repeat steps un til data is perfectly predicted or a preset number of weak models has been trained.\n",
    "\n",
    "The end result is an aggregated model where individuals weak models focus on more difficult observations. Parameters : \n",
    "\n",
    "- base_estimator : learning algorithm to train weak models. decision tree by default\n",
    "- n_estimators : number of models to iteratively train\n",
    "- learning_rate : contribution of each model to the weights. 1 by default. \n",
    "- loss : exclusive from AdaBoostRegressor, set the loss function to use when updating weights. linear function by default, could be exponential or square.\n"
   ]
  },
  {
   "cell_type": "code",
   "execution_count": 31,
   "metadata": {},
   "outputs": [],
   "source": [
    "# Load libraries \n",
    "\n",
    "from sklearn.datasets import load_iris\n",
    "from sklearn.ensemble import AdaBoostClassifier"
   ]
  },
  {
   "cell_type": "code",
   "execution_count": 32,
   "metadata": {},
   "outputs": [],
   "source": [
    "# Load data\n",
    "\n",
    "iris = load_iris()\n",
    "features = iris.data\n",
    "target = iris.target"
   ]
  },
  {
   "cell_type": "code",
   "execution_count": 33,
   "metadata": {},
   "outputs": [
    {
     "data": {
      "text/plain": [
       "AdaBoostClassifier(algorithm='SAMME.R', base_estimator=None, learning_rate=1.0,\n",
       "                   n_estimators=50, random_state=0)"
      ]
     },
     "execution_count": 33,
     "metadata": {},
     "output_type": "execute_result"
    }
   ],
   "source": [
    "# Create adaboost Classifier\n",
    "\n",
    "adaboost = AdaBoostClassifier(algorithm='SAMME.R', base_estimator=None, learning_rate=1.0,\n",
    "                   n_estimators=50, random_state=0)\n",
    "adaboost"
   ]
  },
  {
   "cell_type": "code",
   "execution_count": 34,
   "metadata": {},
   "outputs": [],
   "source": [
    "model = adaboost.fit(features, target)"
   ]
  },
  {
   "cell_type": "markdown",
   "metadata": {},
   "source": [
    "# Evaluating Random Forest With Out of Bags Errors\n",
    "\n",
    "Validating Random FOrest wthout using cross-validation.\n",
    "\n",
    "\n",
    "## Out of Bags Errors\n",
    "\n",
    "In random forest each decision tree is trained using a bootstrapped subset of observations. This means that for every tree there is a separate subset of observations not being used to train that tree, these are called OOB, out of bags observations. \n",
    "\n",
    "We can use OOB observations as a test set ti evaluate the performance of our model.\n",
    "\n",
    "For wvery observation the algorithm compares the observation's true values with the prediction from a subset of trees not trained using that observations. The overall score is calculated and provides asingle measure of a random forest performance. \n",
    "\n",
    "Excellent alternative to Cross Validation"
   ]
  },
  {
   "cell_type": "code",
   "execution_count": 35,
   "metadata": {},
   "outputs": [],
   "source": [
    "# Load libraries\n",
    "\n",
    "from sklearn.datasets import load_iris\n",
    "from sklearn.ensemble import RandomForestClassifier"
   ]
  },
  {
   "cell_type": "code",
   "execution_count": 36,
   "metadata": {},
   "outputs": [],
   "source": [
    "# Load data\n",
    "\n",
    "iris = load_iris()\n",
    "features = iris.data\n",
    "target = iris.target"
   ]
  },
  {
   "cell_type": "code",
   "execution_count": 37,
   "metadata": {},
   "outputs": [],
   "source": [
    "# Create random forest classifier\n",
    "\n",
    "randomforest = RandomForestClassifier(random_state = 0, n_estimators = 1000, oob_score = True, n_jobs = -1)"
   ]
  },
  {
   "cell_type": "code",
   "execution_count": 38,
   "metadata": {},
   "outputs": [],
   "source": [
    "# Train model \n",
    "\n",
    "model = randomforest.fit(features,target)"
   ]
  },
  {
   "cell_type": "code",
   "execution_count": 39,
   "metadata": {},
   "outputs": [
    {
     "data": {
      "text/plain": [
       "0.9533333333333334"
      ]
     },
     "execution_count": 39,
     "metadata": {},
     "output_type": "execute_result"
    }
   ],
   "source": [
    "# View out of bag error\n",
    "\n",
    "randomforest.oob_score_"
   ]
  }
 ],
 "metadata": {
  "kernelspec": {
   "display_name": "Kikenv",
   "language": "python",
   "name": "kikenv"
  },
  "language_info": {
   "codemirror_mode": {
    "name": "ipython",
    "version": 3
   },
   "file_extension": ".py",
   "mimetype": "text/x-python",
   "name": "python",
   "nbconvert_exporter": "python",
   "pygments_lexer": "ipython3",
   "version": "3.6.9"
  }
 },
 "nbformat": 4,
 "nbformat_minor": 2
}
