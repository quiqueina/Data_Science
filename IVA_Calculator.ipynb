{
 "cells": [
  {
   "cell_type": "code",
   "execution_count": null,
   "metadata": {},
   "outputs": [],
   "source": []
  },
  {
   "cell_type": "markdown",
   "metadata": {},
   "source": [
    "#  IVA TAXES CALCULATOR\n"
   ]
  },
  {
   "cell_type": "code",
   "execution_count": 16,
   "metadata": {},
   "outputs": [],
   "source": [
    "import random"
   ]
  },
  {
   "cell_type": "markdown",
   "metadata": {},
   "source": [
    "### Functions\n"
   ]
  },
  {
   "cell_type": "code",
   "execution_count": 19,
   "metadata": {},
   "outputs": [],
   "source": [
    "class Calculator():\n",
    "    \n",
    "        \n",
    "    def Integer_Values(self,product_price):\n",
    "    \n",
    "        print(\"++++++++++++++++++++ PRODUCT PRICE ++++++++++++++++++++\")\n",
    "        print(\"The value type of your input is : \", type(product_price))\n",
    "\n",
    "        if product_price:\n",
    "            try:\n",
    "                product_price = float(int(product_price))\n",
    "                print(\"The Product Price is : \" + str(product_price)+\"€\")\n",
    "\n",
    "            except ValueError:\n",
    "\n",
    "                print(\"Try with a number\")\n",
    "                print(\"The value type of your input is : \", type(product_price))\n",
    "                print(\"I Dare you, insert a NUMBER as Product Price\")\n",
    "                try:\n",
    "                    product_price = float(int(raw_input(\"Insert Product Price: \")))\n",
    "                    print(\"The Product Price is : \" + str(product_price))\n",
    "                except ValueError:\n",
    "                    print(\"A random value will be selected..........\")\n",
    "                    product_price = float(random.randint(0, 1000))\n",
    "                    print(\"The number is: \"+ str(product_price))\n",
    "\n",
    "        return product_price\n",
    "\n",
    "    def IVA_Selection(self,IVA):\n",
    "\n",
    "        available_list = [\"21\",\"10\",\"4\"]\n",
    "        if IVA in available_list:\n",
    "            print(\"The IVA TAXES are : \" + IVA+ \"%\")\n",
    "            result = int(IVA)\n",
    "\n",
    "        else:\n",
    "            print(\"A random value will be selected..........\")\n",
    "            result = int(random.choice(available_list))\n",
    "            print(\"The IVA TAXES are: \"+ str(result) + \"%\")\n",
    "\n",
    "\n",
    "        return result\n",
    "\n",
    "    def IVA_Taxes(self,product_price,IVA):\n",
    "\n",
    "        taxes = int(product_price * IVA)\n",
    "        result = taxes/100\n",
    "        print(\"The IVA_Taxes is: \" + str(result) + \"€\")\n",
    "        return result\n",
    "\n",
    "\n",
    "    def Total_Amount(self,product_price,taxes):\n",
    "        total_result = product_price + taxes \n",
    "        return total_result   \n"
   ]
  },
  {
   "cell_type": "markdown",
   "metadata": {},
   "source": [
    "#### Instance Class"
   ]
  },
  {
   "cell_type": "code",
   "execution_count": 20,
   "metadata": {},
   "outputs": [],
   "source": [
    "c1 = Calculator()"
   ]
  },
  {
   "cell_type": "markdown",
   "metadata": {},
   "source": [
    "#### Get Product Price"
   ]
  },
  {
   "cell_type": "code",
   "execution_count": 26,
   "metadata": {},
   "outputs": [
    {
     "name": "stdout",
     "output_type": "stream",
     "text": [
      "Welcome to the IVA CALCULATOR 3000\n"
     ]
    },
    {
     "name": "stdin",
     "output_type": "stream",
     "text": [
      "Please select your Product Price:  GG\n"
     ]
    },
    {
     "name": "stdout",
     "output_type": "stream",
     "text": [
      "++++++++++++++++++++ PRODUCT PRICE ++++++++++++++++++++\n",
      "('The value type of your input is : ', <type 'str'>)\n",
      "Try with a number\n",
      "('The value type of your input is : ', <type 'str'>)\n",
      "I Dare you, insert a NUMBER as Product Price\n"
     ]
    },
    {
     "name": "stdin",
     "output_type": "stream",
     "text": [
      "Insert Product Price:  n1\n"
     ]
    },
    {
     "name": "stdout",
     "output_type": "stream",
     "text": [
      "A random value will be selected..........\n",
      "The number is: 284.0\n",
      "<type 'float'>\n"
     ]
    }
   ],
   "source": [
    "# Get Product Price\n",
    "print(\"Welcome to the IVA CALCULATOR 3000\")\n",
    "product_price = c1.Integer_Values(raw_input(\"Please select your Product Price: \"))\n",
    "print(type(product_price))"
   ]
  },
  {
   "cell_type": "markdown",
   "metadata": {},
   "source": [
    "#### Selecting your IVA"
   ]
  },
  {
   "cell_type": "code",
   "execution_count": 27,
   "metadata": {},
   "outputs": [
    {
     "name": "stdin",
     "output_type": "stream",
     "text": [
      "Select your IVA value between,21%, 10%, 4%:  21\n"
     ]
    },
    {
     "name": "stdout",
     "output_type": "stream",
     "text": [
      "The IVA TAXES are : 21%\n",
      "<type 'int'>\n"
     ]
    }
   ],
   "source": [
    "# Select your IVA\n",
    "IVA = c1.IVA_Selection(raw_input(\"Select your IVA value between,21%, 10%, 4%: \"))\n",
    "print(type(IVA))"
   ]
  },
  {
   "cell_type": "markdown",
   "metadata": {},
   "source": [
    "#### Get IVA TAXES"
   ]
  },
  {
   "cell_type": "code",
   "execution_count": 28,
   "metadata": {},
   "outputs": [
    {
     "name": "stdout",
     "output_type": "stream",
     "text": [
      "The IVA_Taxes is: 59€\n"
     ]
    }
   ],
   "source": [
    "# Get IVA Taxes\n",
    "taxes = c1.IVA_Taxes(product_price,IVA)"
   ]
  },
  {
   "cell_type": "markdown",
   "metadata": {},
   "source": [
    "#### Total Amount"
   ]
  },
  {
   "cell_type": "code",
   "execution_count": 29,
   "metadata": {},
   "outputs": [
    {
     "name": "stdout",
     "output_type": "stream",
     "text": [
      "The Final Price is: 343.0€\n"
     ]
    }
   ],
   "source": [
    "# Total_Amount\n",
    "\n",
    "Total_Amount = c1.Total_Amount(product_price,taxes)\n",
    "print(\"The Final Price is: \" + str(Total_Amount) + \"€\")"
   ]
  },
  {
   "cell_type": "code",
   "execution_count": null,
   "metadata": {},
   "outputs": [],
   "source": []
  }
 ],
 "metadata": {
  "kernelspec": {
   "display_name": "Python 3",
   "language": "python",
   "name": "python3"
  },
  "language_info": {
   "codemirror_mode": {
    "name": "ipython",
    "version": 2
   },
   "file_extension": ".py",
   "mimetype": "text/x-python",
   "name": "python",
   "nbconvert_exporter": "python",
   "pygments_lexer": "ipython2",
   "version": "2.7.15+"
  }
 },
 "nbformat": 4,
 "nbformat_minor": 2
}
