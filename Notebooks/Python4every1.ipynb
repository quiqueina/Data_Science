{
 "cells": [
  {
   "cell_type": "code",
   "execution_count": 12,
   "metadata": {
    "collapsed": true
   },
   "outputs": [],
   "source": [
    "import pandas as pd\n",
    "import numpy as np\n",
    "import json\n",
    "import random"
   ]
  },
  {
   "cell_type": "code",
   "execution_count": 2,
   "metadata": {},
   "outputs": [
    {
     "data": {
      "text/plain": [
       "5"
      ]
     },
     "execution_count": 2,
     "metadata": {},
     "output_type": "execute_result"
    }
   ],
   "source": [
    "#  Write a Python function to find the Max of three numbers\n",
    "numeritos = [1,2,3,4,5]\n",
    "max(numeritos)"
   ]
  },
  {
   "cell_type": "code",
   "execution_count": 3,
   "metadata": {},
   "outputs": [
    {
     "data": {
      "text/plain": [
       "15"
      ]
     },
     "execution_count": 3,
     "metadata": {},
     "output_type": "execute_result"
    }
   ],
   "source": [
    "# Write a Python function to sum all the numbers in a list\n",
    "def suma_listas(list):\n",
    "    total = 0\n",
    "    for elem in list:\n",
    "        total += elem\n",
    "    \n",
    "    return total\n",
    "    \n",
    "        \n",
    "suma_listas(numeritos)"
   ]
  },
  {
   "cell_type": "code",
   "execution_count": 4,
   "metadata": {},
   "outputs": [
    {
     "data": {
      "text/plain": [
       "120"
      ]
     },
     "execution_count": 4,
     "metadata": {},
     "output_type": "execute_result"
    }
   ],
   "source": [
    "# Write a Python function to multiply all the numbers in a list.\n",
    "def multiplica_listas(list):\n",
    "    total = 1\n",
    "    for elem in list:\n",
    "        total *= elem\n",
    "        \n",
    "    return total\n",
    "\n",
    "multiplica_listas(numeritos)"
   ]
  },
  {
   "cell_type": "code",
   "execution_count": 5,
   "metadata": {},
   "outputs": [
    {
     "data": {
      "text/plain": [
       "'aniekiK'"
      ]
     },
     "execution_count": 5,
     "metadata": {},
     "output_type": "execute_result"
    }
   ],
   "source": [
    "# Write a Python program to reverse a string\n",
    "def string_reverse(string):\n",
    "    cadena = \"\"\n",
    "    index = len(string)\n",
    "    while index > 0:\n",
    "        cadena += string[index-1]\n",
    "        index = index -1\n",
    "    return cadena\n",
    "\n",
    "string_reverse(\"Kikeina\")"
   ]
  },
  {
   "cell_type": "code",
   "execution_count": 6,
   "metadata": {
    "collapsed": true
   },
   "outputs": [],
   "source": [
    "# Write a Python function to calculate the factorial of a number (a non-negative integer).\n",
    "# The function accepts the number as an argument.\n",
    "def factorial(integer):\n",
    "    total = 0\n",
    "    while total:\n",
    "        integer\n",
    "\n"
   ]
  },
  {
   "cell_type": "code",
   "execution_count": 10,
   "metadata": {},
   "outputs": [
    {
     "name": "stdout",
     "output_type": "stream",
     "text": [
      "[4, 16, 36, 64, 100]\n"
     ]
    }
   ],
   "source": [
    "# Let’s say I give you a list saved in a variable: a = [1, 4, 9, 16, 25, 36, 49, 64, 81, 100].\n",
    "# Write one line of Python that takes this list a and makes a new list that has only the even elements \n",
    "# of this list in it.\n",
    "\n",
    "a = [1, 4, 9, 16, 25, 36, 49, 64, 81, 100]\n",
    "b = list()\n",
    "\n",
    "for elem in a: \n",
    "    if elem % 2 != 0:\n",
    "        pass\n",
    "    else:\n",
    "        b.append(elem)\n",
    "        \n",
    "print(b)"
   ]
  },
  {
   "cell_type": "markdown",
   "metadata": {
    "collapsed": true
   },
   "source": [
    "### Rock Paper Scissors   \n",
    "\n",
    "Make a two-player Rock-Paper-Scissors game. (Hint: Ask for player plays (using input), compare them,\n",
    "print out a message of congratulations to the winner, and ask if the players want to start a new game)\n",
    "\n",
    "Remember the rules:\n",
    "\n",
    "Rock beats scissors\n",
    "Scissors beats paper\n",
    "Paper beats rock\n",
    "Discussion"
   ]
  },
  {
   "cell_type": "code",
   "execution_count": null,
   "metadata": {},
   "outputs": [],
   "source": [
    "print(\"GREETINGS!! WELCOME TO THE BEST GAME EVER !!\")\n",
    "choose = input(\"Let's play a game, bet to your best choice between: Piedra / Papel / Tijera:\" )\n",
    "print(\"Has escogido: \" + choose)\n",
    "\n",
    "ppt = ['Piedra', \"piedra\",\"Papel\", \"papel\", \"Tijera\", \"tijera\"]\n",
    "piedra = ['Piedra', \"piedra\"]\n",
    "papel = [\"Papel\",\"papel\"]\n",
    "tijera = [\"Tijera\", \"tijera\"]\n",
    "\n",
    "stop = False\n",
    "    \n",
    "for choose in ppt: \n",
    "    print(\"The value is correct, let me think fastly\")\n",
    "    choice = random.choice(ppt)\n",
    "    print(\"Choice: \" + choice)\n",
    "    \n",
    "    if choice == choose:\n",
    "        print(\"Estemos empataos\")\n",
    "        \n",
    "    elif choose in piedra and choice in tijera:\n",
    "        print(\"Gana el Player1\")\n",
    "        \n",
    "    elif choose in piedra and choice in papel:\n",
    "        print(\"Gana el Player2\")\n",
    "        \n",
    "    elif choose in piedra and choice in piedra:\n",
    "        print(\"It's a tie, piedrecilla\")\n",
    "        \n",
    "        \n",
    "    elif choose in papel and choice in tijera:\n",
    "        print(\"Gana el Player2\")\n",
    "    \n",
    "    elif choose in papel and choice in piedra:\n",
    "        print(\"Gana el Player1\")\n",
    "    \n",
    "    elif choose in papel and choice in papel:\n",
    "        print(\"Haztelo gordo con esos papeles\")\n",
    "        \n",
    "        \n",
    "    elif choose in tijera and choice in papel:\n",
    "        print(\"Gana el Player1\")\n",
    "        \n",
    "    elif choose in tijera and choice in piedra:\n",
    "        print(\"Gana el Player2\")\n",
    "        \n",
    "    elif choose in tijera and choice in tijera:\n",
    "        print(\"Saca la arfaca\")\n",
    "\n",
    "    else:\n",
    "        print(\"A joder a tu puta casa\")\n",
    "        break"
   ]
  },
  {
   "cell_type": "code",
   "execution_count": null,
   "metadata": {
    "collapsed": true
   },
   "outputs": [],
   "source": []
  },
  {
   "cell_type": "code",
   "execution_count": null,
   "metadata": {
    "collapsed": true
   },
   "outputs": [],
   "source": []
  },
  {
   "cell_type": "code",
   "execution_count": null,
   "metadata": {
    "collapsed": true
   },
   "outputs": [],
   "source": []
  },
  {
   "cell_type": "code",
   "execution_count": null,
   "metadata": {
    "collapsed": true
   },
   "outputs": [],
   "source": []
  },
  {
   "cell_type": "code",
   "execution_count": null,
   "metadata": {
    "collapsed": true
   },
   "outputs": [],
   "source": []
  },
  {
   "cell_type": "code",
   "execution_count": null,
   "metadata": {
    "collapsed": true
   },
   "outputs": [],
   "source": []
  },
  {
   "cell_type": "code",
   "execution_count": null,
   "metadata": {
    "collapsed": true
   },
   "outputs": [],
   "source": []
  },
  {
   "cell_type": "code",
   "execution_count": null,
   "metadata": {
    "collapsed": true
   },
   "outputs": [],
   "source": []
  },
  {
   "cell_type": "code",
   "execution_count": null,
   "metadata": {
    "collapsed": true
   },
   "outputs": [],
   "source": []
  },
  {
   "cell_type": "code",
   "execution_count": null,
   "metadata": {
    "collapsed": true
   },
   "outputs": [],
   "source": []
  },
  {
   "cell_type": "code",
   "execution_count": null,
   "metadata": {
    "collapsed": true
   },
   "outputs": [],
   "source": []
  }
 ],
 "metadata": {
  "kernelspec": {
   "display_name": "Python 3",
   "language": "python",
   "name": "python3"
  },
  "language_info": {
   "codemirror_mode": {
    "name": "ipython",
    "version": 3
   },
   "file_extension": ".py",
   "mimetype": "text/x-python",
   "name": "python",
   "nbconvert_exporter": "python",
   "pygments_lexer": "ipython3",
   "version": "3.6.8"
  }
 },
 "nbformat": 4,
 "nbformat_minor": 2
}
