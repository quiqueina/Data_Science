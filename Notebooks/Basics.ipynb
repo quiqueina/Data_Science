{
 "cells": [
  {
   "cell_type": "markdown",
   "metadata": {},
   "source": [
    "# LEARNING !!!! "
   ]
  },
  {
   "cell_type": "markdown",
   "metadata": {},
   "source": [
    "# Lambda Function"
   ]
  },
  {
   "cell_type": "code",
   "execution_count": 5,
   "metadata": {},
   "outputs": [
    {
     "data": {
      "text/plain": [
       "array([[101, 102, 103],\n",
       "       [104, 105, 106],\n",
       "       [107, 108, 109]])"
      ]
     },
     "execution_count": 5,
     "metadata": {},
     "output_type": "execute_result"
    }
   ],
   "source": [
    "# Load library\n",
    "import numpy as np\n",
    "matrix = np.array([[1, 2, 3],\n",
    "                   [4, 5, 6],\n",
    "                   [7, 8, 9]])\n",
    "# Create a function that adds 100 to something\n",
    "add_100 = lambda i: i + 100\n",
    "\n",
    "# Create a vectorized function\n",
    "vectorized_add_100 = np.vectorize(add_100)\n",
    "# Apply function to all elements in matrix\n",
    "vectorized_add_100(matrix)"
   ]
  },
  {
   "cell_type": "markdown",
   "metadata": {},
   "source": [
    "# Loading Features From Dictionaries"
   ]
  },
  {
   "cell_type": "code",
   "execution_count": 17,
   "metadata": {
    "collapsed": true
   },
   "outputs": [],
   "source": [
    "# Load library\n",
    "from sklearn.feature_extraction import DictVectorizer"
   ]
  },
  {
   "cell_type": "code",
   "execution_count": 22,
   "metadata": {
    "collapsed": true
   },
   "outputs": [],
   "source": [
    "# Create A Dictionary\n",
    "staff = [{'name': 'Kike', 'age': '29.'},\n",
    "         {'name': 'Enrique', 'age':89.},\n",
    "         {'name': 'Pedrizzy', 'age': '19.'}]"
   ]
  },
  {
   "cell_type": "code",
   "execution_count": 23,
   "metadata": {
    "collapsed": true
   },
   "outputs": [],
   "source": [
    "# Convert Dictionary To Feature Matrix\n",
    "# Create an object for our dictionary vectorizer\n",
    "vec = DictVectorizer()"
   ]
  },
  {
   "cell_type": "code",
   "execution_count": 24,
   "metadata": {},
   "outputs": [
    {
     "data": {
      "text/plain": [
       "array([[  0.,   0.,   1.,   0.,   1.,   0.],\n",
       "       [ 89.,   0.,   0.,   1.,   0.,   0.],\n",
       "       [  0.,   1.,   0.,   0.,   0.,   1.]])"
      ]
     },
     "execution_count": 24,
     "metadata": {},
     "output_type": "execute_result"
    }
   ],
   "source": [
    "# Fit then transform the staff dictionary with vec, then output an array\n",
    "vec.fit_transform(staff).toarray()"
   ]
  },
  {
   "cell_type": "code",
   "execution_count": 25,
   "metadata": {},
   "outputs": [
    {
     "data": {
      "text/plain": [
       "['age', 'age=19.', 'age=29.', 'name=Enrique', 'name=Kike', 'name=Pedrizzy']"
      ]
     },
     "execution_count": 25,
     "metadata": {},
     "output_type": "execute_result"
    }
   ],
   "source": [
    "# View Feature Names\n",
    "# Get Feature Names\n",
    "vec.get_feature_names()"
   ]
  },
  {
   "cell_type": "markdown",
   "metadata": {},
   "source": [
    "# Loading scikit-learn's Boston Housing Dataset\n"
   ]
  },
  {
   "cell_type": "code",
   "execution_count": 28,
   "metadata": {
    "collapsed": true
   },
   "outputs": [],
   "source": [
    "# Load libraries\n",
    "from sklearn import datasets\n",
    "import matplotlib.pyplot as plt "
   ]
  },
  {
   "cell_type": "code",
   "execution_count": 51,
   "metadata": {},
   "outputs": [
    {
     "data": {
      "text/plain": [
       "['0.006320',\n",
       " '18.000000',\n",
       " '2.310000',\n",
       " '0.000000',\n",
       " '0.538000',\n",
       " '6.575000',\n",
       " '65.200000',\n",
       " '4.090000',\n",
       " '1.000000',\n",
       " '296.000000',\n",
       " '15.300000',\n",
       " '396.900000',\n",
       " '4.980000']"
      ]
     },
     "execution_count": 51,
     "metadata": {},
     "output_type": "execute_result"
    }
   ],
   "source": [
    "#Load Boston Housing Dataset\n",
    "# Load digits dataset\n",
    "boston = datasets.load_boston()\n",
    "boston.keys()\n",
    "# Create feature matrix\n",
    "X = boston.data\n",
    "\n",
    "# Create target vector\n",
    "y = boston.target\n",
    "\n",
    "# View the first observation's feature values\n",
    "X[0]\n",
    "\n",
    "\n",
    "# Display each feature value of the first observation as floats\n",
    "['{:f}'.format(x) for x in X[0]]"
   ]
  },
  {
   "cell_type": "markdown",
   "metadata": {},
   "source": [
    "# Format examples\n",
    "\n",
    "This section contains examples of the str.format() syntax and comparison with the old %-formatting.\n",
    "\n",
    "In most of the cases the syntax is similar to the old %-formatting, with the addition of the {} and with : used instead of %. For example, '%03.2f' can be translated to '{:03.2f}'.\n",
    "\n",
    "The new format syntax also supports new and different options, shown in the follow examples.\n",
    "\n",
    "https://docs.python.org/3/library/string.html"
   ]
  },
  {
   "cell_type": "markdown",
   "metadata": {},
   "source": [
    "# Loading scikit-learn's Digits Dataset\n"
   ]
  },
  {
   "cell_type": "code",
   "execution_count": 52,
   "metadata": {
    "collapsed": true
   },
   "outputs": [],
   "source": [
    "# Load libraries\n",
    "from sklearn import datasets\n",
    "import matplotlib.pyplot as plt"
   ]
  },
  {
   "cell_type": "code",
   "execution_count": 53,
   "metadata": {},
   "outputs": [
    {
     "data": {
      "text/plain": [
       "array([  0.,   0.,   5.,  13.,   9.,   1.,   0.,   0.,   0.,   0.,  13.,\n",
       "        15.,  10.,  15.,   5.,   0.,   0.,   3.,  15.,   2.,   0.,  11.,\n",
       "         8.,   0.,   0.,   4.,  12.,   0.,   0.,   8.,   8.,   0.,   0.,\n",
       "         5.,   8.,   0.,   0.,   9.,   8.,   0.,   0.,   4.,  11.,   0.,\n",
       "         1.,  12.,   7.,   0.,   0.,   2.,  14.,   5.,  10.,  12.,   0.,\n",
       "         0.,   0.,   0.,   6.,  13.,  10.,   0.,   0.,   0.])"
      ]
     },
     "execution_count": 53,
     "metadata": {},
     "output_type": "execute_result"
    }
   ],
   "source": [
    "# Load digits dataset\n",
    "digits = datasets.load_digits()\n",
    "\n",
    "# Create feature matrix\n",
    "X = digits.data\n",
    "\n",
    "# Create target vector\n",
    "y = digits.target\n",
    "\n",
    "# View the first observation's feature values\n",
    "X[0]"
   ]
  },
  {
   "cell_type": "code",
   "execution_count": 54,
   "metadata": {},
   "outputs": [
    {
     "data": {
      "text/plain": [
       "array([[  0.,   0.,   5.,  13.,   9.,   1.,   0.,   0.],\n",
       "       [  0.,   0.,  13.,  15.,  10.,  15.,   5.,   0.],\n",
       "       [  0.,   3.,  15.,   2.,   0.,  11.,   8.,   0.],\n",
       "       [  0.,   4.,  12.,   0.,   0.,   8.,   8.,   0.],\n",
       "       [  0.,   5.,   8.,   0.,   0.,   9.,   8.,   0.],\n",
       "       [  0.,   4.,  11.,   0.,   1.,  12.,   7.,   0.],\n",
       "       [  0.,   2.,  14.,   5.,  10.,  12.,   0.,   0.],\n",
       "       [  0.,   0.,   6.,  13.,  10.,   0.,   0.,   0.]])"
      ]
     },
     "execution_count": 54,
     "metadata": {},
     "output_type": "execute_result"
    }
   ],
   "source": [
    "# View the first observation's feature values as a matrix\n",
    "digits.images[0]"
   ]
  },
  {
   "cell_type": "code",
   "execution_count": 55,
   "metadata": {},
   "outputs": [
    {
     "data": {
      "text/plain": [
       "<matplotlib.figure.Figure at 0x7f7bb7fef7b8>"
      ]
     },
     "metadata": {},
     "output_type": "display_data"
    },
    {
     "data": {
      "image/png": "[encoded data removed]",
      "text/plain": [
       "<matplotlib.figure.Figure at 0x7f7bb7fef748>"
      ]
     },
     "metadata": {},
     "output_type": "display_data"
    }
   ],
   "source": [
    "# Visualize the first observation's feature values as an image\n",
    "plt.gray() \n",
    "plt.matshow(digits.images[0]) \n",
    "plt.show()"
   ]
  },
  {
   "cell_type": "markdown",
   "metadata": {
    "collapsed": true
   },
   "source": [
    "# Loading scikit-learn's Iris Dataset"
   ]
  },
  {
   "cell_type": "code",
   "execution_count": 18,
   "metadata": {
    "collapsed": true
   },
   "outputs": [],
   "source": [
    "# Load libraries\n",
    "from sklearn import datasets\n",
    "import matplotlib.pyplot as plt "
   ]
  },
  {
   "cell_type": "code",
   "execution_count": 19,
   "metadata": {},
   "outputs": [
    {
     "data": {
      "text/plain": [
       "array([ 5.1,  3.5,  1.4,  0.2])"
      ]
     },
     "execution_count": 19,
     "metadata": {},
     "output_type": "execute_result"
    }
   ],
   "source": [
    "# Load digits dataset\n",
    "iris = datasets.load_iris()\n",
    "\n",
    "# Create feature matrix\n",
    "X = iris.data\n",
    "\n",
    "# Create target vector\n",
    "y = iris.target\n",
    "\n",
    "# View the first observation's feature values\n",
    "X[0]"
   ]
  },
  {
   "cell_type": "code",
   "execution_count": 20,
   "metadata": {},
   "outputs": [
    {
     "data": {
      "text/plain": [
       "dict_keys(['data', 'target', 'target_names', 'DESCR', 'feature_names'])"
      ]
     },
     "execution_count": 20,
     "metadata": {},
     "output_type": "execute_result"
    }
   ],
   "source": [
    "iris.keys()"
   ]
  },
  {
   "cell_type": "code",
   "execution_count": 21,
   "metadata": {
    "collapsed": true
   },
   "outputs": [],
   "source": [
    "plt.gray() \n",
    "#plt.matshow(iris.data[0]) \n",
    "#plt.show()"
   ]
  },
  {
   "cell_type": "markdown",
   "metadata": {
    "collapsed": true
   },
   "source": [
    "# Make Simulated Data For Classification\n"
   ]
  },
  {
   "cell_type": "code",
   "execution_count": 46,
   "metadata": {
    "collapsed": true
   },
   "outputs": [],
   "source": [
    "from sklearn.datasets import make_classification\n",
    "import pandas as pd"
   ]
  },
  {
   "cell_type": "code",
   "execution_count": 47,
   "metadata": {
    "collapsed": true
   },
   "outputs": [],
   "source": [
    " #Create Simulated Data\n",
    "# Create a simulated feature matrix and output vector with 100 samples,\n",
    "features, output = make_classification(n_samples = 100,\n",
    "                                       # ten features\n",
    "                                       n_features = 10,\n",
    "                                       # five features that actually predict the output's classes\n",
    "                                       n_informative = 5,\n",
    "                                       # five features that are random and unrelated to the output's classes\n",
    "                                       n_redundant = 5,\n",
    "                                       # three output classes\n",
    "                                       n_classes = 3,\n",
    "                                       # with 20% of observations0 in the first class, 30% in the second class,\n",
    "                                       # and 50% in the third class. ('None' makes balanced classes)\n",
    "                                       weights = [.2, .3, .8])"
   ]
  },
  {
   "cell_type": "code",
   "execution_count": 48,
   "metadata": {},
   "outputs": [
    {
     "data": {
      "text/plain": [
       "array([1, 0, 2, 2, 2, 2, 0, 2, 2, 0, 2, 2, 2, 1, 0, 2, 2, 2, 1, 1, 2, 2, 2,\n",
       "       2, 1, 0, 1, 2, 0, 2, 1, 2, 2, 2, 1, 2, 2, 1, 1, 1, 0, 1, 1, 1, 0, 2,\n",
       "       1, 2, 2, 1, 1, 2, 1, 0, 1, 2, 1, 0, 0, 2, 0, 0, 2, 2, 2, 2, 1, 2, 2,\n",
       "       0, 2, 2, 1, 1, 0, 0, 2, 1, 1, 2, 1, 2, 2, 2, 1, 0, 1, 1, 1, 0, 2, 2,\n",
       "       2, 2, 2, 2, 2, 2, 0, 0])"
      ]
     },
     "execution_count": 48,
     "metadata": {},
     "output_type": "execute_result"
    }
   ],
   "source": [
    "output"
   ]
  },
  {
   "cell_type": "code",
   "execution_count": 49,
   "metadata": {},
   "outputs": [
    {
     "data": {
      "text/plain": [
       "array([[  1.44141389e+00,  -9.16707615e-01,  -7.75031768e-01,\n",
       "          1.36147100e-02,   6.01058700e-01,   7.13131925e-01,\n",
       "         -9.91838272e-01,   3.42016538e+00,  -8.12027808e-01,\n",
       "          2.43142703e+00],\n",
       "       [ -2.21967191e+00,   1.71567114e+00,   3.08847976e-01,\n",
       "          2.50458326e+00,  -2.53294014e+00,   1.17358533e+00,\n",
       "          3.06570568e+00,  -4.45839276e-01,  -9.40863299e-01,\n",
       "         -6.84564194e-02],\n",
       "       [  9.18231290e-01,  -7.55629356e-01,  -6.09109584e-02,\n",
       "         -3.30706540e-01,   1.53225583e+00,  -6.75978703e-01,\n",
       "         -1.50814605e+00,  -4.04230138e-01,   2.42208572e+00,\n",
       "         -5.42382892e-01],\n",
       "       [ -3.89103453e+00,   4.59895230e+00,   2.82096153e+00,\n",
       "          5.74542728e+00,  -2.86654696e+00,   1.59720855e+00,\n",
       "          2.67373081e+00,  -3.68316154e+00,   4.49034221e-01,\n",
       "         -1.43965086e+00],\n",
       "       [ -3.49371537e-01,   1.98199233e+00,  -2.46641302e-01,\n",
       "          6.67257807e-01,  -5.77641735e-01,   1.73561068e+00,\n",
       "          3.60692290e+00,  -6.47204254e-01,   3.10996910e-01,\n",
       "         -1.77532017e+00],\n",
       "       [ -9.63078726e-01,  -3.73078141e-01,   9.71265304e-02,\n",
       "          1.70313387e+00,  -1.19858145e+00,  -6.37529463e-02,\n",
       "         -4.04112651e-01,   1.11781885e+00,  -4.88285634e-01,\n",
       "          1.77342144e+00],\n",
       "       [ -7.92297482e-01,   9.43102085e-01,   2.11792529e+00,\n",
       "          3.70161062e+00,  -1.00366915e-01,   2.54462070e-02,\n",
       "         -3.36273124e+00,   3.32076205e-01,   3.04282705e-01,\n",
       "          2.36126881e+00],\n",
       "       [  8.12700530e-01,  -1.87360151e+00,  -2.37622065e+00,\n",
       "         -2.39422459e+00,   1.96186994e-01,  -2.97246743e-01,\n",
       "          2.29993933e+00,   8.59051419e-01,   1.18363757e+00,\n",
       "         -1.08432392e+00],\n",
       "       [  7.83715625e-01,  -3.12399788e+00,  -1.54099865e+00,\n",
       "         -1.10953989e+00,   5.81800128e-01,  -1.49981455e+00,\n",
       "         -1.60338431e+00,   1.79454102e+00,   1.54206770e+00,\n",
       "          1.33107453e+00],\n",
       "       [ -1.70394259e+00,   1.73789091e+00,   1.68180296e-01,\n",
       "          2.84518481e+00,  -2.34234427e+00,   1.72775615e+00,\n",
       "          2.84598094e+00,   8.82835876e-01,  -1.31441189e+00,\n",
       "          8.71410381e-01],\n",
       "       [  1.47075949e+00,  -2.82664659e+00,  -1.67491124e-01,\n",
       "         -1.79725620e+00,   1.48993341e+00,  -1.93397909e+00,\n",
       "         -4.65657736e+00,   1.69505425e+00,  -5.18998434e-01,\n",
       "          2.35425573e+00],\n",
       "       [  1.24304097e+00,   8.12089738e-01,  -3.64391468e-02,\n",
       "         -1.29998803e-01,   1.74291142e+00,   6.91482091e-01,\n",
       "          4.38495127e-01,  -7.08125474e-01,   2.55200013e+00,\n",
       "         -1.74511611e+00],\n",
       "       [ -4.23708909e+00,   1.84936442e+00,   1.23565799e+00,\n",
       "          4.82873698e+00,  -4.37397991e+00,   6.51828175e-01,\n",
       "          2.36108843e+00,  -7.63574480e-01,  -1.70973932e+00,\n",
       "          1.35764558e+00],\n",
       "       [  2.35470670e+00,  -1.30239171e+00,  -1.39396269e+00,\n",
       "         -1.81273195e+00,   1.51448800e+00,   5.46309593e-01,\n",
       "         -5.23198910e-01,   3.00847932e+00,  -3.37168899e-01,\n",
       "          1.19978747e+00],\n",
       "       [ -7.69647991e-01,   1.54619762e+00,   9.24023602e-01,\n",
       "          1.18922370e+00,  -7.87042724e-01,   7.79316817e-01,\n",
       "          5.74489109e-01,  -4.63330324e-01,  -1.28853302e+00,\n",
       "          9.56651493e-02],\n",
       "       [ -3.21182579e+00,   1.48059054e-01,   7.86678165e-01,\n",
       "          3.18823457e+00,  -3.11762512e+00,  -6.01385094e-01,\n",
       "          4.10666190e-01,  -6.11723768e-01,  -8.24342130e-01,\n",
       "          1.45838466e+00],\n",
       "       [ -2.09020301e+00,   2.52519899e+00,   8.04585162e-01,\n",
       "          3.20958776e+00,  -1.91059239e+00,   1.46471810e+00,\n",
       "          3.01909851e+00,  -1.33098325e+00,   4.68688221e-01,\n",
       "         -9.33497959e-01],\n",
       "       [ -4.26279256e+00,   2.37876932e+00,   2.17617678e+00,\n",
       "          5.74088729e+00,  -3.64606341e+00,   3.84525923e-01,\n",
       "          1.03291252e+00,  -1.90919052e+00,  -2.80204102e-01,\n",
       "          9.11548271e-01],\n",
       "       [ -1.31764193e-01,   3.63872173e-01,  -1.10954838e+00,\n",
       "          1.34954812e-01,  -7.42635488e-01,   1.10826753e+00,\n",
       "          2.99669031e+00,   7.64350455e-01,   1.86479312e-01,\n",
       "         -5.70862161e-01],\n",
       "       [  3.20984638e+00,  -1.05798545e+00,  -1.44863536e+00,\n",
       "         -1.10882083e+00,   2.10755971e+00,   1.39917028e+00,\n",
       "         -9.42327815e-01,   4.60462742e+00,  -2.10199692e-01,\n",
       "          2.21824742e+00],\n",
       "       [ -1.31210426e+00,   2.45582440e+00,   2.97110921e+00,\n",
       "          5.14256628e+00,   5.16363162e-01,   2.23395819e-01,\n",
       "         -2.63206919e+00,  -2.38790232e+00,   3.53957926e+00,\n",
       "         -9.16082345e-02],\n",
       "       [ -5.92280973e-01,   1.66548575e-01,  -1.51668244e-01,\n",
       "          8.34386897e-01,  -4.25725643e-01,   8.20799843e-02,\n",
       "          9.48973538e-01,  -4.78456020e-01,   1.16926232e+00,\n",
       "         -5.29610053e-01],\n",
       "       [ -1.17135873e+00,   6.37706839e+00,   3.45859892e+00,\n",
       "          4.77404200e+00,   4.35987746e-01,   2.96168381e+00,\n",
       "          2.00570630e+00,  -4.27630498e+00,   2.30818109e+00,\n",
       "         -3.40535822e+00],\n",
       "       [ -4.80621274e-01,   8.34393018e-02,  -2.44923480e-01,\n",
       "         -1.51222657e+00,  -8.15932690e-01,  -1.81517107e-01,\n",
       "          1.29771522e+00,  -7.61845474e-01,  -1.90737567e+00,\n",
       "         -7.57929133e-01],\n",
       "       [  9.93902272e-01,  -7.80014252e-01,  -2.53081362e+00,\n",
       "         -8.67727886e-01,  -8.04078564e-02,   1.31174328e+00,\n",
       "          3.70445422e+00,   2.31963167e+00,   1.16423456e+00,\n",
       "         -4.64789404e-01],\n",
       "       [  1.20097611e-01,   2.63314450e+00,   5.35784447e-01,\n",
       "         -1.12030779e+00,  -3.88882390e-01,   1.76723651e+00,\n",
       "          2.70299271e+00,  -9.27415650e-01,  -3.08688823e+00,\n",
       "         -1.58065232e+00],\n",
       "       [  5.98697606e+00,  -1.36118018e+00,  -2.22228826e+00,\n",
       "         -2.58439131e+00,   4.66090641e+00,   2.25213234e+00,\n",
       "         -1.64475434e+00,   6.37358906e+00,   9.91882728e-01,\n",
       "          2.12361667e+00],\n",
       "       [ -3.42375555e+00,   3.78962058e+00,   2.50156965e+00,\n",
       "          5.25124602e+00,  -2.69662288e+00,   1.37296482e+00,\n",
       "          1.83977463e+00,  -2.54984647e+00,  -1.81996010e-01,\n",
       "         -4.20215914e-01],\n",
       "       [  5.20399859e-01,   3.57033061e-01,  -2.12363039e-01,\n",
       "         -1.44450185e+00,   1.30575989e+00,  -3.42847136e-01,\n",
       "          1.09327600e+00,  -2.59578313e+00,   2.61095332e+00,\n",
       "         -3.24063319e+00],\n",
       "       [ -1.60584749e+00,   2.51460568e+00,   1.33054758e+00,\n",
       "          3.19232658e+00,  -6.51682088e-01,   9.07471108e-01,\n",
       "          1.61275642e+00,  -2.51673684e+00,   2.37788048e+00,\n",
       "         -1.80066744e+00],\n",
       "       [ -2.29128615e+00,   2.57383728e+00,   1.37307401e+00,\n",
       "          3.01508014e+00,  -2.13653902e+00,   1.15661004e+00,\n",
       "          1.99093817e+00,  -1.40466487e+00,  -1.00234852e+00,\n",
       "         -2.83925406e-01],\n",
       "       [  7.12564798e-02,  -1.58024824e+00,  -1.58231538e+00,\n",
       "         -8.11557797e-01,  -6.33522813e-01,  -2.15870162e-01,\n",
       "          1.18135165e+00,   1.57110322e+00,  -4.82265783e-02,\n",
       "          6.36876099e-01],\n",
       "       [  2.23489504e+00,   2.89760715e+00,   5.32611306e-01,\n",
       "         -6.89514303e-01,   3.66804385e+00,   1.57593083e+00,\n",
       "          1.79850840e+00,  -3.47543047e+00,   5.22721814e+00,\n",
       "         -5.40155506e+00],\n",
       "       [  5.38994171e-01,   7.65133064e-03,   1.48692226e+00,\n",
       "         -1.75229782e+00,   8.76370402e-01,  -1.09291348e+00,\n",
       "         -3.37524030e+00,  -9.65837173e-01,  -2.70362207e+00,\n",
       "          5.41729404e-01],\n",
       "       [  5.55386300e+00,  -6.75805003e-01,  -2.41061826e+00,\n",
       "         -3.87972164e+00,   4.06691829e+00,   2.44449706e+00,\n",
       "          3.83457701e-01,   5.04220021e+00,  -1.36640138e-01,\n",
       "          5.11922319e-01],\n",
       "       [ -4.37214320e+00,   2.73266367e+00,   2.24981205e+00,\n",
       "          5.95446524e+00,  -3.88408534e+00,   7.09197071e-01,\n",
       "          1.40438839e+00,  -1.76163280e+00,  -7.39475533e-01,\n",
       "          1.01510881e+00],\n",
       "       [  2.14683954e-01,   1.15578627e-01,   2.18084628e+00,\n",
       "         -4.89699661e-01,   7.44354058e-01,  -1.21855995e+00,\n",
       "         -4.74328697e+00,  -6.75013402e-01,  -2.76361856e+00,\n",
       "          1.62692239e+00],\n",
       "       [  4.34135698e-01,  -2.62167905e-01,  -1.82018174e+00,\n",
       "          1.93916575e-01,  -3.04454589e-01,   1.24931217e+00,\n",
       "          3.17957375e+00,   1.70859973e+00,   1.40114316e+00,\n",
       "         -3.64564269e-01],\n",
       "       [  4.27630642e+00,  -2.03433224e+00,  -3.04447431e+00,\n",
       "         -2.00597344e+00,   2.82824183e+00,   1.72797163e+00,\n",
       "          4.70886592e-01,   5.74870509e+00,   1.61026020e+00,\n",
       "          1.64144574e+00],\n",
       "       [ -8.35575416e-01,   4.19622995e-02,  -2.34068858e+00,\n",
       "         -1.94987321e+00,  -1.48836667e+00,   6.30702450e-01,\n",
       "          6.31653525e+00,  -1.31042219e+00,   7.71589434e-01,\n",
       "         -3.45651043e+00],\n",
       "       [ -5.58606322e-01,   2.83813521e+00,   2.78133676e+00,\n",
       "          3.61825072e+00,   9.08990948e-02,   1.21154067e+00,\n",
       "         -2.23564973e+00,  -3.81628896e-01,  -7.88950406e-01,\n",
       "          1.36016636e+00],\n",
       "       [  1.54974802e+00,  -3.17036003e-01,  -7.98775035e-01,\n",
       "          3.65071454e-01,   1.24546350e+00,   9.43247101e-01,\n",
       "         -6.45968489e-02,   2.14043692e+00,   1.53209167e+00,\n",
       "          7.10695190e-01],\n",
       "       [  9.06393833e-01,  -1.13881684e+00,  -1.60564375e+00,\n",
       "         -3.54160919e-02,  -5.08374619e-01,   1.06563220e+00,\n",
       "          8.69742225e-01,   4.10550874e+00,  -1.50101680e+00,\n",
       "          2.57628303e+00],\n",
       "       [ -1.16899010e+00,  -4.93074862e-01,  -1.27715314e+00,\n",
       "          7.05610653e-01,  -1.53682838e+00,   1.79548888e-01,\n",
       "          2.89198530e+00,   1.99824663e-01,   1.07111194e+00,\n",
       "         -4.89338678e-01],\n",
       "       [  1.72366399e+00,   2.29271958e-02,   8.85199825e-01,\n",
       "         -2.43504043e+00,   1.91825537e+00,  -4.93754037e-01,\n",
       "         -2.84034893e+00,  -3.20983369e-01,  -1.81201767e+00,\n",
       "          1.79920735e-02],\n",
       "       [ -4.53833130e+00,   7.50084747e+00,   4.67577895e+00,\n",
       "          8.37797143e+00,  -2.96732337e+00,   3.02377488e+00,\n",
       "          2.89576552e+00,  -4.90576780e+00,   5.10701158e-01,\n",
       "         -1.90372697e+00],\n",
       "       [ -2.42413745e+00,   3.01312785e+00,   9.99336755e-01,\n",
       "          2.23183440e+00,  -2.26674485e+00,   1.38143215e+00,\n",
       "          3.76851529e+00,  -2.43420891e+00,  -7.28466035e-01,\n",
       "         -1.85682262e+00],\n",
       "       [ -3.87423331e-01,   6.96694643e-01,  -9.44223748e-01,\n",
       "         -8.27837265e-02,  -8.18888717e-01,   1.01876649e+00,\n",
       "          3.41484110e+00,  -1.48530569e-01,   2.71968849e-01,\n",
       "         -1.35298971e+00],\n",
       "       [ -8.95583058e-01,   1.99337332e+00,   2.73421207e-01,\n",
       "          1.46307146e+00,  -5.80146474e-01,   1.18843505e+00,\n",
       "          2.85927871e+00,  -1.64516380e+00,   1.41596126e+00,\n",
       "         -2.03652493e+00],\n",
       "       [  1.07883582e-01,  -1.70998641e+00,  -2.88977220e+00,\n",
       "         -1.25990215e+00,  -7.89074471e-01,   2.58145525e-01,\n",
       "          3.98486764e+00,   1.37904099e+00,   1.64380618e+00,\n",
       "         -9.50639684e-01],\n",
       "       [  1.67909223e-01,  -1.71421189e+00,  -2.98204328e+00,\n",
       "         -1.62569753e+00,  -8.34557155e-01,   2.88544191e-01,\n",
       "          4.18793375e+00,   1.40030220e+00,   1.24984537e+00,\n",
       "         -1.02991902e+00],\n",
       "       [  2.04774894e-01,   4.63524261e-01,  -3.50802669e-01,\n",
       "          6.23032606e-02,   3.45010113e-01,   4.81924113e-01,\n",
       "          1.34892377e+00,  -5.15837212e-01,   1.44479539e+00,\n",
       "         -1.25234991e+00],\n",
       "       [  2.97676372e+00,  -3.46205300e-01,  -1.91822154e-01,\n",
       "         -4.17013961e-01,   2.62580814e+00,   1.00300512e+00,\n",
       "         -2.50723924e+00,   3.14273004e+00,   3.47829065e-01,\n",
       "          1.82813790e+00],\n",
       "       [  1.51712582e+00,   5.52269271e-02,  -2.36865511e+00,\n",
       "         -2.75101429e+00,   1.37002573e+00,   9.56243794e-01,\n",
       "          4.78022677e+00,  -1.05288519e+00,   3.31598430e+00,\n",
       "         -4.28615716e+00],\n",
       "       [ -5.42337796e-01,   4.79352684e-01,  -1.96110249e+00,\n",
       "         -9.36593281e-01,  -1.01067968e+00,   1.03567783e+00,\n",
       "          5.70367898e+00,  -9.64828065e-01,   1.54207983e+00,\n",
       "         -3.09845100e+00],\n",
       "       [ -1.41780284e+00,   6.94906529e+00,   3.52762821e+00,\n",
       "          5.12707670e+00,   5.18294968e-01,   3.14039561e+00,\n",
       "          2.91460519e+00,  -5.32863947e+00,   3.54051911e+00,\n",
       "         -4.60328626e+00],\n",
       "       [  2.58166443e+00,   5.05553917e-01,   3.02934505e-02,\n",
       "         -2.23778912e+00,   2.71767577e+00,   6.07044512e-01,\n",
       "         -9.23138498e-01,   6.15722384e-02,   3.85859863e-01,\n",
       "         -1.19757270e+00],\n",
       "       [  1.58072860e-01,   1.45040954e+00,   2.01462241e-01,\n",
       "         -1.02319863e+00,  -3.23061079e-01,   1.06953888e+00,\n",
       "          1.65901002e+00,  -2.75907435e-01,  -2.43835629e+00,\n",
       "         -7.43433474e-01],\n",
       "       [  1.56165886e-01,   2.86960124e+00,  -1.54849762e+00,\n",
       "         -6.69150787e-01,  -5.09715567e-01,   3.04077576e+00,\n",
       "          7.65123235e+00,  -1.10330636e+00,   9.69986205e-01,\n",
       "         -4.26733586e+00],\n",
       "       [ -1.18542586e+00,   1.64980540e+00,   2.94982093e+00,\n",
       "          6.76167350e-01,  -7.66938548e-02,  -9.95298715e-01,\n",
       "         -3.15992829e+00,  -3.07890643e+00,  -1.96286473e+00,\n",
       "         -1.60298160e-01],\n",
       "       [ -3.76447244e-01,   3.60649023e+00,   2.29812726e+00,\n",
       "          3.72972625e+00,   3.52674642e-01,   2.01359477e+00,\n",
       "         -1.37305756e-01,  -9.80443546e-01,   7.87387731e-01,\n",
       "         -2.64668518e-01],\n",
       "       [  6.40623292e-01,   1.66069687e+00,   1.63214262e+00,\n",
       "          1.15538710e+00,   1.13686343e+00,   7.28195941e-01,\n",
       "         -1.87922423e+00,  -3.14031641e-01,  -1.87014463e-01,\n",
       "          3.20850206e-01],\n",
       "       [ -1.42188253e+00,   5.61085929e+00,   3.09930926e+00,\n",
       "          4.90001023e+00,  -4.56377723e-02,   2.64784532e+00,\n",
       "          1.80158756e+00,  -3.52294289e+00,   2.03544222e+00,\n",
       "         -2.55240077e+00],\n",
       "       [ -2.90702811e+00,   4.94066956e+00,   3.04233776e+00,\n",
       "          5.63444508e+00,  -1.73328473e+00,   1.97733420e+00,\n",
       "          1.93830177e+00,  -3.41602095e+00,   1.02386634e+00,\n",
       "         -1.53643588e+00],\n",
       "       [ -2.43136669e-01,   1.09353379e+00,   2.89654862e+00,\n",
       "          3.08864117e+00,   9.78512882e-01,  -4.93970048e-01,\n",
       "         -5.09995691e+00,  -6.46875370e-01,   5.03610820e-01,\n",
       "          1.93223247e+00],\n",
       "       [  5.87752127e-01,   1.04647915e+00,   5.65953030e-01,\n",
       "          7.11270626e-01,   1.62693984e+00,   2.47481371e-01,\n",
       "         -8.62196419e-02,  -1.86702505e+00,   3.48731871e+00,\n",
       "         -2.13851761e+00],\n",
       "       [ -1.00269951e+00,   7.47239754e-01,  -5.73158222e-01,\n",
       "          1.17308814e+00,  -1.29996087e+00,   9.18917826e-01,\n",
       "          2.92145621e+00,  -4.58337937e-02,   5.00469989e-01,\n",
       "         -6.59069527e-01],\n",
       "       [  2.13656459e+00,   1.01144536e+00,   3.16828987e-01,\n",
       "         -3.96510431e-01,   3.25909395e+00,   5.37326787e-01,\n",
       "         -5.81968305e-01,  -1.56158719e+00,   4.36221199e+00,\n",
       "         -2.73585668e+00],\n",
       "       [ -7.09914000e-01,  -1.85296228e+00,  -5.47564876e-01,\n",
       "          5.65862411e-01,  -5.45703527e-01,  -1.32697144e+00,\n",
       "         -1.00841109e+00,   3.71357179e-01,   1.36504050e+00,\n",
       "          9.44540708e-01],\n",
       "       [  6.60099448e-01,   2.17947327e+00,   1.61818495e+00,\n",
       "          3.72787111e-01,   1.26641699e+00,   8.45403985e-01,\n",
       "         -9.00727218e-01,  -1.38775216e+00,  -1.73511047e-01,\n",
       "         -1.00467031e+00],\n",
       "       [  4.21831243e+00,  -3.95220668e+00,  -1.06160057e+00,\n",
       "         -3.69267804e+00,   3.92501941e+00,  -1.68898578e+00,\n",
       "         -6.22316021e+00,   3.83532776e+00,   1.75473895e-01,\n",
       "          2.94761628e+00],\n",
       "       [ -1.40752518e+00,   1.25347359e+00,   4.16595131e-02,\n",
       "          1.37672455e+00,  -1.47468415e+00,   7.90094352e-01,\n",
       "          2.62028274e+00,  -8.75782095e-01,   7.70127769e-02,\n",
       "         -8.94803817e-01],\n",
       "       [  2.14768275e+00,  -1.30099014e+00,  -3.09403151e+00,\n",
       "         -1.23585836e+00,   4.85294234e-01,   1.86127660e+00,\n",
       "          3.19698471e+00,   4.50399528e+00,   4.89240766e-01,\n",
       "          8.99333215e-01],\n",
       "       [ -1.00378574e+00,   4.20121423e-01,   6.21197930e-01,\n",
       "          1.14075511e-01,  -1.21058042e+00,  -1.49301949e-01,\n",
       "         -5.15266786e-02,  -3.35651780e-01,  -2.36899401e+00,\n",
       "          6.18997237e-01],\n",
       "       [  1.57473307e-01,   3.77789346e+00,   2.74103484e+00,\n",
       "          3.82516869e+00,   2.88491449e-01,   2.55020413e+00,\n",
       "         -1.50219508e+00,   9.30405559e-01,  -1.86942135e+00,\n",
       "          1.87514786e+00],\n",
       "       [  4.22399567e-01,   1.74404462e+00,   1.97284077e+00,\n",
       "          2.64624011e+00,   1.71404605e+00,   4.42095282e-01,\n",
       "         -2.45423060e+00,  -1.26319255e+00,   2.81238523e+00,\n",
       "         -3.36297854e-01],\n",
       "       [  1.19110013e+00,   3.72397607e-01,  -3.58337727e-01,\n",
       "         -5.61735401e-01,   1.51910496e+00,   4.87874964e-01,\n",
       "          6.03885133e-01,  -4.80126816e-01,   2.21147304e+00,\n",
       "         -1.60202910e+00],\n",
       "       [ -2.82718716e+00,   1.58046705e-01,   5.47840794e-01,\n",
       "          2.55194282e+00,  -2.76278269e+00,  -5.02322034e-01,\n",
       "          7.80329594e-01,  -7.29656330e-01,  -6.56694963e-01,\n",
       "          9.29579360e-01],\n",
       "       [ -2.32069671e-01,  -1.69862446e-01,   9.13187152e-01,\n",
       "          9.30211026e-01,  -2.56013013e-01,  -3.33107387e-01,\n",
       "         -2.34589173e+00,   8.88721837e-01,  -1.49455225e+00,\n",
       "          2.06667800e+00],\n",
       "       [ -2.56981652e+00,   1.41407067e+00,   8.21214918e-01,\n",
       "          3.23959951e+00,  -2.60527458e+00,   6.26987531e-01,\n",
       "          1.65280135e+00,  -5.24541392e-01,  -7.58788409e-01,\n",
       "          6.76949554e-01],\n",
       "       [  1.06118142e+00,  -5.32452572e-01,   3.55570302e-01,\n",
       "          1.21579489e+00,   1.62984365e+00,  -2.10593298e-01,\n",
       "         -2.57118792e+00,   8.34486774e-01,   2.53316984e+00,\n",
       "          9.16830726e-01],\n",
       "       [ -2.24013521e+00,   3.70243212e+00,   1.23767942e+00,\n",
       "          3.59156780e+00,  -2.15214376e+00,   2.24154531e+00,\n",
       "          3.80581550e+00,  -1.57919142e+00,  -3.54205404e-01,\n",
       "         -1.22232143e+00],\n",
       "       [ -6.95278220e-01,  -2.40964770e-01,   2.36754250e+00,\n",
       "          1.16678524e-01,   1.57534481e-01,  -1.92950682e+00,\n",
       "         -5.00079441e+00,  -1.48240685e+00,  -2.13825796e+00,\n",
       "          1.55271215e+00],\n",
       "       [ -1.97226013e+00,   5.43231157e-01,   1.65841196e+00,\n",
       "          4.08169879e-01,  -1.14268979e+00,  -1.42678795e+00,\n",
       "         -1.23879415e+00,  -3.02606390e+00,  -1.09774269e+00,\n",
       "         -6.33187637e-01],\n",
       "       [ -5.68876258e-01,   6.52176989e-01,  -9.54817914e-01,\n",
       "          1.21361626e+00,  -9.44689440e-01,   1.22442011e+00,\n",
       "          3.26914015e+00,   4.47812869e-01,   1.23435015e+00,\n",
       "         -7.39344300e-01],\n",
       "       [ -2.97363995e-03,   2.96415632e+00,   1.42349700e+00,\n",
       "          1.47422158e+00,   2.58701900e-01,   1.76552326e+00,\n",
       "          9.38468344e-01,  -9.85150131e-01,  -4.78801697e-01,\n",
       "         -9.47053834e-01],\n",
       "       [ -1.48396716e+00,  -2.79986826e+00,  -3.30202639e+00,\n",
       "         -3.19307148e+00,  -2.51863109e+00,  -1.33406005e+00,\n",
       "          4.95715671e+00,  -3.58627595e-01,  -2.82979292e-01,\n",
       "         -1.79085340e+00],\n",
       "       [ -1.24497873e+00,   4.51822393e-01,  -7.33383627e-01,\n",
       "          8.52002015e-01,  -1.57494070e+00,   6.24009987e-01,\n",
       "          3.10127511e+00,  -2.54093879e-01,   3.23521691e-01,\n",
       "         -7.74359781e-01],\n",
       "       [  4.86350849e+00,  -1.16272259e+00,  -1.44871576e+00,\n",
       "         -1.00199313e+00,   4.55952717e+00,   1.42535582e+00,\n",
       "         -2.25933260e+00,   4.29447483e+00,   3.52466741e+00,\n",
       "          1.14782119e+00],\n",
       "       [ -6.35902163e-02,   2.48068954e+00,   3.55160308e+00,\n",
       "          2.84278180e+00,   1.56218220e+00,  -2.03599677e-02,\n",
       "         -4.51788947e+00,  -2.21560180e+00,   7.84441783e-01,\n",
       "          3.12417627e-01],\n",
       "       [ -8.12301951e-01,  -5.69697355e-02,   5.93194756e-01,\n",
       "          1.82194943e+00,  -2.95300686e-01,  -4.40611329e-01,\n",
       "         -1.01710124e+00,  -4.18121775e-01,   1.38005300e+00,\n",
       "          5.02217126e-01],\n",
       "       [ -3.82223797e+00,   8.81359846e+00,   5.45899793e+00,\n",
       "          9.15934487e+00,  -1.44041800e+00,   3.58358819e+00,\n",
       "          2.53250984e+00,  -6.19191035e+00,   2.90486843e+00,\n",
       "         -3.38762797e+00],\n",
       "       [ -2.98513375e-01,   3.20177498e+00,   1.63115291e+00,\n",
       "          3.00041788e+00,   8.84857089e-01,   1.54771598e+00,\n",
       "          9.85679140e-01,  -2.40373188e+00,   3.25154563e+00,\n",
       "         -2.28052680e+00],\n",
       "       [ -1.74793605e+00,   2.76715507e+00,   2.16044155e+00,\n",
       "          4.12430452e+00,  -6.19305346e-01,   8.20863676e-01,\n",
       "          6.47395337e-02,  -2.29420046e+00,   1.88181243e+00,\n",
       "         -7.63387732e-01],\n",
       "       [ -1.36876349e+00,   1.41754389e+00,   4.42530837e-01,\n",
       "          1.94389689e+00,  -1.02903085e+00,   6.40070267e-01,\n",
       "          1.90756414e+00,  -1.36269142e+00,   1.12086615e+00,\n",
       "         -1.09208141e+00],\n",
       "       [  2.73393887e+00,  -2.28481114e+00,  -2.40214868e+00,\n",
       "         -4.03346451e+00,   1.37519117e+00,   1.51118040e-01,\n",
       "          3.25290857e-01,   3.31297443e+00,  -1.54818493e+00,\n",
       "          8.44747931e-01],\n",
       "       [  1.29920512e+00,  -2.68875695e+00,  -6.22084132e-01,\n",
       "         -1.21721933e+00,   1.65414889e+00,  -1.77061504e+00,\n",
       "         -3.30528346e+00,   9.28163965e-01,   1.91512611e+00,\n",
       "          1.01770661e+00],\n",
       "       [ -2.59955118e+00,   4.38385155e+00,   2.36770390e+00,\n",
       "          4.84062563e+00,  -1.56153010e+00,   1.84754484e+00,\n",
       "          2.52527443e+00,  -3.25723775e+00,   1.46001091e+00,\n",
       "         -1.94860225e+00],\n",
       "       [ -1.21908771e+00,   5.30643871e+00,   3.09930650e+00,\n",
       "          6.36343062e+00,  -1.21038617e+00,   3.75263334e+00,\n",
       "          5.27928396e-01,   9.04244784e-01,  -1.81131974e+00,\n",
       "          1.98215595e+00],\n",
       "       [ -1.07276364e+00,   4.08461720e+00,   1.23809460e+00,\n",
       "          3.91650915e+00,  -6.83796713e-01,   2.82344062e+00,\n",
       "          3.43591183e+00,  -1.32012988e+00,   1.59618414e+00,\n",
       "         -1.71649350e+00]])"
      ]
     },
     "execution_count": 49,
     "metadata": {},
     "output_type": "execute_result"
    }
   ],
   "source": [
    "features"
   ]
  },
  {
   "cell_type": "code",
   "execution_count": 50,
   "metadata": {},
   "outputs": [
    {
     "data": {
      "text/html": [
       "<div>\n",
       "<style>\n",
       "    .dataframe thead tr:only-child th {\n",
       "        text-align: right;\n",
       "    }\n",
       "\n",
       "    .dataframe thead th {\n",
       "        text-align: left;\n",
       "    }\n",
       "\n",
       "    .dataframe tbody tr th {\n",
       "        vertical-align: top;\n",
       "    }\n",
       "</style>\n",
       "<table border=\"1\" class=\"dataframe\">\n",
       "  <thead>\n",
       "    <tr style=\"text-align: right;\">\n",
       "      <th></th>\n",
       "      <th>0</th>\n",
       "      <th>1</th>\n",
       "      <th>2</th>\n",
       "      <th>3</th>\n",
       "      <th>4</th>\n",
       "      <th>5</th>\n",
       "      <th>6</th>\n",
       "      <th>7</th>\n",
       "      <th>8</th>\n",
       "      <th>9</th>\n",
       "    </tr>\n",
       "  </thead>\n",
       "  <tbody>\n",
       "    <tr>\n",
       "      <th>0</th>\n",
       "      <td>1.441414</td>\n",
       "      <td>-0.916708</td>\n",
       "      <td>-0.775032</td>\n",
       "      <td>0.013615</td>\n",
       "      <td>0.601059</td>\n",
       "      <td>0.713132</td>\n",
       "      <td>-0.991838</td>\n",
       "      <td>3.420165</td>\n",
       "      <td>-0.812028</td>\n",
       "      <td>2.431427</td>\n",
       "    </tr>\n",
       "    <tr>\n",
       "      <th>1</th>\n",
       "      <td>-2.219672</td>\n",
       "      <td>1.715671</td>\n",
       "      <td>0.308848</td>\n",
       "      <td>2.504583</td>\n",
       "      <td>-2.532940</td>\n",
       "      <td>1.173585</td>\n",
       "      <td>3.065706</td>\n",
       "      <td>-0.445839</td>\n",
       "      <td>-0.940863</td>\n",
       "      <td>-0.068456</td>\n",
       "    </tr>\n",
       "    <tr>\n",
       "      <th>2</th>\n",
       "      <td>0.918231</td>\n",
       "      <td>-0.755629</td>\n",
       "      <td>-0.060911</td>\n",
       "      <td>-0.330707</td>\n",
       "      <td>1.532256</td>\n",
       "      <td>-0.675979</td>\n",
       "      <td>-1.508146</td>\n",
       "      <td>-0.404230</td>\n",
       "      <td>2.422086</td>\n",
       "      <td>-0.542383</td>\n",
       "    </tr>\n",
       "    <tr>\n",
       "      <th>3</th>\n",
       "      <td>-3.891035</td>\n",
       "      <td>4.598952</td>\n",
       "      <td>2.820962</td>\n",
       "      <td>5.745427</td>\n",
       "      <td>-2.866547</td>\n",
       "      <td>1.597209</td>\n",
       "      <td>2.673731</td>\n",
       "      <td>-3.683162</td>\n",
       "      <td>0.449034</td>\n",
       "      <td>-1.439651</td>\n",
       "    </tr>\n",
       "    <tr>\n",
       "      <th>4</th>\n",
       "      <td>-0.349372</td>\n",
       "      <td>1.981992</td>\n",
       "      <td>-0.246641</td>\n",
       "      <td>0.667258</td>\n",
       "      <td>-0.577642</td>\n",
       "      <td>1.735611</td>\n",
       "      <td>3.606923</td>\n",
       "      <td>-0.647204</td>\n",
       "      <td>0.310997</td>\n",
       "      <td>-1.775320</td>\n",
       "    </tr>\n",
       "  </tbody>\n",
       "</table>\n",
       "</div>"
      ],
      "text/plain": [
       "          0         1         2         3         4         5         6  \\\n",
       "0  1.441414 -0.916708 -0.775032  0.013615  0.601059  0.713132 -0.991838   \n",
       "1 -2.219672  1.715671  0.308848  2.504583 -2.532940  1.173585  3.065706   \n",
       "2  0.918231 -0.755629 -0.060911 -0.330707  1.532256 -0.675979 -1.508146   \n",
       "3 -3.891035  4.598952  2.820962  5.745427 -2.866547  1.597209  2.673731   \n",
       "4 -0.349372  1.981992 -0.246641  0.667258 -0.577642  1.735611  3.606923   \n",
       "\n",
       "          7         8         9  \n",
       "0  3.420165 -0.812028  2.431427  \n",
       "1 -0.445839 -0.940863 -0.068456  \n",
       "2 -0.404230  2.422086 -0.542383  \n",
       "3 -3.683162  0.449034 -1.439651  \n",
       "4 -0.647204  0.310997 -1.775320  "
      ]
     },
     "execution_count": 50,
     "metadata": {},
     "output_type": "execute_result"
    }
   ],
   "source": [
    "# View the first five observations and their 10 features\n",
    "pd.DataFrame(features).head()"
   ]
  },
  {
   "cell_type": "code",
   "execution_count": 51,
   "metadata": {},
   "outputs": [
    {
     "data": {
      "text/html": [
       "<div>\n",
       "<style>\n",
       "    .dataframe thead tr:only-child th {\n",
       "        text-align: right;\n",
       "    }\n",
       "\n",
       "    .dataframe thead th {\n",
       "        text-align: left;\n",
       "    }\n",
       "\n",
       "    .dataframe tbody tr th {\n",
       "        vertical-align: top;\n",
       "    }\n",
       "</style>\n",
       "<table border=\"1\" class=\"dataframe\">\n",
       "  <thead>\n",
       "    <tr style=\"text-align: right;\">\n",
       "      <th></th>\n",
       "      <th>0</th>\n",
       "    </tr>\n",
       "  </thead>\n",
       "  <tbody>\n",
       "    <tr>\n",
       "      <th>0</th>\n",
       "      <td>1</td>\n",
       "    </tr>\n",
       "    <tr>\n",
       "      <th>1</th>\n",
       "      <td>0</td>\n",
       "    </tr>\n",
       "    <tr>\n",
       "      <th>2</th>\n",
       "      <td>2</td>\n",
       "    </tr>\n",
       "    <tr>\n",
       "      <th>3</th>\n",
       "      <td>2</td>\n",
       "    </tr>\n",
       "    <tr>\n",
       "      <th>4</th>\n",
       "      <td>2</td>\n",
       "    </tr>\n",
       "  </tbody>\n",
       "</table>\n",
       "</div>"
      ],
      "text/plain": [
       "   0\n",
       "0  1\n",
       "1  0\n",
       "2  2\n",
       "3  2\n",
       "4  2"
      ]
     },
     "execution_count": 51,
     "metadata": {},
     "output_type": "execute_result"
    }
   ],
   "source": [
    "# View the first five observation's classes\n",
    "pd.DataFrame(output).head()"
   ]
  },
  {
   "cell_type": "markdown",
   "metadata": {
    "collapsed": true
   },
   "source": [
    "# Make Simulated Data For Clustering\n"
   ]
  },
  {
   "cell_type": "code",
   "execution_count": 97,
   "metadata": {
    "collapsed": true
   },
   "outputs": [],
   "source": [
    "from sklearn.datasets import make_blobs\n",
    "import matplotlib.pyplot as plt"
   ]
  },
  {
   "cell_type": "code",
   "execution_count": 98,
   "metadata": {
    "collapsed": true
   },
   "outputs": [],
   "source": [
    "# Make the features (X) and output (y) with 200 samples,\n",
    "X, y = make_blobs(n_samples = 200,\n",
    "                  # two feature variables,\n",
    "                  n_features = 2,\n",
    "                  # three clusters,\n",
    "                  centers = 3,\n",
    "                  # with .5 cluster standard deviation,\n",
    "                  cluster_std = 0.5,\n",
    "                  # shuffled,\n",
    "                  shuffle = True)"
   ]
  },
  {
   "cell_type": "code",
   "execution_count": 99,
   "metadata": {},
   "outputs": [
    {
     "data": {
      "image/png": "[encoded data removed]",
      "text/plain": [
       "<matplotlib.figure.Figure at 0x7f90f3e03e80>"
      ]
     },
     "metadata": {},
     "output_type": "display_data"
    }
   ],
   "source": [
    "# Create a scatterplot of the first and second features\n",
    "plt.scatter(X[:,0],\n",
    "            X[:,1])\n",
    "\n",
    "# Show the scatterplot\n",
    "plt.show()"
   ]
  },
  {
   "cell_type": "markdown",
   "metadata": {},
   "source": [
    "# Make Simulated Data For Regression\n"
   ]
  },
  {
   "cell_type": "code",
   "execution_count": 106,
   "metadata": {
    "collapsed": true
   },
   "outputs": [],
   "source": [
    "import pandas as pd\n",
    "from sklearn.datasets import make_regression"
   ]
  },
  {
   "cell_type": "code",
   "execution_count": 107,
   "metadata": {
    "collapsed": true
   },
   "outputs": [],
   "source": [
    "# Generate fetures, outputs, and true coefficient of 100 samples,\n",
    "features, output, coef = make_regression(n_samples = 100,\n",
    "                                         # three features\n",
    "                                         n_features = 3,\n",
    "                                         # where only two features are useful,\n",
    "                                         n_informative = 2,\n",
    "                                         # a single target value per observation\n",
    "                                         n_targets = 1,\n",
    "                                         # 0.0 standard deviation of the guassian noise\n",
    "                                         noise = 0.0,\n",
    "                                         # show the true coefficient used to generated the data\n",
    "                                         coef = True)"
   ]
  },
  {
   "cell_type": "code",
   "execution_count": 108,
   "metadata": {},
   "outputs": [
    {
     "data": {
      "text/plain": [
       "array([[ 1.23217602,  0.09958144,  0.62131953],\n",
       "       [-0.62600181, -0.80521789, -0.24478364],\n",
       "       [ 0.5088655 ,  2.07580426,  0.89755867],\n",
       "       [ 3.16915137,  0.39539188, -0.81659323],\n",
       "       [ 0.39210605,  0.97199786,  0.0120419 ],\n",
       "       [-2.17736088, -0.23475619,  0.86346191],\n",
       "       [ 1.04010998, -1.3054648 , -0.533982  ],\n",
       "       [ 0.44984655, -0.3363464 ,  1.19883906],\n",
       "       [-2.3811134 , -0.01716452, -0.1761781 ],\n",
       "       [-1.2055752 ,  0.74957257, -1.34261661],\n",
       "       [-0.70947289, -0.62626748,  0.96600677],\n",
       "       [-0.24248387, -1.76859936, -0.77245936],\n",
       "       [-2.32550625, -1.04683913,  0.65126067],\n",
       "       [ 0.45285474,  2.06266075,  1.14718723],\n",
       "       [ 0.45003731, -1.62119275,  0.53831819],\n",
       "       [-2.09720442,  1.32689864, -0.71696806],\n",
       "       [-2.57252591,  0.5157806 ,  1.26848175],\n",
       "       [ 0.561392  , -1.00541117, -0.4876073 ],\n",
       "       [-0.34110743, -0.93890928,  0.90351878],\n",
       "       [ 0.40830453, -0.38669101,  2.0492722 ],\n",
       "       [ 1.27597849,  1.41208834, -1.37321527],\n",
       "       [-0.51846261,  1.373021  , -0.71244664],\n",
       "       [-1.99758011,  0.31008248, -0.52289023],\n",
       "       [ 0.81419526, -1.27934405,  0.76541305],\n",
       "       [ 0.36325838, -0.56090164, -0.25598084],\n",
       "       [-0.7396511 ,  1.89031161,  1.73789724],\n",
       "       [-1.01489051, -1.96535342,  0.80227016],\n",
       "       [-1.73660283, -0.22205476, -0.86416203],\n",
       "       [-1.2269789 ,  0.48304516, -0.05739284],\n",
       "       [ 0.19255086,  0.92462509,  0.71001878],\n",
       "       [ 0.19963815, -1.67177538, -0.81624409],\n",
       "       [-2.39247556,  0.4453198 ,  1.58004697],\n",
       "       [-2.45839846, -0.15050977, -0.32951445],\n",
       "       [ 0.63141647, -0.42537434,  0.81149305],\n",
       "       [ 2.15314239,  0.03847979, -1.23787396],\n",
       "       [-1.41208399,  0.4668346 , -0.89987813],\n",
       "       [ 0.93817042, -2.38884927,  0.91700064],\n",
       "       [-0.54615325,  0.38120196,  0.04362011],\n",
       "       [-1.12865178, -1.61183634, -0.24359169],\n",
       "       [-0.12587721,  0.91422322,  0.83390983],\n",
       "       [ 0.34969299,  1.1770393 ,  0.45044329],\n",
       "       [ 1.31141532,  1.00527522,  0.23478448],\n",
       "       [ 0.84960509, -0.09359763,  0.28747331],\n",
       "       [ 0.66969881,  0.07615756, -1.00127877],\n",
       "       [ 0.47035034, -0.6489872 ,  1.42377987],\n",
       "       [ 0.86326306,  0.75392048,  0.36570775],\n",
       "       [ 1.60636234, -1.48801464, -1.51145108],\n",
       "       [ 0.10502611,  0.27755617,  0.56114484],\n",
       "       [-0.89273485, -0.60856366,  0.04728375],\n",
       "       [ 1.1918953 , -1.38888139, -0.76520243],\n",
       "       [-0.28883072,  0.75090583,  0.63833667],\n",
       "       [-0.84109039,  0.93397451,  0.31429129],\n",
       "       [ 0.31102218,  0.32443122, -0.22945903],\n",
       "       [ 1.87851965, -0.68224192, -0.3488922 ],\n",
       "       [ 0.22484802, -1.65821868,  1.51452473],\n",
       "       [ 1.330461  , -0.10379355, -0.27741143],\n",
       "       [ 0.79508254, -0.69096038, -0.5740266 ],\n",
       "       [-1.14354609,  1.35110261, -0.11877116],\n",
       "       [ 0.07364377,  0.07830693,  1.15502957],\n",
       "       [ 1.33373305, -0.01487649,  0.72520584],\n",
       "       [ 1.68585311, -1.83091458,  0.50015313],\n",
       "       [ 1.29660344, -2.11197724, -2.44113738],\n",
       "       [ 0.26636183, -1.46480975,  0.72515136],\n",
       "       [-0.13844711,  1.30188662, -1.26699372],\n",
       "       [ 1.62223448,  1.57833539, -0.34116046],\n",
       "       [ 0.62684391,  1.36367068,  0.10872143],\n",
       "       [ 1.84218272,  1.45569458, -1.13799884],\n",
       "       [ 0.48837052, -0.00672879,  0.66506496],\n",
       "       [-1.07547941, -0.32504823, -0.2719429 ],\n",
       "       [-0.35852156,  0.33688053, -2.27463484],\n",
       "       [-0.75765186, -1.17584014,  0.21395315],\n",
       "       [-1.0025193 , -0.1252364 , -0.78543869],\n",
       "       [-0.43630826,  0.45173272, -0.26734527],\n",
       "       [-1.31949471, -0.08264827, -0.27149649],\n",
       "       [-0.02293676, -0.33381229,  1.1912359 ],\n",
       "       [-1.45407279, -0.26198173, -1.44951716],\n",
       "       [-2.1307203 ,  0.74877586, -0.58301218],\n",
       "       [-2.28972495, -0.56397374, -0.86629482],\n",
       "       [-0.66276955, -0.33504617, -1.1796418 ],\n",
       "       [ 0.48655901,  0.93829999, -0.11507358],\n",
       "       [ 0.14232709, -0.72110397,  0.93621758],\n",
       "       [ 0.82960778, -0.05718888,  1.5407864 ],\n",
       "       [-1.09789803, -0.24949778,  1.2175153 ],\n",
       "       [ 1.56429578,  0.19956312, -0.17443227],\n",
       "       [ 0.68169541,  2.61462785, -0.10248384],\n",
       "       [-0.23316818, -1.51377464,  1.0044444 ],\n",
       "       [-0.88274762,  1.33904637,  0.09280846],\n",
       "       [ 0.33560505, -1.24296194,  0.29813508],\n",
       "       [ 0.2488711 ,  1.99427055, -0.44275938],\n",
       "       [ 0.65427107,  0.80633163,  0.85013481],\n",
       "       [ 0.41076567,  0.55769101, -1.28197763],\n",
       "       [ 0.67648936,  1.05735604,  0.4583784 ],\n",
       "       [-0.44500745,  1.06841711, -1.33133627],\n",
       "       [ 1.10322844,  0.48776512,  0.70794645],\n",
       "       [ 2.28493008, -0.87458716,  1.17132313],\n",
       "       [-0.45767856,  0.63439125,  0.91076864],\n",
       "       [-0.52712579,  1.41524307,  0.37580376],\n",
       "       [ 0.70832349,  0.98430681, -0.41265514],\n",
       "       [-0.29855754, -0.68799521, -0.92570203],\n",
       "       [ 0.10417462,  0.94186415,  0.03119132]])"
      ]
     },
     "execution_count": 108,
     "metadata": {},
     "output_type": "execute_result"
    }
   ],
   "source": [
    "features"
   ]
  },
  {
   "cell_type": "code",
   "execution_count": 109,
   "metadata": {},
   "outputs": [
    {
     "data": {
      "text/plain": [
       "array([  57.38509374,  -54.22838521,   91.30571259,  152.22173022,\n",
       "         49.50508221, -103.35772735,    2.27013134,    8.5664715 ,\n",
       "       -105.06980752,  -28.0026323 ,  -51.94563807,  -69.40750361,\n",
       "       -136.84262319,   88.41085631,  -34.11704287,  -47.95045023,\n",
       "        -95.76200189,   -8.76932385,  -46.16747324,    5.07051284,\n",
       "        102.91841453,   22.86801465,  -77.364242  ,   -6.7766255 ,\n",
       "         -2.69495589,   30.34889127, -109.84356172,  -83.5922278 ,\n",
       "        -37.79793995,   39.1731752 ,  -46.78698491,  -90.20138301,\n",
       "       -112.8922955 ,   13.57684476,   95.77313405,  -46.46024449,\n",
       "        -38.20153707,  -11.30263983, -103.08978775,   24.85275666,\n",
       "         54.4566674 ,   90.95635043,   34.17646964,   31.92145108,\n",
       "         -0.92187051,   62.9365543 ,   21.05551672,   13.83168418,\n",
       "        -59.40017287,    6.15980271,   12.27466191,   -5.87938941,\n",
       "         24.42972317,   59.77323008,  -45.23015238,   54.9409207 ,\n",
       "         11.93493839,   -5.29319473,    5.833913  ,   58.03898799,\n",
       "         13.1504978 ,  -13.27136343,  -36.98180052,   37.18208512,\n",
       "        123.63841524,   72.82118223,  129.21622844,   21.20944627,\n",
       "        -57.99981606,   -4.54076139,  -72.32083752,  -48.15863569,\n",
       "         -4.13835137,  -60.65459048,  -12.09827922,  -72.51954796,\n",
       "        -68.63077409, -119.22801593,  -40.21949964,   52.53063473,\n",
       "        -17.71400567,   34.50861333,  -56.47336532,   75.28288595,\n",
       "        116.7942824 ,  -60.53154788,    5.75182357,  -26.57154763,\n",
       "         77.18624781,   55.50603937,   36.55772423,   64.8219752 ,\n",
       "         15.97058341,   64.6242644 ,   71.21818892,    0.99301164,\n",
       "         23.89073778,   63.79185029,  -35.96291463,   35.86742959])"
      ]
     },
     "execution_count": 109,
     "metadata": {},
     "output_type": "execute_result"
    }
   ],
   "source": [
    "output"
   ]
  },
  {
   "cell_type": "code",
   "execution_count": 110,
   "metadata": {},
   "outputs": [
    {
     "data": {
      "text/plain": [
       "array([ 43.88681273,  33.22723105,   0.        ])"
      ]
     },
     "execution_count": 110,
     "metadata": {},
     "output_type": "execute_result"
    }
   ],
   "source": [
    "coef"
   ]
  },
  {
   "cell_type": "code",
   "execution_count": 114,
   "metadata": {},
   "outputs": [
    {
     "data": {
      "text/html": [
       "<div>\n",
       "<style>\n",
       "    .dataframe thead tr:only-child th {\n",
       "        text-align: right;\n",
       "    }\n",
       "\n",
       "    .dataframe thead th {\n",
       "        text-align: left;\n",
       "    }\n",
       "\n",
       "    .dataframe tbody tr th {\n",
       "        vertical-align: top;\n",
       "    }\n",
       "</style>\n",
       "<table border=\"1\" class=\"dataframe\">\n",
       "  <thead>\n",
       "    <tr style=\"text-align: right;\">\n",
       "      <th></th>\n",
       "      <th>Grow Shop</th>\n",
       "      <th>Smart Shop</th>\n",
       "      <th>Night Club</th>\n",
       "    </tr>\n",
       "  </thead>\n",
       "  <tbody>\n",
       "    <tr>\n",
       "      <th>0</th>\n",
       "      <td>1.232176</td>\n",
       "      <td>0.099581</td>\n",
       "      <td>0.621320</td>\n",
       "    </tr>\n",
       "    <tr>\n",
       "      <th>1</th>\n",
       "      <td>-0.626002</td>\n",
       "      <td>-0.805218</td>\n",
       "      <td>-0.244784</td>\n",
       "    </tr>\n",
       "    <tr>\n",
       "      <th>2</th>\n",
       "      <td>0.508865</td>\n",
       "      <td>2.075804</td>\n",
       "      <td>0.897559</td>\n",
       "    </tr>\n",
       "    <tr>\n",
       "      <th>3</th>\n",
       "      <td>3.169151</td>\n",
       "      <td>0.395392</td>\n",
       "      <td>-0.816593</td>\n",
       "    </tr>\n",
       "    <tr>\n",
       "      <th>4</th>\n",
       "      <td>0.392106</td>\n",
       "      <td>0.971998</td>\n",
       "      <td>0.012042</td>\n",
       "    </tr>\n",
       "  </tbody>\n",
       "</table>\n",
       "</div>"
      ],
      "text/plain": [
       "   Grow Shop  Smart Shop   Night Club \n",
       "0   1.232176    0.099581      0.621320\n",
       "1  -0.626002   -0.805218     -0.244784\n",
       "2   0.508865    2.075804      0.897559\n",
       "3   3.169151    0.395392     -0.816593\n",
       "4   0.392106    0.971998      0.012042"
      ]
     },
     "execution_count": 114,
     "metadata": {},
     "output_type": "execute_result"
    }
   ],
   "source": [
    "# View the features of the first five rows\n",
    "pd.DataFrame(features, columns=['Grow Shop', 'Smart Shop', ' Night Club ']).head()"
   ]
  },
  {
   "cell_type": "code",
   "execution_count": 117,
   "metadata": {},
   "outputs": [
    {
     "data": {
      "text/html": [
       "<div>\n",
       "<style>\n",
       "    .dataframe thead tr:only-child th {\n",
       "        text-align: right;\n",
       "    }\n",
       "\n",
       "    .dataframe thead th {\n",
       "        text-align: left;\n",
       "    }\n",
       "\n",
       "    .dataframe tbody tr th {\n",
       "        vertical-align: top;\n",
       "    }\n",
       "</style>\n",
       "<table border=\"1\" class=\"dataframe\">\n",
       "  <thead>\n",
       "    <tr style=\"text-align: right;\">\n",
       "      <th></th>\n",
       "      <th>Ventas</th>\n",
       "    </tr>\n",
       "  </thead>\n",
       "  <tbody>\n",
       "    <tr>\n",
       "      <th>0</th>\n",
       "      <td>57.385094</td>\n",
       "    </tr>\n",
       "    <tr>\n",
       "      <th>1</th>\n",
       "      <td>-54.228385</td>\n",
       "    </tr>\n",
       "    <tr>\n",
       "      <th>2</th>\n",
       "      <td>91.305713</td>\n",
       "    </tr>\n",
       "    <tr>\n",
       "      <th>3</th>\n",
       "      <td>152.221730</td>\n",
       "    </tr>\n",
       "    <tr>\n",
       "      <th>4</th>\n",
       "      <td>49.505082</td>\n",
       "    </tr>\n",
       "  </tbody>\n",
       "</table>\n",
       "</div>"
      ],
      "text/plain": [
       "       Ventas\n",
       "0   57.385094\n",
       "1  -54.228385\n",
       "2   91.305713\n",
       "3  152.221730\n",
       "4   49.505082"
      ]
     },
     "execution_count": 117,
     "metadata": {},
     "output_type": "execute_result"
    }
   ],
   "source": [
    "# View the output of the first five rows\n",
    "pd.DataFrame(output, columns=['Ventas']).head()"
   ]
  },
  {
   "cell_type": "code",
   "execution_count": 119,
   "metadata": {},
   "outputs": [
    {
     "data": {
      "text/html": [
       "<div>\n",
       "<style>\n",
       "    .dataframe thead tr:only-child th {\n",
       "        text-align: right;\n",
       "    }\n",
       "\n",
       "    .dataframe thead th {\n",
       "        text-align: left;\n",
       "    }\n",
       "\n",
       "    .dataframe tbody tr th {\n",
       "        vertical-align: top;\n",
       "    }\n",
       "</style>\n",
       "<table border=\"1\" class=\"dataframe\">\n",
       "  <thead>\n",
       "    <tr style=\"text-align: right;\">\n",
       "      <th></th>\n",
       "      <th>True Coefficient Values</th>\n",
       "    </tr>\n",
       "  </thead>\n",
       "  <tbody>\n",
       "    <tr>\n",
       "      <th>0</th>\n",
       "      <td>43.886813</td>\n",
       "    </tr>\n",
       "    <tr>\n",
       "      <th>1</th>\n",
       "      <td>33.227231</td>\n",
       "    </tr>\n",
       "    <tr>\n",
       "      <th>2</th>\n",
       "      <td>0.000000</td>\n",
       "    </tr>\n",
       "  </tbody>\n",
       "</table>\n",
       "</div>"
      ],
      "text/plain": [
       "   True Coefficient Values\n",
       "0                43.886813\n",
       "1                33.227231\n",
       "2                 0.000000"
      ]
     },
     "execution_count": 119,
     "metadata": {},
     "output_type": "execute_result"
    }
   ],
   "source": [
    "# View the actual, true coefficients used to generate the data\n",
    "pd.DataFrame(coef, columns=['True Coefficient Values'])"
   ]
  },
  {
   "cell_type": "markdown",
   "metadata": {},
   "source": [
    "# PERCEPTRON\n",
    "    \n"
   ]
  },
  {
   "cell_type": "code",
   "execution_count": 121,
   "metadata": {
    "collapsed": true
   },
   "outputs": [],
   "source": [
    "# Load required libraries\n",
    "from sklearn import datasets\n",
    "from sklearn.preprocessing import StandardScaler\n",
    "from sklearn.linear_model import Perceptron\n",
    "from sklearn.model_selection import train_test_split\n",
    "from sklearn.metrics import accuracy_score\n",
    "import numpy as np"
   ]
  },
  {
   "cell_type": "code",
   "execution_count": 123,
   "metadata": {},
   "outputs": [
    {
     "name": "stdout",
     "output_type": "stream",
     "text": [
      "dict_keys(['data', 'target', 'target_names', 'DESCR', 'feature_names'])\n"
     ]
    }
   ],
   "source": [
    "# Load Iris Data Set\n",
    "\n",
    "iris = datasets.load_iris()\n",
    "\n",
    "# Create out X and y data\n",
    "print(iris.keys())\n",
    "\n",
    "X = iris.data\n",
    "y = iris.target"
   ]
  },
  {
   "cell_type": "code",
   "execution_count": 126,
   "metadata": {},
   "outputs": [
    {
     "data": {
      "text/plain": [
       "array([[ 5.1,  3.5,  1.4,  0.2],\n",
       "       [ 4.9,  3. ,  1.4,  0.2],\n",
       "       [ 4.7,  3.2,  1.3,  0.2],\n",
       "       [ 4.6,  3.1,  1.5,  0.2],\n",
       "       [ 5. ,  3.6,  1.4,  0.2]])"
      ]
     },
     "execution_count": 126,
     "metadata": {},
     "output_type": "execute_result"
    }
   ],
   "source": [
    "X[:5]"
   ]
  },
  {
   "cell_type": "code",
   "execution_count": 127,
   "metadata": {},
   "outputs": [
    {
     "data": {
      "text/plain": [
       "array([0, 0, 0, 0, 0])"
      ]
     },
     "execution_count": 127,
     "metadata": {},
     "output_type": "execute_result"
    }
   ],
   "source": [
    "y[:5]"
   ]
  },
  {
   "cell_type": "markdown",
   "metadata": {},
   "source": [
    "# Split The Iris Data Into Training And Test"
   ]
  },
  {
   "cell_type": "code",
   "execution_count": 128,
   "metadata": {
    "collapsed": true
   },
   "outputs": [],
   "source": [
    "# Split the data into 70% training data and 30% test data\n",
    "X_train, X_test, y_train, y_test = train_test_split(X, y, test_size=0.3)"
   ]
  },
  {
   "cell_type": "code",
   "execution_count": 133,
   "metadata": {},
   "outputs": [
    {
     "data": {
      "text/plain": [
       "StandardScaler(copy=True, with_mean=True, with_std=True)"
      ]
     },
     "execution_count": 133,
     "metadata": {},
     "output_type": "execute_result"
    }
   ],
   "source": [
    "# Train the scaler, which standarizes all the features to have mean=0 and unit variance\n",
    "sc = StandardScaler()\n",
    "sc.fit(X_train)"
   ]
  },
  {
   "cell_type": "code",
   "execution_count": 134,
   "metadata": {
    "collapsed": true
   },
   "outputs": [],
   "source": [
    "# Apply the scaler to the X training data\n",
    "X_train_std = sc.transform(X_train)\n",
    "\n",
    "# Apply the SAME scaler to the X test data\n",
    "X_test_std = sc.transform(X_test)"
   ]
  },
  {
   "cell_type": "code",
   "execution_count": 138,
   "metadata": {},
   "outputs": [
    {
     "data": {
      "text/plain": [
       "Perceptron(alpha=0.0001, class_weight=None, eta0=0.1, fit_intercept=True,\n",
       "      max_iter=40, n_iter=None, n_jobs=1, penalty=None, random_state=0,\n",
       "      shuffle=True, tol=None, verbose=0, warm_start=False)"
      ]
     },
     "execution_count": 138,
     "metadata": {},
     "output_type": "execute_result"
    }
   ],
   "source": [
    "##Train A Perceptron Learner\n",
    "\n",
    "# Create a perceptron object with the parameters: 40 iterations (epochs) over the data, and a learning rate of 0.1\n",
    "ppn = Perceptron(max_iter=40, eta0=0.1, random_state=0)\n",
    "\n",
    "# Train the perceptron\n",
    "ppn.fit(X_train_std, y_train)"
   ]
  },
  {
   "cell_type": "code",
   "execution_count": 139,
   "metadata": {
    "collapsed": true
   },
   "outputs": [],
   "source": [
    "# Apply the trained perceptron on the X data to make predicts for the y test data\n",
    "y_pred = ppn.predict(X_test_std)"
   ]
  },
  {
   "cell_type": "code",
   "execution_count": 140,
   "metadata": {},
   "outputs": [
    {
     "data": {
      "text/plain": [
       "array([2, 1, 2, 2, 0, 2, 0, 1, 2, 0, 0, 2, 2, 1, 0, 2, 0, 2, 2, 1, 1, 0, 0,\n",
       "       1, 0, 1, 0, 2, 2, 2, 2, 0, 0, 2, 0, 1, 2, 1, 0, 1, 1, 1, 2, 2, 0])"
      ]
     },
     "execution_count": 140,
     "metadata": {},
     "output_type": "execute_result"
    }
   ],
   "source": [
    "#Compare The Predicted Y With The True Y\n",
    "\n",
    "# View the predicted y test data\n",
    "y_pred"
   ]
  },
  {
   "cell_type": "code",
   "execution_count": 141,
   "metadata": {},
   "outputs": [
    {
     "data": {
      "text/plain": [
       "array([2, 1, 1, 2, 0, 2, 0, 1, 2, 0, 1, 2, 2, 2, 0, 1, 1, 2, 2, 0, 1, 0, 0,\n",
       "       1, 0, 1, 0, 2, 2, 1, 2, 0, 0, 2, 0, 1, 2, 1, 0, 1, 1, 1, 1, 2, 1])"
      ]
     },
     "execution_count": 141,
     "metadata": {},
     "output_type": "execute_result"
    }
   ],
   "source": [
    "# View the true y test data\n",
    "y_test"
   ]
  },
  {
   "cell_type": "code",
   "execution_count": 151,
   "metadata": {},
   "outputs": [
    {
     "name": "stdout",
     "output_type": "stream",
     "text": [
      "Accuracy: 0.80\n"
     ]
    }
   ],
   "source": [
    "# View the accuracy of the model, which is: 1 - (observations predicted wrong / total observations)\n",
    "print('Accuracy: %.2f' % accuracy_score(y_test, y_pred))"
   ]
  },
  {
   "cell_type": "markdown",
   "metadata": {},
   "source": [
    "# Saving Machine Learning Models\n"
   ]
  },
  {
   "cell_type": "code",
   "execution_count": 157,
   "metadata": {
    "collapsed": true
   },
   "outputs": [],
   "source": [
    "from sklearn.linear_model import LogisticRegression\n",
    "from sklearn import datasets\n",
    "import pickle\n",
    "from sklearn.externals import joblib"
   ]
  },
  {
   "cell_type": "code",
   "execution_count": 158,
   "metadata": {
    "collapsed": true
   },
   "outputs": [],
   "source": [
    "# Load the iris data\n",
    "iris = datasets.load_iris()\n",
    "\n",
    "# Create a matrix, X, of features and a vector, y.\n",
    "X, y = iris.data, iris.target"
   ]
  },
  {
   "cell_type": "code",
   "execution_count": 159,
   "metadata": {},
   "outputs": [
    {
     "data": {
      "text/plain": [
       "LogisticRegression(C=1.0, class_weight=None, dual=False, fit_intercept=True,\n",
       "          intercept_scaling=1, max_iter=100, multi_class='ovr', n_jobs=1,\n",
       "          penalty='l2', random_state=0, solver='liblinear', tol=0.0001,\n",
       "          verbose=0, warm_start=False)"
      ]
     },
     "execution_count": 159,
     "metadata": {},
     "output_type": "execute_result"
    }
   ],
   "source": [
    "# Train a naive logistic regression model\n",
    "clf = LogisticRegression(random_state=0)\n",
    "clf.fit(X, y)  "
   ]
  },
  {
   "cell_type": "code",
   "execution_count": 160,
   "metadata": {
    "collapsed": true
   },
   "outputs": [],
   "source": [
    "# Save the trained model as a pickle string.\n",
    "saved_model = pickle.dumps(clf)"
   ]
  },
  {
   "cell_type": "code",
   "execution_count": 161,
   "metadata": {},
   "outputs": [
    {
     "data": {
      "text/plain": [
       "b'\\x80\\x03csklearn.linear_model.logistic\\nLogisticRegression\\nq\\x00)\\x81q\\x01}q\\x02(X\\x07\\x00\\x00\\x00penaltyq\\x03X\\x02\\x00\\x00\\x00l2q\\x04X\\x04\\x00\\x00\\x00dualq\\x05\\x89X\\x03\\x00\\x00\\x00tolq\\x06G?\\x1a6\\xe2\\xeb\\x1cC-X\\x01\\x00\\x00\\x00Cq\\x07G?\\xf0\\x00\\x00\\x00\\x00\\x00\\x00X\\r\\x00\\x00\\x00fit_interceptq\\x08\\x88X\\x11\\x00\\x00\\x00intercept_scalingq\\tK\\x01X\\x0c\\x00\\x00\\x00class_weightq\\nNX\\x0c\\x00\\x00\\x00random_stateq\\x0bK\\x00X\\x06\\x00\\x00\\x00solverq\\x0cX\\t\\x00\\x00\\x00liblinearq\\rX\\x08\\x00\\x00\\x00max_iterq\\x0eKdX\\x0b\\x00\\x00\\x00multi_classq\\x0fX\\x03\\x00\\x00\\x00ovrq\\x10X\\x07\\x00\\x00\\x00verboseq\\x11K\\x00X\\n\\x00\\x00\\x00warm_startq\\x12\\x89X\\x06\\x00\\x00\\x00n_jobsq\\x13K\\x01X\\x08\\x00\\x00\\x00classes_q\\x14cnumpy.core.multiarray\\n_reconstruct\\nq\\x15cnumpy\\nndarray\\nq\\x16K\\x00\\x85q\\x17C\\x01bq\\x18\\x87q\\x19Rq\\x1a(K\\x01K\\x03\\x85q\\x1bcnumpy\\ndtype\\nq\\x1cX\\x02\\x00\\x00\\x00i8q\\x1dK\\x00K\\x01\\x87q\\x1eRq\\x1f(K\\x03X\\x01\\x00\\x00\\x00<q NNNJ\\xff\\xff\\xff\\xffJ\\xff\\xff\\xff\\xffK\\x00tq!b\\x89C\\x18\\x00\\x00\\x00\\x00\\x00\\x00\\x00\\x00\\x01\\x00\\x00\\x00\\x00\\x00\\x00\\x00\\x02\\x00\\x00\\x00\\x00\\x00\\x00\\x00q\"tq#bX\\x05\\x00\\x00\\x00coef_q$h\\x15h\\x16K\\x00\\x85q%h\\x18\\x87q&Rq\\'(K\\x01K\\x03K\\x04\\x86q(h\\x1cX\\x02\\x00\\x00\\x00f8q)K\\x00K\\x01\\x87q*Rq+(K\\x03h NNNJ\\xff\\xff\\xff\\xffJ\\xff\\xff\\xff\\xffK\\x00tq,b\\x88C`\\x95\\x1c\\x904+\\x8f\\xda?D4\\xf6\\x7f9\\xaa\\xda?6VL\\xe5\\x05R\\xfb\\xbf\\xf9\\xad\\xd9^ya\\xf7?\\xe6\\x86\\x10B\\x03\\x9d\\xf9\\xbfY\\xa7x\\xf5\\\\\\x8c\\xf8\\xbf\\x8b$8y\\xdd\\x18\\x02\\xc0\\xcb\\x8e\\xee\\xd9+|\\xe2?R\\x10\\xf2\\xcc\\x8c\\xc4\\x03@\\xda\\xb0;l,w\\xf0\\xbf=_\\xe7W*+\\xf6\\xbf\\xe5T`-lq\\x04@q-tq.bX\\n\\x00\\x00\\x00intercept_q/h\\x15h\\x16K\\x00\\x85q0h\\x18\\x87q1Rq2(K\\x01K\\x03\\x85q3h+\\x89C\\x18\\xc9\\x86D\\x03\\xb1\\xff\\xd0?\\x92\\xcc=I\\xe5]\\xf1?\\xac\\'\\xad\\x8dxo\\xf3\\xbfq4tq5bX\\x07\\x00\\x00\\x00n_iter_q6h\\x15h\\x16K\\x00\\x85q7h\\x18\\x87q8Rq9(K\\x01K\\x01\\x85q:h\\x1cX\\x02\\x00\\x00\\x00i4q;K\\x00K\\x01\\x87q<Rq=(K\\x03h NNNJ\\xff\\xff\\xff\\xffJ\\xff\\xff\\xff\\xffK\\x00tq>b\\x89C\\x04\\x07\\x00\\x00\\x00q?tq@bX\\x10\\x00\\x00\\x00_sklearn_versionqAX\\x06\\x00\\x00\\x000.19.0qBub.'"
      ]
     },
     "execution_count": 161,
     "metadata": {},
     "output_type": "execute_result"
    }
   ],
   "source": [
    "# View the pickled model\n",
    "saved_model"
   ]
  },
  {
   "cell_type": "code",
   "execution_count": 162,
   "metadata": {},
   "outputs": [
    {
     "data": {
      "text/plain": [
       "array([0, 0, 0, 0, 0, 0, 0, 0, 0, 0, 0, 0, 0, 0, 0, 0, 0, 0, 0, 0, 0, 0, 0,\n",
       "       0, 0, 0, 0, 0, 0, 0, 0, 0, 0, 0, 0, 0, 0, 0, 0, 0, 0, 0, 0, 0, 0, 0,\n",
       "       0, 0, 0, 0, 1, 1, 1, 1, 1, 1, 1, 1, 1, 1, 1, 1, 1, 1, 1, 1, 2, 1, 1,\n",
       "       1, 2, 1, 1, 1, 1, 1, 1, 1, 1, 1, 1, 1, 1, 2, 2, 2, 1, 1, 1, 1, 1, 1,\n",
       "       1, 1, 1, 1, 1, 1, 1, 1, 2, 2, 2, 2, 2, 2, 2, 2, 2, 2, 2, 2, 2, 2, 2,\n",
       "       2, 2, 2, 2, 2, 2, 2, 2, 2, 2, 2, 2, 2, 2, 1, 2, 2, 2, 2, 2, 2, 2, 2,\n",
       "       2, 2, 2, 2, 2, 2, 2, 2, 2, 2, 2, 2])"
      ]
     },
     "execution_count": 162,
     "metadata": {},
     "output_type": "execute_result"
    }
   ],
   "source": [
    "# Load the pickled model\n",
    "clf_from_pickle = pickle.loads(saved_model)\n",
    "\n",
    "# Use the loaded pickled model to make predictions\n",
    "clf_from_pickle.predict(X)"
   ]
  },
  {
   "cell_type": "code",
   "execution_count": 163,
   "metadata": {},
   "outputs": [
    {
     "data": {
      "text/plain": [
       "['filename.pkl']"
      ]
     },
     "execution_count": 163,
     "metadata": {},
     "output_type": "execute_result"
    }
   ],
   "source": [
    "## Save To Pickled File Using joblib\n",
    "\n",
    "# Save the model as a pickle in a file\n",
    "joblib.dump(clf, 'filename.pkl') "
   ]
  },
  {
   "cell_type": "code",
   "execution_count": 164,
   "metadata": {
    "collapsed": true
   },
   "outputs": [],
   "source": [
    "# Load the model from the file\n",
    "clf_from_joblib = joblib.load('filename.pkl') "
   ]
  },
  {
   "cell_type": "code",
   "execution_count": 165,
   "metadata": {},
   "outputs": [
    {
     "data": {
      "text/plain": [
       "array([0, 0, 0, 0, 0, 0, 0, 0, 0, 0, 0, 0, 0, 0, 0, 0, 0, 0, 0, 0, 0, 0, 0,\n",
       "       0, 0, 0, 0, 0, 0, 0, 0, 0, 0, 0, 0, 0, 0, 0, 0, 0, 0, 0, 0, 0, 0, 0,\n",
       "       0, 0, 0, 0, 1, 1, 1, 1, 1, 1, 1, 1, 1, 1, 1, 1, 1, 1, 1, 1, 2, 1, 1,\n",
       "       1, 2, 1, 1, 1, 1, 1, 1, 1, 1, 1, 1, 1, 1, 2, 2, 2, 1, 1, 1, 1, 1, 1,\n",
       "       1, 1, 1, 1, 1, 1, 1, 1, 2, 2, 2, 2, 2, 2, 2, 2, 2, 2, 2, 2, 2, 2, 2,\n",
       "       2, 2, 2, 2, 2, 2, 2, 2, 2, 2, 2, 2, 2, 2, 1, 2, 2, 2, 2, 2, 2, 2, 2,\n",
       "       2, 2, 2, 2, 2, 2, 2, 2, 2, 2, 2, 2])"
      ]
     },
     "execution_count": 165,
     "metadata": {},
     "output_type": "execute_result"
    }
   ],
   "source": [
    "# Use the loaded model to make predictions\n",
    "clf_from_joblib.predict(X)"
   ]
  }
 ],
 "metadata": {
  "kernelspec": {
   "display_name": "Python 3",
   "language": "python",
   "name": "python3"
  },
  "language_info": {
   "codemirror_mode": {
    "name": "ipython",
    "version": 3
   },
   "file_extension": ".py",
   "mimetype": "text/x-python",
   "name": "python",
   "nbconvert_exporter": "python",
   "pygments_lexer": "ipython3",
   "version": "3.6.3"
  }
 },
 "nbformat": 4,
 "nbformat_minor": 2
}
